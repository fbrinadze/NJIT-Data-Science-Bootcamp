{
  "nbformat": 4,
  "nbformat_minor": 0,
  "metadata": {
    "colab": {
      "provenance": [],
      "collapsed_sections": [],
      "include_colab_link": true
    },
    "kernelspec": {
      "name": "python3",
      "display_name": "Python 3"
    },
    "language_info": {
      "name": "python"
    }
  },
  "cells": [
    {
      "cell_type": "markdown",
      "metadata": {
        "id": "view-in-github",
        "colab_type": "text"
      },
      "source": [
        "<a href=\"https://colab.research.google.com/github/fbrinadze/NJIT-Data-Science-Bootcamp/blob/main/Final_Titanic_Machine_Learning_Final_Project.ipynb\" target=\"_parent\"><img src=\"https://colab.research.google.com/assets/colab-badge.svg\" alt=\"Open In Colab\"/></a>"
      ]
    },
    {
      "cell_type": "markdown",
      "metadata": {
        "id": "4tyzy-R6SQ6K"
      },
      "source": [
        "# Machine Learning: Final Project\n",
        "\n",
        "### Predicting Survival on the *Titanic*\n",
        "\n",
        "The final project is intended to simulate participation in a Kaggle competition. Your challenge is to build the most accurate model for predicting which passangers would survive the sinking of the *Titanic*. The ***Titanic Machine Learning Final Project.ipynb*** Colab notebook provides some guidance for tackling the project and suggests some things to think about as you get started. However, many of the model-building decisions are left up to you. \n",
        "**Note**: Use comments in your code and text blocks to explain your decisions and results.\n",
        "\n",
        "### Build a Pipeline for a Kaggle Competition!\n",
        "\n",
        "Kaggle was started in 2010 as a platform for machine learning competitions, which aim to identify how best to optimize supervised learning problems. These initiatives offer a two-way benefit. They help companies improve their internal algorithms and they provide prospective data professionals opportunities to prove their worth.\n",
        "\n",
        "Though Kaggle usually has a singular aim of maximizing a specific metric, the idea of finding the best possible algorithm and furthermore optimizing its hyperparameters is the daily task of a data scientist. Moreover, success in Kaggle can be great for a future resume (since your information is saved on their site).\n",
        "\n",
        "Obviously, the timeframe for this lesson is not realistic in terms of a typical Kaggle workflow, as competitors spend weeks or even months optimizing every piece of an algorithm they can. However, you can get started with preliminary testing and use these principles to enter your own Kaggle competitions in the future!"
      ]
    },
    {
      "cell_type": "markdown",
      "metadata": {
        "id": "cb9Fw_MKSRGj"
      },
      "source": [
        "# Step 1: Importing Libraries\n",
        "\n",
        "It is best practice to import all libraries and packages early in the process.\n",
        "\n",
        "You'll probably want to import Pandas plus some packages from scikit-learn.\n",
        "\n",
        "| Type | Path | Regression | Classification |\n",
        "| --- | --- | --- | --- |\n",
        "| **Linear Models** | `sklearn.linear_model` | `LinearRegression` | `LogisticRegression` |\n",
        "|  |  |`Ridge` | `RidgeClassifier` |\n",
        "|  |  |`Lasso` |  |\n",
        "| **K Nearest Neighbors** | `sklearn.neighbors` | `KNeighborsRegressor` | `KNeighborsClassifier` |\n",
        "| **Support Vector Machines** | `sklearn.svm.` | `SVR` | `SVC` |\n",
        "| **Naive Bayes** |  `sklearn.naive_Bayes` |  |`CategoricalNB` (Categorical) |\n",
        "|  |  |  | `MultinomialNB` (Sentiment Analysis) |\n",
        "| **Decision Trees** | `sklearn.tree` | `DecisionTreeRegressor` | `DecisionTreeClassifier` |\n",
        "| **Ensemble - Random Forests** | `sklearn.ensemble` | `RandomForestRegressor` | `RandomForestClassifier`\n",
        "| **Ensemble - Boosting** | `sklearn.ensemble` | `AdaBoostRegressor` | `AdaBoostClassifier` |\n",
        "|  | `sklearn.ensemble` | `GradientBoostRegressor` | `GradientBoostClassifier` |\n",
        "\n",
        "\n",
        "\n",
        "| Type | Path | Package |\n",
        "| --- | --- | --- |\n",
        "| Preprocessing | `sklearn.preprocessing` | `StandardScaler` |\n",
        "| |`sklearn.preprocessing` | `MinMaxScaler` |\n",
        "| |`sklearn.preprocessing` | `MaxAbsScaler` |\n",
        "| Model Selection - Splitting| `sklearn.model_selection` | `train_test_split` |\n",
        "| Model Selection - Grid Search | `sklearn.model_selection` | `GridSearchCV` |\n",
        "| Model Selection - Scoring | `sklearn.model_selection` | `cross_val_score` |\n",
        "| Metrics | `sklearn.metrics` | `confusion_matrix` |\n",
        "\n",
        "\n",
        "**Note**: Use comments in your code and text blocks to explain your decisions and results.\n",
        "\n",
        "\n"
      ]
    },
    {
      "cell_type": "code",
      "metadata": {
        "id": "j-q3XVj2acth",
        "colab": {
          "base_uri": "https://localhost:8080/"
        },
        "outputId": "f0acc310-46d5-41b4-a2e3-71b46117f252"
      },
      "source": [
        "#Step 1a\n",
        "#Pip Install for external PrettyTables\n",
        "!pip install prettytable"
      ],
      "execution_count": 1,
      "outputs": [
        {
          "output_type": "stream",
          "name": "stdout",
          "text": [
            "Looking in indexes: https://pypi.org/simple, https://us-python.pkg.dev/colab-wheels/public/simple/\n",
            "Requirement already satisfied: prettytable in /usr/local/lib/python3.7/dist-packages (3.4.1)\n",
            "Requirement already satisfied: wcwidth in /usr/local/lib/python3.7/dist-packages (from prettytable) (0.2.5)\n",
            "Requirement already satisfied: importlib-metadata in /usr/local/lib/python3.7/dist-packages (from prettytable) (4.12.0)\n",
            "Requirement already satisfied: typing-extensions>=3.6.4 in /usr/local/lib/python3.7/dist-packages (from importlib-metadata->prettytable) (4.1.1)\n",
            "Requirement already satisfied: zipp>=0.5 in /usr/local/lib/python3.7/dist-packages (from importlib-metadata->prettytable) (3.8.1)\n"
          ]
        }
      ]
    },
    {
      "cell_type": "code",
      "source": [
        "#Step 1b\n",
        "#Loading libararies \n",
        "from prettytable import PrettyTable\n",
        "import pandas as pd\n",
        "import numpy as np\n",
        "from numpy import sort\n",
        "from sklearn.impute import SimpleImputer\n",
        "from datetime import datetime\n",
        "import warnings\n",
        "import matplotlib\n",
        "%matplotlib inline\n",
        "\n",
        "\n",
        "#Graphic Libraries\n",
        "import matplotlib.pyplot as plt\n",
        "import seaborn as sns\n",
        "\n",
        "#importing preprocessing\n",
        "from sklearn.preprocessing import StandardScaler, MinMaxScaler, MaxAbsScaler\n",
        "from sklearn.model_selection import train_test_split, GridSearchCV, cross_val_score\n",
        "from sklearn.preprocessing import LabelEncoder\n",
        "\n",
        "#Pipelines\n",
        "from sklearn.pipeline import Pipeline\n",
        "\n",
        "#importing models\n",
        "from sklearn.linear_model\timport LinearRegression, Ridge, Lasso, LogisticRegression\n",
        "from sklearn.discriminant_analysis import LinearDiscriminantAnalysis\n",
        "from sklearn.neighbors import KNeighborsClassifier\n",
        "from sklearn.naive_bayes import GaussianNB\n",
        "from sklearn.svm import SVC\n",
        "from sklearn.tree import DecisionTreeClassifier\n",
        "from sklearn.ensemble import RandomForestClassifier, GradientBoostingClassifier, AdaBoostClassifier\n",
        "from sklearn.model_selection import KFold\n",
        "from sklearn.metrics import roc_curve, roc_auc_score\n",
        "from sklearn.metrics import classification_report\n",
        "from sklearn.metrics import accuracy_score\n",
        "from sklearn.metrics import auc, confusion_matrix, precision_score, recall_score\n",
        "from sklearn.linear_model import SGDClassifier\n",
        "from xgboost import XGBClassifier\n",
        "from sklearn.model_selection import GridSearchCV\n",
        "from xgboost import plot_importance\n",
        "from sklearn.feature_selection import SelectFromModel\n",
        "from sklearn.model_selection import RepeatedStratifiedKFold\n",
        "\n",
        "#Dimensionality Reduction\n",
        "from sklearn.decomposition import PCA\n",
        "from sklearn.feature_selection import RFE\n",
        "from sklearn.utils.extmath import randomized_svd\n",
        "\n",
        "#For Hypertuning XGBOOST\n",
        "from sklearn.model_selection import RandomizedSearchCV"
      ],
      "metadata": {
        "id": "WxH2jlOwgt_n"
      },
      "execution_count": 71,
      "outputs": []
    },
    {
      "cell_type": "code",
      "source": [
        "#turn off all warnings\n",
        "warnings.filterwarnings('ignore')"
      ],
      "metadata": {
        "id": "FUzpG6unhSDC"
      },
      "execution_count": 3,
      "outputs": []
    },
    {
      "cell_type": "markdown",
      "metadata": {
        "id": "fd1PYNlBaZUP"
      },
      "source": [
        "#Step 2:  Load the `Titanic.csv` Data\n",
        "You may want to refer back to one of your previous Colab notebooks to copy the Google Import code.\n",
        "\n",
        "**Note**: Use comments in your code and text blocks to explain your decisions and results."
      ]
    },
    {
      "cell_type": "code",
      "metadata": {
        "id": "f2YgjFdUbh6d",
        "colab": {
          "base_uri": "https://localhost:8080/",
          "height": 73
        },
        "outputId": "35cf236e-1e9b-4559-ac64-dcab2c2f1a66"
      },
      "source": [
        "#Step 2\n",
        "from google.colab import files\n",
        "titanic = files.upload()\n",
        "\n",
        "\n"
      ],
      "execution_count": 4,
      "outputs": [
        {
          "output_type": "display_data",
          "data": {
            "text/plain": [
              "<IPython.core.display.HTML object>"
            ],
            "text/html": [
              "\n",
              "     <input type=\"file\" id=\"files-a02bc42a-074b-49e6-8b64-fbb3c212e0e9\" name=\"files[]\" multiple disabled\n",
              "        style=\"border:none\" />\n",
              "     <output id=\"result-a02bc42a-074b-49e6-8b64-fbb3c212e0e9\">\n",
              "      Upload widget is only available when the cell has been executed in the\n",
              "      current browser session. Please rerun this cell to enable.\n",
              "      </output>\n",
              "      <script>// Copyright 2017 Google LLC\n",
              "//\n",
              "// Licensed under the Apache License, Version 2.0 (the \"License\");\n",
              "// you may not use this file except in compliance with the License.\n",
              "// You may obtain a copy of the License at\n",
              "//\n",
              "//      http://www.apache.org/licenses/LICENSE-2.0\n",
              "//\n",
              "// Unless required by applicable law or agreed to in writing, software\n",
              "// distributed under the License is distributed on an \"AS IS\" BASIS,\n",
              "// WITHOUT WARRANTIES OR CONDITIONS OF ANY KIND, either express or implied.\n",
              "// See the License for the specific language governing permissions and\n",
              "// limitations under the License.\n",
              "\n",
              "/**\n",
              " * @fileoverview Helpers for google.colab Python module.\n",
              " */\n",
              "(function(scope) {\n",
              "function span(text, styleAttributes = {}) {\n",
              "  const element = document.createElement('span');\n",
              "  element.textContent = text;\n",
              "  for (const key of Object.keys(styleAttributes)) {\n",
              "    element.style[key] = styleAttributes[key];\n",
              "  }\n",
              "  return element;\n",
              "}\n",
              "\n",
              "// Max number of bytes which will be uploaded at a time.\n",
              "const MAX_PAYLOAD_SIZE = 100 * 1024;\n",
              "\n",
              "function _uploadFiles(inputId, outputId) {\n",
              "  const steps = uploadFilesStep(inputId, outputId);\n",
              "  const outputElement = document.getElementById(outputId);\n",
              "  // Cache steps on the outputElement to make it available for the next call\n",
              "  // to uploadFilesContinue from Python.\n",
              "  outputElement.steps = steps;\n",
              "\n",
              "  return _uploadFilesContinue(outputId);\n",
              "}\n",
              "\n",
              "// This is roughly an async generator (not supported in the browser yet),\n",
              "// where there are multiple asynchronous steps and the Python side is going\n",
              "// to poll for completion of each step.\n",
              "// This uses a Promise to block the python side on completion of each step,\n",
              "// then passes the result of the previous step as the input to the next step.\n",
              "function _uploadFilesContinue(outputId) {\n",
              "  const outputElement = document.getElementById(outputId);\n",
              "  const steps = outputElement.steps;\n",
              "\n",
              "  const next = steps.next(outputElement.lastPromiseValue);\n",
              "  return Promise.resolve(next.value.promise).then((value) => {\n",
              "    // Cache the last promise value to make it available to the next\n",
              "    // step of the generator.\n",
              "    outputElement.lastPromiseValue = value;\n",
              "    return next.value.response;\n",
              "  });\n",
              "}\n",
              "\n",
              "/**\n",
              " * Generator function which is called between each async step of the upload\n",
              " * process.\n",
              " * @param {string} inputId Element ID of the input file picker element.\n",
              " * @param {string} outputId Element ID of the output display.\n",
              " * @return {!Iterable<!Object>} Iterable of next steps.\n",
              " */\n",
              "function* uploadFilesStep(inputId, outputId) {\n",
              "  const inputElement = document.getElementById(inputId);\n",
              "  inputElement.disabled = false;\n",
              "\n",
              "  const outputElement = document.getElementById(outputId);\n",
              "  outputElement.innerHTML = '';\n",
              "\n",
              "  const pickedPromise = new Promise((resolve) => {\n",
              "    inputElement.addEventListener('change', (e) => {\n",
              "      resolve(e.target.files);\n",
              "    });\n",
              "  });\n",
              "\n",
              "  const cancel = document.createElement('button');\n",
              "  inputElement.parentElement.appendChild(cancel);\n",
              "  cancel.textContent = 'Cancel upload';\n",
              "  const cancelPromise = new Promise((resolve) => {\n",
              "    cancel.onclick = () => {\n",
              "      resolve(null);\n",
              "    };\n",
              "  });\n",
              "\n",
              "  // Wait for the user to pick the files.\n",
              "  const files = yield {\n",
              "    promise: Promise.race([pickedPromise, cancelPromise]),\n",
              "    response: {\n",
              "      action: 'starting',\n",
              "    }\n",
              "  };\n",
              "\n",
              "  cancel.remove();\n",
              "\n",
              "  // Disable the input element since further picks are not allowed.\n",
              "  inputElement.disabled = true;\n",
              "\n",
              "  if (!files) {\n",
              "    return {\n",
              "      response: {\n",
              "        action: 'complete',\n",
              "      }\n",
              "    };\n",
              "  }\n",
              "\n",
              "  for (const file of files) {\n",
              "    const li = document.createElement('li');\n",
              "    li.append(span(file.name, {fontWeight: 'bold'}));\n",
              "    li.append(span(\n",
              "        `(${file.type || 'n/a'}) - ${file.size} bytes, ` +\n",
              "        `last modified: ${\n",
              "            file.lastModifiedDate ? file.lastModifiedDate.toLocaleDateString() :\n",
              "                                    'n/a'} - `));\n",
              "    const percent = span('0% done');\n",
              "    li.appendChild(percent);\n",
              "\n",
              "    outputElement.appendChild(li);\n",
              "\n",
              "    const fileDataPromise = new Promise((resolve) => {\n",
              "      const reader = new FileReader();\n",
              "      reader.onload = (e) => {\n",
              "        resolve(e.target.result);\n",
              "      };\n",
              "      reader.readAsArrayBuffer(file);\n",
              "    });\n",
              "    // Wait for the data to be ready.\n",
              "    let fileData = yield {\n",
              "      promise: fileDataPromise,\n",
              "      response: {\n",
              "        action: 'continue',\n",
              "      }\n",
              "    };\n",
              "\n",
              "    // Use a chunked sending to avoid message size limits. See b/62115660.\n",
              "    let position = 0;\n",
              "    do {\n",
              "      const length = Math.min(fileData.byteLength - position, MAX_PAYLOAD_SIZE);\n",
              "      const chunk = new Uint8Array(fileData, position, length);\n",
              "      position += length;\n",
              "\n",
              "      const base64 = btoa(String.fromCharCode.apply(null, chunk));\n",
              "      yield {\n",
              "        response: {\n",
              "          action: 'append',\n",
              "          file: file.name,\n",
              "          data: base64,\n",
              "        },\n",
              "      };\n",
              "\n",
              "      let percentDone = fileData.byteLength === 0 ?\n",
              "          100 :\n",
              "          Math.round((position / fileData.byteLength) * 100);\n",
              "      percent.textContent = `${percentDone}% done`;\n",
              "\n",
              "    } while (position < fileData.byteLength);\n",
              "  }\n",
              "\n",
              "  // All done.\n",
              "  yield {\n",
              "    response: {\n",
              "      action: 'complete',\n",
              "    }\n",
              "  };\n",
              "}\n",
              "\n",
              "scope.google = scope.google || {};\n",
              "scope.google.colab = scope.google.colab || {};\n",
              "scope.google.colab._files = {\n",
              "  _uploadFiles,\n",
              "  _uploadFilesContinue,\n",
              "};\n",
              "})(self);\n",
              "</script> "
            ]
          },
          "metadata": {}
        },
        {
          "output_type": "stream",
          "name": "stdout",
          "text": [
            "Saving Titanic.csv to Titanic.csv\n"
          ]
        }
      ]
    },
    {
      "cell_type": "markdown",
      "metadata": {
        "id": "5Z0J_ay1SRPz"
      },
      "source": [
        "#Step 3: Split the Data\n",
        "\n",
        "The next step is to separate the target column from the feature matrix and perform a train/test split. \n",
        "\n",
        "*   What is the target and what are the features in the data?\n",
        "*   Are there any features that you want to drop?\n",
        "*   Is there any feature engineering that you need to do?\n",
        "\n",
        "**Note**: Use comments in your code and text blocks to explain your decisions and results.\n",
        "\n",
        " "
      ]
    },
    {
      "cell_type": "code",
      "metadata": {
        "id": "Tmaj7Zc-kBTL",
        "colab": {
          "base_uri": "https://localhost:8080/",
          "height": 205
        },
        "outputId": "e5f90f0a-7bef-49fc-db23-8d005c275936"
      },
      "source": [
        "#Step 3a\n",
        "titanic = pd.read_csv('Titanic.csv')\n",
        "titanic.head(5)\n",
        "#Survived Looks like it will be the target.  \n",
        "#Does not look like I will need PassengerId or Name at this point."
      ],
      "execution_count": 5,
      "outputs": [
        {
          "output_type": "execute_result",
          "data": {
            "text/plain": [
              "   PassengerId  Survived  Pclass  \\\n",
              "0            1         0       3   \n",
              "1            2         1       1   \n",
              "2            3         1       3   \n",
              "3            4         1       1   \n",
              "4            5         0       3   \n",
              "\n",
              "                                                Name     Sex   Age  SibSp  \\\n",
              "0                            Braund, Mr. Owen Harris    male  22.0      1   \n",
              "1  Cumings, Mrs. John Bradley (Florence Briggs Th...  female  38.0      1   \n",
              "2                             Heikkinen, Miss. Laina  female  26.0      0   \n",
              "3       Futrelle, Mrs. Jacques Heath (Lily May Peel)  female  35.0      1   \n",
              "4                           Allen, Mr. William Henry    male  35.0      0   \n",
              "\n",
              "   Parch            Ticket     Fare Cabin Embarked  \n",
              "0      0         A/5 21171   7.2500   NaN        S  \n",
              "1      0          PC 17599  71.2833   C85        C  \n",
              "2      0  STON/O2. 3101282   7.9250   NaN        S  \n",
              "3      0            113803  53.1000  C123        S  \n",
              "4      0            373450   8.0500   NaN        S  "
            ],
            "text/html": [
              "\n",
              "  <div id=\"df-1f516908-b3db-4041-925e-19fc5ed22c88\">\n",
              "    <div class=\"colab-df-container\">\n",
              "      <div>\n",
              "<style scoped>\n",
              "    .dataframe tbody tr th:only-of-type {\n",
              "        vertical-align: middle;\n",
              "    }\n",
              "\n",
              "    .dataframe tbody tr th {\n",
              "        vertical-align: top;\n",
              "    }\n",
              "\n",
              "    .dataframe thead th {\n",
              "        text-align: right;\n",
              "    }\n",
              "</style>\n",
              "<table border=\"1\" class=\"dataframe\">\n",
              "  <thead>\n",
              "    <tr style=\"text-align: right;\">\n",
              "      <th></th>\n",
              "      <th>PassengerId</th>\n",
              "      <th>Survived</th>\n",
              "      <th>Pclass</th>\n",
              "      <th>Name</th>\n",
              "      <th>Sex</th>\n",
              "      <th>Age</th>\n",
              "      <th>SibSp</th>\n",
              "      <th>Parch</th>\n",
              "      <th>Ticket</th>\n",
              "      <th>Fare</th>\n",
              "      <th>Cabin</th>\n",
              "      <th>Embarked</th>\n",
              "    </tr>\n",
              "  </thead>\n",
              "  <tbody>\n",
              "    <tr>\n",
              "      <th>0</th>\n",
              "      <td>1</td>\n",
              "      <td>0</td>\n",
              "      <td>3</td>\n",
              "      <td>Braund, Mr. Owen Harris</td>\n",
              "      <td>male</td>\n",
              "      <td>22.0</td>\n",
              "      <td>1</td>\n",
              "      <td>0</td>\n",
              "      <td>A/5 21171</td>\n",
              "      <td>7.2500</td>\n",
              "      <td>NaN</td>\n",
              "      <td>S</td>\n",
              "    </tr>\n",
              "    <tr>\n",
              "      <th>1</th>\n",
              "      <td>2</td>\n",
              "      <td>1</td>\n",
              "      <td>1</td>\n",
              "      <td>Cumings, Mrs. John Bradley (Florence Briggs Th...</td>\n",
              "      <td>female</td>\n",
              "      <td>38.0</td>\n",
              "      <td>1</td>\n",
              "      <td>0</td>\n",
              "      <td>PC 17599</td>\n",
              "      <td>71.2833</td>\n",
              "      <td>C85</td>\n",
              "      <td>C</td>\n",
              "    </tr>\n",
              "    <tr>\n",
              "      <th>2</th>\n",
              "      <td>3</td>\n",
              "      <td>1</td>\n",
              "      <td>3</td>\n",
              "      <td>Heikkinen, Miss. Laina</td>\n",
              "      <td>female</td>\n",
              "      <td>26.0</td>\n",
              "      <td>0</td>\n",
              "      <td>0</td>\n",
              "      <td>STON/O2. 3101282</td>\n",
              "      <td>7.9250</td>\n",
              "      <td>NaN</td>\n",
              "      <td>S</td>\n",
              "    </tr>\n",
              "    <tr>\n",
              "      <th>3</th>\n",
              "      <td>4</td>\n",
              "      <td>1</td>\n",
              "      <td>1</td>\n",
              "      <td>Futrelle, Mrs. Jacques Heath (Lily May Peel)</td>\n",
              "      <td>female</td>\n",
              "      <td>35.0</td>\n",
              "      <td>1</td>\n",
              "      <td>0</td>\n",
              "      <td>113803</td>\n",
              "      <td>53.1000</td>\n",
              "      <td>C123</td>\n",
              "      <td>S</td>\n",
              "    </tr>\n",
              "    <tr>\n",
              "      <th>4</th>\n",
              "      <td>5</td>\n",
              "      <td>0</td>\n",
              "      <td>3</td>\n",
              "      <td>Allen, Mr. William Henry</td>\n",
              "      <td>male</td>\n",
              "      <td>35.0</td>\n",
              "      <td>0</td>\n",
              "      <td>0</td>\n",
              "      <td>373450</td>\n",
              "      <td>8.0500</td>\n",
              "      <td>NaN</td>\n",
              "      <td>S</td>\n",
              "    </tr>\n",
              "  </tbody>\n",
              "</table>\n",
              "</div>\n",
              "      <button class=\"colab-df-convert\" onclick=\"convertToInteractive('df-1f516908-b3db-4041-925e-19fc5ed22c88')\"\n",
              "              title=\"Convert this dataframe to an interactive table.\"\n",
              "              style=\"display:none;\">\n",
              "        \n",
              "  <svg xmlns=\"http://www.w3.org/2000/svg\" height=\"24px\"viewBox=\"0 0 24 24\"\n",
              "       width=\"24px\">\n",
              "    <path d=\"M0 0h24v24H0V0z\" fill=\"none\"/>\n",
              "    <path d=\"M18.56 5.44l.94 2.06.94-2.06 2.06-.94-2.06-.94-.94-2.06-.94 2.06-2.06.94zm-11 1L8.5 8.5l.94-2.06 2.06-.94-2.06-.94L8.5 2.5l-.94 2.06-2.06.94zm10 10l.94 2.06.94-2.06 2.06-.94-2.06-.94-.94-2.06-.94 2.06-2.06.94z\"/><path d=\"M17.41 7.96l-1.37-1.37c-.4-.4-.92-.59-1.43-.59-.52 0-1.04.2-1.43.59L10.3 9.45l-7.72 7.72c-.78.78-.78 2.05 0 2.83L4 21.41c.39.39.9.59 1.41.59.51 0 1.02-.2 1.41-.59l7.78-7.78 2.81-2.81c.8-.78.8-2.07 0-2.86zM5.41 20L4 18.59l7.72-7.72 1.47 1.35L5.41 20z\"/>\n",
              "  </svg>\n",
              "      </button>\n",
              "      \n",
              "  <style>\n",
              "    .colab-df-container {\n",
              "      display:flex;\n",
              "      flex-wrap:wrap;\n",
              "      gap: 12px;\n",
              "    }\n",
              "\n",
              "    .colab-df-convert {\n",
              "      background-color: #E8F0FE;\n",
              "      border: none;\n",
              "      border-radius: 50%;\n",
              "      cursor: pointer;\n",
              "      display: none;\n",
              "      fill: #1967D2;\n",
              "      height: 32px;\n",
              "      padding: 0 0 0 0;\n",
              "      width: 32px;\n",
              "    }\n",
              "\n",
              "    .colab-df-convert:hover {\n",
              "      background-color: #E2EBFA;\n",
              "      box-shadow: 0px 1px 2px rgba(60, 64, 67, 0.3), 0px 1px 3px 1px rgba(60, 64, 67, 0.15);\n",
              "      fill: #174EA6;\n",
              "    }\n",
              "\n",
              "    [theme=dark] .colab-df-convert {\n",
              "      background-color: #3B4455;\n",
              "      fill: #D2E3FC;\n",
              "    }\n",
              "\n",
              "    [theme=dark] .colab-df-convert:hover {\n",
              "      background-color: #434B5C;\n",
              "      box-shadow: 0px 1px 3px 1px rgba(0, 0, 0, 0.15);\n",
              "      filter: drop-shadow(0px 1px 2px rgba(0, 0, 0, 0.3));\n",
              "      fill: #FFFFFF;\n",
              "    }\n",
              "  </style>\n",
              "\n",
              "      <script>\n",
              "        const buttonEl =\n",
              "          document.querySelector('#df-1f516908-b3db-4041-925e-19fc5ed22c88 button.colab-df-convert');\n",
              "        buttonEl.style.display =\n",
              "          google.colab.kernel.accessAllowed ? 'block' : 'none';\n",
              "\n",
              "        async function convertToInteractive(key) {\n",
              "          const element = document.querySelector('#df-1f516908-b3db-4041-925e-19fc5ed22c88');\n",
              "          const dataTable =\n",
              "            await google.colab.kernel.invokeFunction('convertToInteractive',\n",
              "                                                     [key], {});\n",
              "          if (!dataTable) return;\n",
              "\n",
              "          const docLinkHtml = 'Like what you see? Visit the ' +\n",
              "            '<a target=\"_blank\" href=https://colab.research.google.com/notebooks/data_table.ipynb>data table notebook</a>'\n",
              "            + ' to learn more about interactive tables.';\n",
              "          element.innerHTML = '';\n",
              "          dataTable['output_type'] = 'display_data';\n",
              "          await google.colab.output.renderOutput(dataTable, element);\n",
              "          const docLink = document.createElement('div');\n",
              "          docLink.innerHTML = docLinkHtml;\n",
              "          element.appendChild(docLink);\n",
              "        }\n",
              "      </script>\n",
              "    </div>\n",
              "  </div>\n",
              "  "
            ]
          },
          "metadata": {},
          "execution_count": 5
        }
      ]
    },
    {
      "cell_type": "code",
      "source": [
        "#Step 3b\n",
        "#data types and columns\n",
        "print(\"\\tDtypes\")\n",
        "print(\"------------------------\")\n",
        "print(titanic.dtypes)"
      ],
      "metadata": {
        "colab": {
          "base_uri": "https://localhost:8080/"
        },
        "id": "cEaGpfbkhWyp",
        "outputId": "6a2db5e9-194d-470c-ff30-5cd6b8013cfc"
      },
      "execution_count": 6,
      "outputs": [
        {
          "output_type": "stream",
          "name": "stdout",
          "text": [
            "\tDtypes\n",
            "------------------------\n",
            "PassengerId      int64\n",
            "Survived         int64\n",
            "Pclass           int64\n",
            "Name            object\n",
            "Sex             object\n",
            "Age            float64\n",
            "SibSp            int64\n",
            "Parch            int64\n",
            "Ticket          object\n",
            "Fare           float64\n",
            "Cabin           object\n",
            "Embarked        object\n",
            "dtype: object\n"
          ]
        }
      ]
    },
    {
      "cell_type": "code",
      "source": [
        "#Descriptive Stats\n",
        "titanic.describe()"
      ],
      "metadata": {
        "colab": {
          "base_uri": "https://localhost:8080/",
          "height": 299
        },
        "id": "9H_eg6N0hZU7",
        "outputId": "be74e6fc-a546-4505-85e5-a0f0f957a1c4"
      },
      "execution_count": 7,
      "outputs": [
        {
          "output_type": "execute_result",
          "data": {
            "text/plain": [
              "       PassengerId    Survived      Pclass         Age       SibSp  \\\n",
              "count   891.000000  891.000000  891.000000  714.000000  891.000000   \n",
              "mean    446.000000    0.383838    2.308642   29.699118    0.523008   \n",
              "std     257.353842    0.486592    0.836071   14.526497    1.102743   \n",
              "min       1.000000    0.000000    1.000000    0.420000    0.000000   \n",
              "25%     223.500000    0.000000    2.000000   20.125000    0.000000   \n",
              "50%     446.000000    0.000000    3.000000   28.000000    0.000000   \n",
              "75%     668.500000    1.000000    3.000000   38.000000    1.000000   \n",
              "max     891.000000    1.000000    3.000000   80.000000    8.000000   \n",
              "\n",
              "            Parch        Fare  \n",
              "count  891.000000  891.000000  \n",
              "mean     0.381594   32.204208  \n",
              "std      0.806057   49.693429  \n",
              "min      0.000000    0.000000  \n",
              "25%      0.000000    7.910400  \n",
              "50%      0.000000   14.454200  \n",
              "75%      0.000000   31.000000  \n",
              "max      6.000000  512.329200  "
            ],
            "text/html": [
              "\n",
              "  <div id=\"df-9ffd6b0b-f100-42e5-8f42-a0cebaeb7928\">\n",
              "    <div class=\"colab-df-container\">\n",
              "      <div>\n",
              "<style scoped>\n",
              "    .dataframe tbody tr th:only-of-type {\n",
              "        vertical-align: middle;\n",
              "    }\n",
              "\n",
              "    .dataframe tbody tr th {\n",
              "        vertical-align: top;\n",
              "    }\n",
              "\n",
              "    .dataframe thead th {\n",
              "        text-align: right;\n",
              "    }\n",
              "</style>\n",
              "<table border=\"1\" class=\"dataframe\">\n",
              "  <thead>\n",
              "    <tr style=\"text-align: right;\">\n",
              "      <th></th>\n",
              "      <th>PassengerId</th>\n",
              "      <th>Survived</th>\n",
              "      <th>Pclass</th>\n",
              "      <th>Age</th>\n",
              "      <th>SibSp</th>\n",
              "      <th>Parch</th>\n",
              "      <th>Fare</th>\n",
              "    </tr>\n",
              "  </thead>\n",
              "  <tbody>\n",
              "    <tr>\n",
              "      <th>count</th>\n",
              "      <td>891.000000</td>\n",
              "      <td>891.000000</td>\n",
              "      <td>891.000000</td>\n",
              "      <td>714.000000</td>\n",
              "      <td>891.000000</td>\n",
              "      <td>891.000000</td>\n",
              "      <td>891.000000</td>\n",
              "    </tr>\n",
              "    <tr>\n",
              "      <th>mean</th>\n",
              "      <td>446.000000</td>\n",
              "      <td>0.383838</td>\n",
              "      <td>2.308642</td>\n",
              "      <td>29.699118</td>\n",
              "      <td>0.523008</td>\n",
              "      <td>0.381594</td>\n",
              "      <td>32.204208</td>\n",
              "    </tr>\n",
              "    <tr>\n",
              "      <th>std</th>\n",
              "      <td>257.353842</td>\n",
              "      <td>0.486592</td>\n",
              "      <td>0.836071</td>\n",
              "      <td>14.526497</td>\n",
              "      <td>1.102743</td>\n",
              "      <td>0.806057</td>\n",
              "      <td>49.693429</td>\n",
              "    </tr>\n",
              "    <tr>\n",
              "      <th>min</th>\n",
              "      <td>1.000000</td>\n",
              "      <td>0.000000</td>\n",
              "      <td>1.000000</td>\n",
              "      <td>0.420000</td>\n",
              "      <td>0.000000</td>\n",
              "      <td>0.000000</td>\n",
              "      <td>0.000000</td>\n",
              "    </tr>\n",
              "    <tr>\n",
              "      <th>25%</th>\n",
              "      <td>223.500000</td>\n",
              "      <td>0.000000</td>\n",
              "      <td>2.000000</td>\n",
              "      <td>20.125000</td>\n",
              "      <td>0.000000</td>\n",
              "      <td>0.000000</td>\n",
              "      <td>7.910400</td>\n",
              "    </tr>\n",
              "    <tr>\n",
              "      <th>50%</th>\n",
              "      <td>446.000000</td>\n",
              "      <td>0.000000</td>\n",
              "      <td>3.000000</td>\n",
              "      <td>28.000000</td>\n",
              "      <td>0.000000</td>\n",
              "      <td>0.000000</td>\n",
              "      <td>14.454200</td>\n",
              "    </tr>\n",
              "    <tr>\n",
              "      <th>75%</th>\n",
              "      <td>668.500000</td>\n",
              "      <td>1.000000</td>\n",
              "      <td>3.000000</td>\n",
              "      <td>38.000000</td>\n",
              "      <td>1.000000</td>\n",
              "      <td>0.000000</td>\n",
              "      <td>31.000000</td>\n",
              "    </tr>\n",
              "    <tr>\n",
              "      <th>max</th>\n",
              "      <td>891.000000</td>\n",
              "      <td>1.000000</td>\n",
              "      <td>3.000000</td>\n",
              "      <td>80.000000</td>\n",
              "      <td>8.000000</td>\n",
              "      <td>6.000000</td>\n",
              "      <td>512.329200</td>\n",
              "    </tr>\n",
              "  </tbody>\n",
              "</table>\n",
              "</div>\n",
              "      <button class=\"colab-df-convert\" onclick=\"convertToInteractive('df-9ffd6b0b-f100-42e5-8f42-a0cebaeb7928')\"\n",
              "              title=\"Convert this dataframe to an interactive table.\"\n",
              "              style=\"display:none;\">\n",
              "        \n",
              "  <svg xmlns=\"http://www.w3.org/2000/svg\" height=\"24px\"viewBox=\"0 0 24 24\"\n",
              "       width=\"24px\">\n",
              "    <path d=\"M0 0h24v24H0V0z\" fill=\"none\"/>\n",
              "    <path d=\"M18.56 5.44l.94 2.06.94-2.06 2.06-.94-2.06-.94-.94-2.06-.94 2.06-2.06.94zm-11 1L8.5 8.5l.94-2.06 2.06-.94-2.06-.94L8.5 2.5l-.94 2.06-2.06.94zm10 10l.94 2.06.94-2.06 2.06-.94-2.06-.94-.94-2.06-.94 2.06-2.06.94z\"/><path d=\"M17.41 7.96l-1.37-1.37c-.4-.4-.92-.59-1.43-.59-.52 0-1.04.2-1.43.59L10.3 9.45l-7.72 7.72c-.78.78-.78 2.05 0 2.83L4 21.41c.39.39.9.59 1.41.59.51 0 1.02-.2 1.41-.59l7.78-7.78 2.81-2.81c.8-.78.8-2.07 0-2.86zM5.41 20L4 18.59l7.72-7.72 1.47 1.35L5.41 20z\"/>\n",
              "  </svg>\n",
              "      </button>\n",
              "      \n",
              "  <style>\n",
              "    .colab-df-container {\n",
              "      display:flex;\n",
              "      flex-wrap:wrap;\n",
              "      gap: 12px;\n",
              "    }\n",
              "\n",
              "    .colab-df-convert {\n",
              "      background-color: #E8F0FE;\n",
              "      border: none;\n",
              "      border-radius: 50%;\n",
              "      cursor: pointer;\n",
              "      display: none;\n",
              "      fill: #1967D2;\n",
              "      height: 32px;\n",
              "      padding: 0 0 0 0;\n",
              "      width: 32px;\n",
              "    }\n",
              "\n",
              "    .colab-df-convert:hover {\n",
              "      background-color: #E2EBFA;\n",
              "      box-shadow: 0px 1px 2px rgba(60, 64, 67, 0.3), 0px 1px 3px 1px rgba(60, 64, 67, 0.15);\n",
              "      fill: #174EA6;\n",
              "    }\n",
              "\n",
              "    [theme=dark] .colab-df-convert {\n",
              "      background-color: #3B4455;\n",
              "      fill: #D2E3FC;\n",
              "    }\n",
              "\n",
              "    [theme=dark] .colab-df-convert:hover {\n",
              "      background-color: #434B5C;\n",
              "      box-shadow: 0px 1px 3px 1px rgba(0, 0, 0, 0.15);\n",
              "      filter: drop-shadow(0px 1px 2px rgba(0, 0, 0, 0.3));\n",
              "      fill: #FFFFFF;\n",
              "    }\n",
              "  </style>\n",
              "\n",
              "      <script>\n",
              "        const buttonEl =\n",
              "          document.querySelector('#df-9ffd6b0b-f100-42e5-8f42-a0cebaeb7928 button.colab-df-convert');\n",
              "        buttonEl.style.display =\n",
              "          google.colab.kernel.accessAllowed ? 'block' : 'none';\n",
              "\n",
              "        async function convertToInteractive(key) {\n",
              "          const element = document.querySelector('#df-9ffd6b0b-f100-42e5-8f42-a0cebaeb7928');\n",
              "          const dataTable =\n",
              "            await google.colab.kernel.invokeFunction('convertToInteractive',\n",
              "                                                     [key], {});\n",
              "          if (!dataTable) return;\n",
              "\n",
              "          const docLinkHtml = 'Like what you see? Visit the ' +\n",
              "            '<a target=\"_blank\" href=https://colab.research.google.com/notebooks/data_table.ipynb>data table notebook</a>'\n",
              "            + ' to learn more about interactive tables.';\n",
              "          element.innerHTML = '';\n",
              "          dataTable['output_type'] = 'display_data';\n",
              "          await google.colab.output.renderOutput(dataTable, element);\n",
              "          const docLink = document.createElement('div');\n",
              "          docLink.innerHTML = docLinkHtml;\n",
              "          element.appendChild(docLink);\n",
              "        }\n",
              "      </script>\n",
              "    </div>\n",
              "  </div>\n",
              "  "
            ]
          },
          "metadata": {},
          "execution_count": 7
        }
      ]
    },
    {
      "cell_type": "markdown",
      "source": [
        "## Visualization of the data"
      ],
      "metadata": {
        "id": "dBoaeQEjhrnr"
      }
    },
    {
      "cell_type": "code",
      "source": [
        "#Plotting out Sex, SibSip, Parch, Embarked, Pclass.  I am going to seperatly\n",
        "#Graph age.  I tried it earlier, and the visualization was very messy\n",
        "\n",
        "sns.catplot(x =\"Sex\", hue =\"Survived\",\n",
        "kind =\"count\", data = titanic)\n",
        "#for more females survived vs male\n",
        "\n",
        "sns.catplot(x =\"SibSp\", hue =\"Survived\",\n",
        "kind =\"count\", data = titanic)\n",
        "#looks like more only children survived or people alone\n",
        "\n",
        "sns.catplot(x =\"Parch\", hue =\"Survived\",\n",
        "kind =\"count\", data = titanic)\n",
        "\n",
        "sns.catplot(x =\"Embarked\", hue =\"Survived\",\n",
        "kind =\"count\", data = titanic)\n",
        "#more people who embarked on south hampton survived\n",
        "\n",
        "sns.catplot(x =\"Pclass\", hue =\"Survived\",\n",
        "kind =\"count\", data = titanic)\n",
        "#more 1st class followed by 3rd then 2nd survived\n"
      ],
      "metadata": {
        "colab": {
          "base_uri": "https://localhost:8080/",
          "height": 1000
        },
        "id": "S6oiQx3RhxUl",
        "outputId": "c544e0db-2c6b-4dba-a669-871b9c5af1ab"
      },
      "execution_count": 8,
      "outputs": [
        {
          "output_type": "execute_result",
          "data": {
            "text/plain": [
              "<seaborn.axisgrid.FacetGrid at 0x7f8de1a8de50>"
            ]
          },
          "metadata": {},
          "execution_count": 8
        },
        {
          "output_type": "display_data",
          "data": {
            "text/plain": [
              "<Figure size 411.875x360 with 1 Axes>"
            ],
            "image/png": "[encoded data removed]"
          },
          "metadata": {
            "needs_background": "light"
          }
        },
        {
          "output_type": "display_data",
          "data": {
            "text/plain": [
              "<Figure size 411.875x360 with 1 Axes>"
            ],
            "image/png": "[encoded data removed]"
          },
          "metadata": {
            "needs_background": "light"
          }
        },
        {
          "output_type": "display_data",
          "data": {
            "text/plain": [
              "<Figure size 411.875x360 with 1 Axes>"
            ],
            "image/png": "[encoded data removed]"
          },
          "metadata": {
            "needs_background": "light"
          }
        },
        {
          "output_type": "display_data",
          "data": {
            "text/plain": [
              "<Figure size 411.875x360 with 1 Axes>"
            ],
            "image/png": "[encoded data removed]"
          },
          "metadata": {
            "needs_background": "light"
          }
        },
        {
          "output_type": "display_data",
          "data": {
            "text/plain": [
              "<Figure size 411.875x360 with 1 Axes>"
            ],
            "image/png": "[encoded data removed]"
          },
          "metadata": {
            "needs_background": "light"
          }
        }
      ]
    },
    {
      "cell_type": "code",
      "source": [
        "#Visualizaing Age\n",
        "sns.FacetGrid(titanic, hue=\"Survived\", height=5) \\\n",
        "   .map(sns.histplot, \"Age\") \\\n",
        "   .add_legend()\n",
        "plt.show()\n",
        "#ages 20 - 30 survived the most, followed by people in their 40s.  I had assumed more children survivers.\n",
        "# Use the below graphs to make the age bins"
      ],
      "metadata": {
        "colab": {
          "base_uri": "https://localhost:8080/",
          "height": 369
        },
        "id": "KguCgi8rh0bE",
        "outputId": "bbf6889d-d160-4c61-d32d-d60683916f80"
      },
      "execution_count": 11,
      "outputs": [
        {
          "output_type": "display_data",
          "data": {
            "text/plain": [
              "<Figure size 411.875x360 with 1 Axes>"
            ],
            "image/png": "[encoded data removed]"
          },
          "metadata": {
            "needs_background": "light"
          }
        }
      ]
    },
    {
      "cell_type": "code",
      "source": [
        "sns.FacetGrid(titanic, hue=\"Survived\", height=5) \\\n",
        "   .map(sns.histplot, \"Fare\") \\\n",
        "   .add_legend()\n",
        "plt.show()\n",
        "#nothing really interesting here with Fare."
      ],
      "metadata": {
        "colab": {
          "base_uri": "https://localhost:8080/",
          "height": 369
        },
        "id": "LNnCad_rh3k7",
        "outputId": "54336467-db55-45ba-a10b-1fec7ac51930"
      },
      "execution_count": 12,
      "outputs": [
        {
          "output_type": "display_data",
          "data": {
            "text/plain": [
              "<Figure size 411.875x360 with 1 Axes>"
            ],
            "image/png": "[encoded data removed]"
          },
          "metadata": {
            "needs_background": "light"
          }
        }
      ]
    },
    {
      "cell_type": "code",
      "source": [
        "# Interested in seeing if anything correlates with Survived.\n",
        "correlation = titanic.copy()\n",
        "correlation = correlation.drop(columns=['PassengerId'], axis=1)\n",
        "correlation = correlation.set_index(\"Survived\")\n",
        "fig,ax = plt.subplots(nrows=1, ncols=1, figsize=(15,6))\n",
        "sns.heatmap(correlation.corr(), cmap =\"YlGnBu\", annot=True, annot_kws={\"size\":14}, ax=ax)\n",
        "ax.set_title(\"Variables correlated with Survived\", fontsize = 25)\n",
        "ax.tick_params(axis = \"both\", which = \"major\", labelsize = 9)\n",
        "ax.tick_params(axis = \"both\", which = \"minor\", labelsize = 9)\n",
        "plt.show()\n",
        "#Sibsp and Parch somewhat correlate with Survived but it is not Strong\n",
        "#Nothing really screams out about Fare.  So I am going to drop that as a feature"
      ],
      "metadata": {
        "colab": {
          "base_uri": "https://localhost:8080/",
          "height": 398
        },
        "id": "LVs1moG-h7VK",
        "outputId": "96e68200-835d-4d00-f8b6-b503ddbab476"
      },
      "execution_count": 9,
      "outputs": [
        {
          "output_type": "display_data",
          "data": {
            "text/plain": [
              "<Figure size 1080x432 with 2 Axes>"
            ],
            "image/png": "[encoded data removed]"
          },
          "metadata": {
            "needs_background": "light"
          }
        }
      ]
    },
    {
      "cell_type": "code",
      "source": [
        "#want to compare sibsp and parch and see if there is anything to make here\n",
        "pd.crosstab(titanic['SibSp'], titanic['Survived']).plot(kind='bar', stacked=True, title=\"Survived by Number of Siblings/Spouses Aboard\")\n",
        "pd.crosstab(titanic['SibSp'], titanic['Survived'], normalize='index').plot(kind='bar', stacked=True, title=\"Survived by Number of Siblings/Spouses Aboard size (%)\")\n",
        "#Seems like alot of singles survived."
      ],
      "metadata": {
        "colab": {
          "base_uri": "https://localhost:8080/",
          "height": 585
        },
        "id": "33QjIvN5h_er",
        "outputId": "05e59b6b-0d0a-4b9d-83c9-97f5463ed8fa"
      },
      "execution_count": 10,
      "outputs": [
        {
          "output_type": "execute_result",
          "data": {
            "text/plain": [
              "<matplotlib.axes._subplots.AxesSubplot at 0x7f8dde85a690>"
            ]
          },
          "metadata": {},
          "execution_count": 10
        },
        {
          "output_type": "display_data",
          "data": {
            "text/plain": [
              "<Figure size 432x288 with 1 Axes>"
            ],
            "image/png": "[encoded data removed]"
          },
          "metadata": {
            "needs_background": "light"
          }
        },
        {
          "output_type": "display_data",
          "data": {
            "text/plain": [
              "<Figure size 432x288 with 1 Axes>"
            ],
            "image/png": "[encoded data removed]"
          },
          "metadata": {
            "needs_background": "light"
          }
        }
      ]
    },
    {
      "cell_type": "code",
      "source": [
        "#want to compare sibsp and parch and see if there is anything to make here\n",
        "pd.crosstab(titanic['Parch'], titanic['Survived']).plot(kind='bar', stacked=True, title=\"Survived by the Numember of Parents/Children Aboard\")\n",
        "pd.crosstab(titanic['Parch'], titanic['Survived'], normalize='index').plot(kind='bar', stacked=True, title=\"Survived by the Number of Parents/Children Aboard size (%)\")\n",
        "#Similar to Sibsp, many Single Parents / Children Survived\n",
        "#Potentially combine the two features into Family_Unit as a feature"
      ],
      "metadata": {
        "colab": {
          "base_uri": "https://localhost:8080/",
          "height": 585
        },
        "id": "wg5AH1GliCUq",
        "outputId": "ac866115-fcb4-4b00-e1e4-e3fe5b75e16a"
      },
      "execution_count": 11,
      "outputs": [
        {
          "output_type": "execute_result",
          "data": {
            "text/plain": [
              "<matplotlib.axes._subplots.AxesSubplot at 0x7f8dde90c690>"
            ]
          },
          "metadata": {},
          "execution_count": 11
        },
        {
          "output_type": "display_data",
          "data": {
            "text/plain": [
              "<Figure size 432x288 with 1 Axes>"
            ],
            "image/png": "[encoded data removed]"
          },
          "metadata": {
            "needs_background": "light"
          }
        },
        {
          "output_type": "display_data",
          "data": {
            "text/plain": [
              "<Figure size 432x288 with 1 Axes>"
            ],
            "image/png": "[encoded data removed]"
          },
          "metadata": {
            "needs_background": "light"
          }
        }
      ]
    },
    {
      "cell_type": "code",
      "source": [
        "#create a Family_Unit Visualization\n",
        "Family_Unit = titanic['SibSp'] + titanic['Parch'] + 1\n",
        "Family_Unit = pd.DataFrame(Family_Unit, columns=['Size'])\n",
        "pd.crosstab(Family_Unit['Size'], titanic['Survived']).plot(kind='bar', stacked=True, title=\"Survived by Size of the Family Unit\")\n",
        "pd.crosstab(Family_Unit['Size'], titanic['Survived'], normalize='index').plot(kind='bar', stacked=True, title=\"Survived by Size of the Family Unit (%)\")\n",
        "#Family Sizes of 1 - 3 had a better survival chance"
      ],
      "metadata": {
        "colab": {
          "base_uri": "https://localhost:8080/",
          "height": 597
        },
        "id": "h1p32mpEiEa8",
        "outputId": "b1d8b7f7-2314-45f1-a838-b08f954935f2"
      },
      "execution_count": 12,
      "outputs": [
        {
          "output_type": "execute_result",
          "data": {
            "text/plain": [
              "<matplotlib.axes._subplots.AxesSubplot at 0x7f8ddf15d0d0>"
            ]
          },
          "metadata": {},
          "execution_count": 12
        },
        {
          "output_type": "display_data",
          "data": {
            "text/plain": [
              "<Figure size 432x288 with 1 Axes>"
            ],
            "image/png": "[encoded data removed]"
          },
          "metadata": {
            "needs_background": "light"
          }
        },
        {
          "output_type": "display_data",
          "data": {
            "text/plain": [
              "<Figure size 432x288 with 1 Axes>"
            ],
            "image/png": "[encoded data removed]"
          },
          "metadata": {
            "needs_background": "light"
          }
        }
      ]
    },
    {
      "cell_type": "markdown",
      "metadata": {
        "id": "n0lndw6BuQUW"
      },
      "source": [
        "#Step 4: Clean and Preprocess the Data\n",
        "\n",
        "Use the code block below to clean and preprocess your data. Some considerations you may want to think about include the following:  \n",
        "*  Are there any missing values that need to be imputed?\n",
        "*  Do you need to encode any categorical features?\n",
        "*  Do you need to standardize any quantitative features?\n",
        " \n",
        "**Note**: Use comments in your code and text blocks to explain your decisions and results.\n",
        "\n",
        " "
      ]
    },
    {
      "cell_type": "code",
      "source": [
        "#Step 4\n",
        "#Check for missing values\n",
        "titanic.isna().sum() \n",
        "#missing 177 age values and 687 cabins and 2 embarked\n",
        "#Won't use cabin since so many are missing"
      ],
      "metadata": {
        "id": "GTZ4KkS9um7t",
        "colab": {
          "base_uri": "https://localhost:8080/"
        },
        "outputId": "6b1fe1bd-5e1d-4407-dd1e-bb8170313133"
      },
      "execution_count": 13,
      "outputs": [
        {
          "output_type": "execute_result",
          "data": {
            "text/plain": [
              "PassengerId      0\n",
              "Survived         0\n",
              "Pclass           0\n",
              "Name             0\n",
              "Sex              0\n",
              "Age            177\n",
              "SibSp            0\n",
              "Parch            0\n",
              "Ticket           0\n",
              "Fare             0\n",
              "Cabin          687\n",
              "Embarked         2\n",
              "dtype: int64"
            ]
          },
          "metadata": {},
          "execution_count": 13
        }
      ]
    },
    {
      "cell_type": "code",
      "source": [
        "#filling in missing age with Mean\n",
        "mean_imputer = SimpleImputer(strategy='mean')\n",
        "titanic['Age'] = mean_imputer.fit_transform(titanic['Age'].values.reshape(-1,1))\n",
        "titanic.isna().sum() "
      ],
      "metadata": {
        "colab": {
          "base_uri": "https://localhost:8080/"
        },
        "id": "qNpkt2ceiQC7",
        "outputId": "959cc406-134b-47b0-a4af-ae2b4368c4fe"
      },
      "execution_count": 14,
      "outputs": [
        {
          "output_type": "execute_result",
          "data": {
            "text/plain": [
              "PassengerId      0\n",
              "Survived         0\n",
              "Pclass           0\n",
              "Name             0\n",
              "Sex              0\n",
              "Age              0\n",
              "SibSp            0\n",
              "Parch            0\n",
              "Ticket           0\n",
              "Fare             0\n",
              "Cabin          687\n",
              "Embarked         2\n",
              "dtype: int64"
            ]
          },
          "metadata": {},
          "execution_count": 14
        }
      ]
    },
    {
      "cell_type": "code",
      "source": [
        "#one hot encode the categorical values\n",
        "categorical_variables = ['Sex','Embarked']\n",
        "titanic = pd.get_dummies(data=titanic, columns=categorical_variables)\n",
        "titanic.head(5)"
      ],
      "metadata": {
        "colab": {
          "base_uri": "https://localhost:8080/",
          "height": 205
        },
        "id": "RJ74HglfiZ5f",
        "outputId": "ef2f256c-36bb-4965-dc1d-3998eb5e4e01"
      },
      "execution_count": 15,
      "outputs": [
        {
          "output_type": "execute_result",
          "data": {
            "text/plain": [
              "   PassengerId  Survived  Pclass  \\\n",
              "0            1         0       3   \n",
              "1            2         1       1   \n",
              "2            3         1       3   \n",
              "3            4         1       1   \n",
              "4            5         0       3   \n",
              "\n",
              "                                                Name   Age  SibSp  Parch  \\\n",
              "0                            Braund, Mr. Owen Harris  22.0      1      0   \n",
              "1  Cumings, Mrs. John Bradley (Florence Briggs Th...  38.0      1      0   \n",
              "2                             Heikkinen, Miss. Laina  26.0      0      0   \n",
              "3       Futrelle, Mrs. Jacques Heath (Lily May Peel)  35.0      1      0   \n",
              "4                           Allen, Mr. William Henry  35.0      0      0   \n",
              "\n",
              "             Ticket     Fare Cabin  Sex_female  Sex_male  Embarked_C  \\\n",
              "0         A/5 21171   7.2500   NaN           0         1           0   \n",
              "1          PC 17599  71.2833   C85           1         0           1   \n",
              "2  STON/O2. 3101282   7.9250   NaN           1         0           0   \n",
              "3            113803  53.1000  C123           1         0           0   \n",
              "4            373450   8.0500   NaN           0         1           0   \n",
              "\n",
              "   Embarked_Q  Embarked_S  \n",
              "0           0           1  \n",
              "1           0           0  \n",
              "2           0           1  \n",
              "3           0           1  \n",
              "4           0           1  "
            ],
            "text/html": [
              "\n",
              "  <div id=\"df-30e3b7e8-7bb5-4cf4-9514-c24ad9e3ebbb\">\n",
              "    <div class=\"colab-df-container\">\n",
              "      <div>\n",
              "<style scoped>\n",
              "    .dataframe tbody tr th:only-of-type {\n",
              "        vertical-align: middle;\n",
              "    }\n",
              "\n",
              "    .dataframe tbody tr th {\n",
              "        vertical-align: top;\n",
              "    }\n",
              "\n",
              "    .dataframe thead th {\n",
              "        text-align: right;\n",
              "    }\n",
              "</style>\n",
              "<table border=\"1\" class=\"dataframe\">\n",
              "  <thead>\n",
              "    <tr style=\"text-align: right;\">\n",
              "      <th></th>\n",
              "      <th>PassengerId</th>\n",
              "      <th>Survived</th>\n",
              "      <th>Pclass</th>\n",
              "      <th>Name</th>\n",
              "      <th>Age</th>\n",
              "      <th>SibSp</th>\n",
              "      <th>Parch</th>\n",
              "      <th>Ticket</th>\n",
              "      <th>Fare</th>\n",
              "      <th>Cabin</th>\n",
              "      <th>Sex_female</th>\n",
              "      <th>Sex_male</th>\n",
              "      <th>Embarked_C</th>\n",
              "      <th>Embarked_Q</th>\n",
              "      <th>Embarked_S</th>\n",
              "    </tr>\n",
              "  </thead>\n",
              "  <tbody>\n",
              "    <tr>\n",
              "      <th>0</th>\n",
              "      <td>1</td>\n",
              "      <td>0</td>\n",
              "      <td>3</td>\n",
              "      <td>Braund, Mr. Owen Harris</td>\n",
              "      <td>22.0</td>\n",
              "      <td>1</td>\n",
              "      <td>0</td>\n",
              "      <td>A/5 21171</td>\n",
              "      <td>7.2500</td>\n",
              "      <td>NaN</td>\n",
              "      <td>0</td>\n",
              "      <td>1</td>\n",
              "      <td>0</td>\n",
              "      <td>0</td>\n",
              "      <td>1</td>\n",
              "    </tr>\n",
              "    <tr>\n",
              "      <th>1</th>\n",
              "      <td>2</td>\n",
              "      <td>1</td>\n",
              "      <td>1</td>\n",
              "      <td>Cumings, Mrs. John Bradley (Florence Briggs Th...</td>\n",
              "      <td>38.0</td>\n",
              "      <td>1</td>\n",
              "      <td>0</td>\n",
              "      <td>PC 17599</td>\n",
              "      <td>71.2833</td>\n",
              "      <td>C85</td>\n",
              "      <td>1</td>\n",
              "      <td>0</td>\n",
              "      <td>1</td>\n",
              "      <td>0</td>\n",
              "      <td>0</td>\n",
              "    </tr>\n",
              "    <tr>\n",
              "      <th>2</th>\n",
              "      <td>3</td>\n",
              "      <td>1</td>\n",
              "      <td>3</td>\n",
              "      <td>Heikkinen, Miss. Laina</td>\n",
              "      <td>26.0</td>\n",
              "      <td>0</td>\n",
              "      <td>0</td>\n",
              "      <td>STON/O2. 3101282</td>\n",
              "      <td>7.9250</td>\n",
              "      <td>NaN</td>\n",
              "      <td>1</td>\n",
              "      <td>0</td>\n",
              "      <td>0</td>\n",
              "      <td>0</td>\n",
              "      <td>1</td>\n",
              "    </tr>\n",
              "    <tr>\n",
              "      <th>3</th>\n",
              "      <td>4</td>\n",
              "      <td>1</td>\n",
              "      <td>1</td>\n",
              "      <td>Futrelle, Mrs. Jacques Heath (Lily May Peel)</td>\n",
              "      <td>35.0</td>\n",
              "      <td>1</td>\n",
              "      <td>0</td>\n",
              "      <td>113803</td>\n",
              "      <td>53.1000</td>\n",
              "      <td>C123</td>\n",
              "      <td>1</td>\n",
              "      <td>0</td>\n",
              "      <td>0</td>\n",
              "      <td>0</td>\n",
              "      <td>1</td>\n",
              "    </tr>\n",
              "    <tr>\n",
              "      <th>4</th>\n",
              "      <td>5</td>\n",
              "      <td>0</td>\n",
              "      <td>3</td>\n",
              "      <td>Allen, Mr. William Henry</td>\n",
              "      <td>35.0</td>\n",
              "      <td>0</td>\n",
              "      <td>0</td>\n",
              "      <td>373450</td>\n",
              "      <td>8.0500</td>\n",
              "      <td>NaN</td>\n",
              "      <td>0</td>\n",
              "      <td>1</td>\n",
              "      <td>0</td>\n",
              "      <td>0</td>\n",
              "      <td>1</td>\n",
              "    </tr>\n",
              "  </tbody>\n",
              "</table>\n",
              "</div>\n",
              "      <button class=\"colab-df-convert\" onclick=\"convertToInteractive('df-30e3b7e8-7bb5-4cf4-9514-c24ad9e3ebbb')\"\n",
              "              title=\"Convert this dataframe to an interactive table.\"\n",
              "              style=\"display:none;\">\n",
              "        \n",
              "  <svg xmlns=\"http://www.w3.org/2000/svg\" height=\"24px\"viewBox=\"0 0 24 24\"\n",
              "       width=\"24px\">\n",
              "    <path d=\"M0 0h24v24H0V0z\" fill=\"none\"/>\n",
              "    <path d=\"M18.56 5.44l.94 2.06.94-2.06 2.06-.94-2.06-.94-.94-2.06-.94 2.06-2.06.94zm-11 1L8.5 8.5l.94-2.06 2.06-.94-2.06-.94L8.5 2.5l-.94 2.06-2.06.94zm10 10l.94 2.06.94-2.06 2.06-.94-2.06-.94-.94-2.06-.94 2.06-2.06.94z\"/><path d=\"M17.41 7.96l-1.37-1.37c-.4-.4-.92-.59-1.43-.59-.52 0-1.04.2-1.43.59L10.3 9.45l-7.72 7.72c-.78.78-.78 2.05 0 2.83L4 21.41c.39.39.9.59 1.41.59.51 0 1.02-.2 1.41-.59l7.78-7.78 2.81-2.81c.8-.78.8-2.07 0-2.86zM5.41 20L4 18.59l7.72-7.72 1.47 1.35L5.41 20z\"/>\n",
              "  </svg>\n",
              "      </button>\n",
              "      \n",
              "  <style>\n",
              "    .colab-df-container {\n",
              "      display:flex;\n",
              "      flex-wrap:wrap;\n",
              "      gap: 12px;\n",
              "    }\n",
              "\n",
              "    .colab-df-convert {\n",
              "      background-color: #E8F0FE;\n",
              "      border: none;\n",
              "      border-radius: 50%;\n",
              "      cursor: pointer;\n",
              "      display: none;\n",
              "      fill: #1967D2;\n",
              "      height: 32px;\n",
              "      padding: 0 0 0 0;\n",
              "      width: 32px;\n",
              "    }\n",
              "\n",
              "    .colab-df-convert:hover {\n",
              "      background-color: #E2EBFA;\n",
              "      box-shadow: 0px 1px 2px rgba(60, 64, 67, 0.3), 0px 1px 3px 1px rgba(60, 64, 67, 0.15);\n",
              "      fill: #174EA6;\n",
              "    }\n",
              "\n",
              "    [theme=dark] .colab-df-convert {\n",
              "      background-color: #3B4455;\n",
              "      fill: #D2E3FC;\n",
              "    }\n",
              "\n",
              "    [theme=dark] .colab-df-convert:hover {\n",
              "      background-color: #434B5C;\n",
              "      box-shadow: 0px 1px 3px 1px rgba(0, 0, 0, 0.15);\n",
              "      filter: drop-shadow(0px 1px 2px rgba(0, 0, 0, 0.3));\n",
              "      fill: #FFFFFF;\n",
              "    }\n",
              "  </style>\n",
              "\n",
              "      <script>\n",
              "        const buttonEl =\n",
              "          document.querySelector('#df-30e3b7e8-7bb5-4cf4-9514-c24ad9e3ebbb button.colab-df-convert');\n",
              "        buttonEl.style.display =\n",
              "          google.colab.kernel.accessAllowed ? 'block' : 'none';\n",
              "\n",
              "        async function convertToInteractive(key) {\n",
              "          const element = document.querySelector('#df-30e3b7e8-7bb5-4cf4-9514-c24ad9e3ebbb');\n",
              "          const dataTable =\n",
              "            await google.colab.kernel.invokeFunction('convertToInteractive',\n",
              "                                                     [key], {});\n",
              "          if (!dataTable) return;\n",
              "\n",
              "          const docLinkHtml = 'Like what you see? Visit the ' +\n",
              "            '<a target=\"_blank\" href=https://colab.research.google.com/notebooks/data_table.ipynb>data table notebook</a>'\n",
              "            + ' to learn more about interactive tables.';\n",
              "          element.innerHTML = '';\n",
              "          dataTable['output_type'] = 'display_data';\n",
              "          await google.colab.output.renderOutput(dataTable, element);\n",
              "          const docLink = document.createElement('div');\n",
              "          docLink.innerHTML = docLinkHtml;\n",
              "          element.appendChild(docLink);\n",
              "        }\n",
              "      </script>\n",
              "    </div>\n",
              "  </div>\n",
              "  "
            ]
          },
          "metadata": {},
          "execution_count": 15
        }
      ]
    },
    {
      "cell_type": "code",
      "source": [
        "#create Age Bins\n",
        "bins = [0, 10, 20, 30, 40, 50, 60, 70, 80] #Bins for the age bands\n",
        "group_names = [10, 20, 30, 40, 50, 60, 70, 80] #Labels\n",
        "\n",
        "titanic['Age_Categories'] = pd.cut(titanic['Age'], bins, labels=group_names)"
      ],
      "metadata": {
        "id": "xOCQKXxiic0o"
      },
      "execution_count": 16,
      "outputs": []
    },
    {
      "cell_type": "code",
      "source": [
        "pd.crosstab(titanic['Age_Categories'], titanic['Survived']).plot(kind='bar', stacked=False, title=\"Survived by age\")\n",
        "pd.crosstab(titanic['Age_Categories'], titanic['Survived'], normalize='index').plot(kind='bar', stacked=False, title=\"Survived by age (%)\")\n",
        "#This is much easier to read now with the Age Bins then just looking at titanic[Age] as a chart"
      ],
      "metadata": {
        "colab": {
          "base_uri": "https://localhost:8080/",
          "height": 599
        },
        "id": "us59fXjZihEj",
        "outputId": "e1f693cc-b662-4702-af82-9326bb8b3432"
      },
      "execution_count": 17,
      "outputs": [
        {
          "output_type": "execute_result",
          "data": {
            "text/plain": [
              "<matplotlib.axes._subplots.AxesSubplot at 0x7f8dde760350>"
            ]
          },
          "metadata": {},
          "execution_count": 17
        },
        {
          "output_type": "display_data",
          "data": {
            "text/plain": [
              "<Figure size 432x288 with 1 Axes>"
            ],
            "image/png": "[encoded data removed]"
          },
          "metadata": {
            "needs_background": "light"
          }
        },
        {
          "output_type": "display_data",
          "data": {
            "text/plain": [
              "<Figure size 432x288 with 1 Axes>"
            ],
            "image/png": "[encoded data removed]"
          },
          "metadata": {
            "needs_background": "light"
          }
        }
      ]
    },
    {
      "cell_type": "code",
      "source": [
        "#Create a family Unit that is a combo of SibSp + Parch\n",
        "titanic['Family_Unit'] = titanic['SibSp'] + titanic['Parch'] + 1"
      ],
      "metadata": {
        "id": "Hy3J6dyfjECp"
      },
      "execution_count": 18,
      "outputs": []
    },
    {
      "cell_type": "code",
      "source": [
        "#Setting Age_Caegories to an Integer and do one final check on types\n",
        "titanic[\"Age_Categories\"] = pd.to_numeric(titanic[\"Age_Categories\"])\n",
        "titanic.dtypes"
      ],
      "metadata": {
        "colab": {
          "base_uri": "https://localhost:8080/"
        },
        "id": "vzBsZQH9jvTN",
        "outputId": "03ac4d45-c2d7-43a9-d160-b1314b7bb2ee"
      },
      "execution_count": 19,
      "outputs": [
        {
          "output_type": "execute_result",
          "data": {
            "text/plain": [
              "PassengerId         int64\n",
              "Survived            int64\n",
              "Pclass              int64\n",
              "Name               object\n",
              "Age               float64\n",
              "SibSp               int64\n",
              "Parch               int64\n",
              "Ticket             object\n",
              "Fare              float64\n",
              "Cabin              object\n",
              "Sex_female          uint8\n",
              "Sex_male            uint8\n",
              "Embarked_C          uint8\n",
              "Embarked_Q          uint8\n",
              "Embarked_S          uint8\n",
              "Age_Categories      int64\n",
              "Family_Unit         int64\n",
              "dtype: object"
            ]
          },
          "metadata": {},
          "execution_count": 19
        }
      ]
    },
    {
      "cell_type": "code",
      "source": [
        "#Creating the X and y variables\n",
        "X = titanic.drop(columns=['PassengerId', 'Survived', 'Name', 'Ticket',\n",
        "                          'Fare','Cabin'], axis=1)\n",
        "\n",
        "y = titanic[['Survived']]"
      ],
      "metadata": {
        "id": "OlSCYLBajpoQ"
      },
      "execution_count": 31,
      "outputs": []
    },
    {
      "cell_type": "code",
      "source": [
        "#do another heatmap on the features of X to see correlations\n",
        "fig,ax = plt.subplots(nrows=1, ncols=1, figsize=(15,6))\n",
        "sns.heatmap(X.corr(), cmap =\"YlGnBu\", annot=True, annot_kws={\"size\":14}, ax=ax)\n",
        "ax.set_title(\"See if any feature of X Correlates with te other\", fontsize = 20)\n",
        "ax.tick_params(axis = \"both\", which = \"major\", labelsize = 14)\n",
        "ax.tick_params(axis = \"both\", which = \"minor\", labelsize = 14)\n",
        "plt.show()"
      ],
      "metadata": {
        "colab": {
          "base_uri": "https://localhost:8080/",
          "height": 495
        },
        "id": "r7z6ut5QkDQJ",
        "outputId": "127ea0dd-4370-4727-ecb0-3972cf416f47"
      },
      "execution_count": 32,
      "outputs": [
        {
          "output_type": "display_data",
          "data": {
            "text/plain": [
              "<Figure size 1080x432 with 2 Axes>"
            ],
            "image/png": "[encoded data removed]"
          },
          "metadata": {
            "needs_background": "light"
          }
        }
      ]
    },
    {
      "cell_type": "code",
      "source": [
        "#function for making Shapes nicer to read\n",
        "def split_out_shape_values(data):\n",
        "  \"\"\"Creating a function that will:\n",
        "    data: a variable to inspect and look for shape and return the values\n",
        "  \"\"\"\n",
        "  try:\n",
        "    return str(data.shape[0]) + \" By \" + str(data.shape[1])\n",
        "  except:\n",
        "    return str(data.shape[0]) + \" By \" + str(1)\n",
        "\n",
        "#test\n",
        "#print(split_out_shape_values(X_train))\n",
        "#print(split_out_shape_values(y_train))"
      ],
      "metadata": {
        "id": "XQawWbTwkY8Y"
      },
      "execution_count": 33,
      "outputs": []
    },
    {
      "cell_type": "code",
      "source": [
        "#Spliting the data into training and test\n",
        "X_train, X_test, y_train, y_test = train_test_split(X, y, test_size=0.3, random_state=11)\n",
        "y_train = y_train.values.ravel()\n",
        "y_test = y_test.values.ravel()"
      ],
      "metadata": {
        "id": "SWaKCG4lkejJ"
      },
      "execution_count": 34,
      "outputs": []
    },
    {
      "cell_type": "code",
      "source": [
        "#Checking the Shapes of X_train, y_train, X_test, y_test\n",
        "shapes_info = PrettyTable([\"Data Set\", \"Shape\"])\n",
        "shapes_info.add_row(['X_train', split_out_shape_values(X_train)])\n",
        "shapes_info.add_row(['y_train', split_out_shape_values(y_train)])\n",
        "shapes_info.add_row(['X_test', split_out_shape_values(X_test)])\n",
        "shapes_info.add_row(['Y_test', split_out_shape_values(y_test)])\n",
        "print(shapes_info)"
      ],
      "metadata": {
        "colab": {
          "base_uri": "https://localhost:8080/"
        },
        "id": "m69ScODjkuRH",
        "outputId": "a7862def-a85e-4bc5-b040-0a37938baebb"
      },
      "execution_count": 35,
      "outputs": [
        {
          "output_type": "stream",
          "name": "stdout",
          "text": [
            "+----------+-----------+\n",
            "| Data Set |   Shape   |\n",
            "+----------+-----------+\n",
            "| X_train  | 623 By 11 |\n",
            "| y_train  |  623 By 1 |\n",
            "|  X_test  | 268 By 11 |\n",
            "|  Y_test  |  268 By 1 |\n",
            "+----------+-----------+\n"
          ]
        }
      ]
    },
    {
      "cell_type": "code",
      "source": [
        "#one final check of all the columns in my X_train\n",
        "X_train.columns"
      ],
      "metadata": {
        "colab": {
          "base_uri": "https://localhost:8080/"
        },
        "id": "4qDxB7oZmEUa",
        "outputId": "f5938c50-52fb-4b51-d963-84abb146e3e2"
      },
      "execution_count": 36,
      "outputs": [
        {
          "output_type": "execute_result",
          "data": {
            "text/plain": [
              "Index(['Pclass', 'Age', 'SibSp', 'Parch', 'Sex_female', 'Sex_male',\n",
              "       'Embarked_C', 'Embarked_Q', 'Embarked_S', 'Age_Categories',\n",
              "       'Family_Unit'],\n",
              "      dtype='object')"
            ]
          },
          "metadata": {},
          "execution_count": 36
        }
      ]
    },
    {
      "cell_type": "markdown",
      "metadata": {
        "id": "HcqBl3tqSRXM"
      },
      "source": [
        "#Step 5: Build the Baseline Model\n",
        "\n",
        "Ideally, you will want to set a baseline algorithm to build off of. The most logical start is *linear regression* for *regression* and *logistic regression* for *classification*, as they are the basis for their respective algorithms.\n",
        "\n",
        "Once you have the baseline set, you will want to choose an algorithm that surpasses the baseline.\n",
        "\n",
        "Select a baseline model and fit it to your data.\n",
        "\n",
        "**Note**: Use comments in your code and text blocks to explain your decisions and results.\n",
        "\n"
      ]
    },
    {
      "cell_type": "code",
      "metadata": {
        "id": "-He6s8fukCDO",
        "colab": {
          "base_uri": "https://localhost:8080/"
        },
        "outputId": "90f0de09-5d58-4e4b-cb6f-cb97745024dd"
      },
      "source": [
        "# Step 5a\n",
        "#Logistic Regression\n",
        "log_reg_pipeline = Pipeline([\n",
        "('imp_mean',SimpleImputer(missing_values=np.nan, strategy='mean')),\n",
        "('scaler', StandardScaler()),\n",
        "('log_reg', LogisticRegression(random_state=0))])\n",
        "log_reg_pipeline.fit(X_train, y_train)\n",
        "train_accuracy_std = round(log_reg_pipeline.score(X_train, y_train),2)\n",
        "train_accuracy_std = str (train_accuracy_std * 100.0) + \"%\"\n",
        "#print(f\"Logistic Regression Score of: {train_accuracy_std * 100.0} %\")\n",
        "log_reg_results = PrettyTable([\"Model Name\", \"Score\"])\n",
        "log_reg_results.add_row(['Logisitc Regression', train_accuracy_std])\n",
        "print(log_reg_results)\n",
        "#79% accuracy"
      ],
      "execution_count": 37,
      "outputs": [
        {
          "output_type": "stream",
          "name": "stdout",
          "text": [
            "+---------------------+-------+\n",
            "|      Model Name     | Score |\n",
            "+---------------------+-------+\n",
            "| Logisitc Regression | 79.0% |\n",
            "+---------------------+-------+\n"
          ]
        }
      ]
    },
    {
      "cell_type": "markdown",
      "metadata": {
        "id": "Rkx6qXH3vAon"
      },
      "source": [
        "#Step 6: Evaluate the Baseline Model\n",
        "\n",
        "Use cross-validation to calculate the appropriate model evaluation metric. \n",
        "\n",
        "Is your model doing a good job fitting the data?  \n",
        "\n",
        "If you have ideas for how to improve your model fit, go back and make those changes to earlier steps.\n",
        "\n",
        "**Note**: Use comments in your code and text blocks to explain your decisions and results.\n"
      ]
    },
    {
      "cell_type": "code",
      "source": [
        "#Step 6a\n",
        "#Logistic Regression Results using Cross Validation\n",
        "kfold = KFold(n_splits=10, random_state=11, shuffle=True)\n",
        "results = cross_val_score(log_reg_pipeline, X_train, y_train, cv=kfold, scoring='accuracy')\n",
        "score = round(results.mean(), 2) * 100.0\n",
        "log_reg_accuracy_table = PrettyTable([\"Model Name\", \"Accuracy\", \"Standard Deviation\"])\n",
        "log_reg_accuracy_table.add_row(['log_reg', score, round(results.std(),2)])\n",
        "print(log_reg_accuracy_table)"
      ],
      "metadata": {
        "id": "0eTjP2jeu6v7",
        "colab": {
          "base_uri": "https://localhost:8080/"
        },
        "outputId": "b71a20e3-0977-452f-e43a-b0448ba0e9e0"
      },
      "execution_count": 38,
      "outputs": [
        {
          "output_type": "stream",
          "name": "stdout",
          "text": [
            "+------------+----------+--------------------+\n",
            "| Model Name | Accuracy | Standard Deviation |\n",
            "+------------+----------+--------------------+\n",
            "|  log_reg   |   78.0   |        0.03        |\n",
            "+------------+----------+--------------------+\n"
          ]
        }
      ]
    },
    {
      "cell_type": "code",
      "source": [
        "#Step 6b\n",
        "#Look at the AUC for Logistic Regression\n",
        "kfold = KFold(n_splits=10, random_state=11, shuffle=True)\n",
        "scoring = 'roc_auc'\n",
        "results = cross_val_score(log_reg_pipeline, X_train, y_train, cv=kfold, scoring=scoring)\n",
        "score = round(results.mean(), 2)\n",
        "#Creat the PrettyTable to Show AUC Results\n",
        "log_reg_auc = PrettyTable([\"Model Name\", \"AUC\", \"Standard Deviation\"])\n",
        "log_reg_auc.add_row(['log_reg', score, round(results.std(),2)])\n",
        "print(log_reg_auc)"
      ],
      "metadata": {
        "colab": {
          "base_uri": "https://localhost:8080/"
        },
        "id": "ZMFTAmQ7luuw",
        "outputId": "554d61dd-03e5-41e3-8ccc-f97419cbb771"
      },
      "execution_count": 39,
      "outputs": [
        {
          "output_type": "stream",
          "name": "stdout",
          "text": [
            "+------------+------+--------------------+\n",
            "| Model Name | AUC  | Standard Deviation |\n",
            "+------------+------+--------------------+\n",
            "|  log_reg   | 0.84 |        0.03        |\n",
            "+------------+------+--------------------+\n"
          ]
        }
      ]
    },
    {
      "cell_type": "code",
      "source": [
        "#Plot AUC for Logistic Regression\n",
        "#set up plotting area\n",
        "plt.figure(0).clf()\n",
        "\n",
        "y_pred = log_reg_pipeline.predict_proba(X_train)[:, 1]\n",
        "fpr, tpr, _ = roc_curve(y_train, y_pred)\n",
        "auc = round(results.mean(), 2)\n",
        "plt.plot(fpr,tpr,label=\"Logistic Regression, AUC=\"+str(auc))\n",
        "plt.plot([0, 1], [0, 1], color='orange', linestyle='--',label = \"Probaility of Chance AUC=0.50\")\n",
        "plt.xlabel('1 - Specificity')\n",
        "plt.ylabel('Sensitivity')\n",
        "#add legend\n",
        "plt.legend()\n",
        "#Logistical Regression AUC is much better than 50/50 Coin flip\n",
        "plt.title(\"AUC Visualization\", fontsize =20)"
      ],
      "metadata": {
        "colab": {
          "base_uri": "https://localhost:8080/",
          "height": 318
        },
        "id": "ctFOjMYWLCXO",
        "outputId": "749fb940-3ea5-4e3f-afb4-ca0c183f7360"
      },
      "execution_count": 40,
      "outputs": [
        {
          "output_type": "execute_result",
          "data": {
            "text/plain": [
              "Text(0.5, 1.0, 'AUC Visualization')"
            ]
          },
          "metadata": {},
          "execution_count": 40
        },
        {
          "output_type": "display_data",
          "data": {
            "text/plain": [
              "<Figure size 432x288 with 1 Axes>"
            ],
            "image/png": "[encoded data removed]"
          },
          "metadata": {
            "needs_background": "light"
          }
        }
      ]
    },
    {
      "cell_type": "code",
      "source": [
        "#Step 6c\n",
        "# Creating a confusion matrix\n",
        "y_predict = log_reg_pipeline.predict(X_train)\n",
        "matrix = confusion_matrix(y_train, y_predict)\n",
        "group_names = ['True Negative','False Positive','False Negative','True Positive']\n",
        "group_counts = [\"{0:0.0f}\".format(value) for value in\n",
        "                matrix.flatten()]\n",
        "group_percentages = [\"{0:.2%}\".format(value) for value in\n",
        "                     matrix.flatten()/np.sum(matrix)]\n",
        "labels = [f\"{v1}\\n{v2}\\n{v3}\" for v1, v2, v3 in\n",
        "          zip(group_names,group_counts,group_percentages)]\n",
        "labels = np.asarray(labels).reshape(2,2)\n",
        "sns.heatmap(matrix, annot=labels, fmt='', cmap='Blues')\n",
        "plt.title(\"Confusion Matrix for Logistic Regression\", fontsize =20)"
      ],
      "metadata": {
        "colab": {
          "base_uri": "https://localhost:8080/",
          "height": 305
        },
        "id": "Tmvl7O-8mLyR",
        "outputId": "ff36ee98-1dcd-48aa-cc8e-1217addc708c"
      },
      "execution_count": 41,
      "outputs": [
        {
          "output_type": "execute_result",
          "data": {
            "text/plain": [
              "Text(0.5, 1.0, 'Confusion Matrix for Logistic Regression')"
            ]
          },
          "metadata": {},
          "execution_count": 41
        },
        {
          "output_type": "display_data",
          "data": {
            "text/plain": [
              "<Figure size 432x288 with 2 Axes>"
            ],
            "image/png": "[encoded data removed]"
          },
          "metadata": {
            "needs_background": "light"
          }
        }
      ]
    },
    {
      "cell_type": "code",
      "source": [
        "#Step 6d\n",
        "#Classification report for Logistic Regression\n",
        "y_predict = log_reg_pipeline.predict(X_train)\n",
        "print(classification_report(y_train, y_predict))\n",
        "#Since this is a binary classification problem\n",
        "#recall of the positive class is also known as “sensitivity”; recall of the negative class is “specificity”"
      ],
      "metadata": {
        "colab": {
          "base_uri": "https://localhost:8080/"
        },
        "id": "Ogw8fzbFmULm",
        "outputId": "1073e4ce-f38f-411b-8b55-aa1e1d965838"
      },
      "execution_count": 42,
      "outputs": [
        {
          "output_type": "stream",
          "name": "stdout",
          "text": [
            "              precision    recall  f1-score   support\n",
            "\n",
            "           0       0.81      0.84      0.83       373\n",
            "           1       0.75      0.71      0.73       250\n",
            "\n",
            "    accuracy                           0.79       623\n",
            "   macro avg       0.78      0.78      0.78       623\n",
            "weighted avg       0.79      0.79      0.79       623\n",
            "\n"
          ]
        }
      ]
    },
    {
      "cell_type": "markdown",
      "metadata": {
        "id": "qDkRu0kWY6q6"
      },
      "source": [
        "# Step 7: Fit the Data to at Least One Other Model\n",
        "\n",
        "Select one (or more) other appropriate model and use it to model the data. Calculate the cross-validation accuracy of each model. \n",
        "\n",
        "**Note**: Use comments in your code and text blocks to explain your decisions and results."
      ]
    },
    {
      "cell_type": "code",
      "metadata": {
        "id": "Mf-2sSGRY7Qr",
        "colab": {
          "base_uri": "https://localhost:8080/"
        },
        "outputId": "389c31a2-983d-43e0-f5a7-ccbe454e05ae"
      },
      "source": [
        "#Step 7a\n",
        "#Following Jason Brownlee Approach from ML Mastery with Python\n",
        "\n",
        "###Setting up the lists to hold the Models, Name, and Results\n",
        "models = [] #this list will hold all our models\n",
        "names = [] #list that holds the names of each model\n",
        "results_train = [] #this list will hold the results of the other lists\n",
        "\n",
        "###Creating the Models and appending to the Models List data structure\n",
        "models.append(('LDA', LinearDiscriminantAnalysis()))\n",
        "models.append(('Logistic Regression', LogisticRegression()))\n",
        "models.append(('KNN', KNeighborsClassifier()))\n",
        "models.append(('CART', DecisionTreeClassifier()))\n",
        "models.append(('NB', GaussianNB()))\n",
        "models.append(('SVM', SVC()))\n",
        "models.append(('Random Forrest', RandomForestClassifier()))\n",
        "models.append(('GB Boost', GradientBoostingClassifier()))\n",
        "models.append(('Ada Boost', AdaBoostClassifier()))\n",
        "models.append(('SGD', SGDClassifier()))\n",
        "models.append(('XGboost', XGBClassifier()))\n",
        "\n",
        "scoring = 'accuracy' #scoring model\n",
        "x\n",
        "#for loop through all the ML models\n",
        "for name, model in models:\n",
        "  #within the For Loop create the pipeline\n",
        "  pipeline = Pipeline([\n",
        "    ('imp_mean',SimpleImputer(missing_values=np.nan, strategy='mean')),\n",
        "    ('scaler', StandardScaler()),\n",
        "    (name, model)])\n",
        "  model.fit(X_train, y_train) #fiting the X and y variables onto the model\n",
        "\n",
        "  ###Create the table to show the results\n",
        "  my_training_results = PrettyTable([\"Model Name\", \"Accuracy Score\", \"Accuracy Standard Deviation\", \"AUC\", \"AUC Standard Deviation\"])\n",
        "  \n",
        "  #validation section\n",
        "  kfold = KFold(n_splits=10, random_state=11, shuffle=True) #setting K folds\n",
        "  scores = cross_val_score(model, X_train, y_train, cv = kfold, scoring=scoring) #cross validating the scores\n",
        "  auc = cross_val_score(model, X_train, y_train, cv = kfold, scoring='roc_auc') #calculating the Area under the curve\n",
        "  #results_train.append( #appending the results to a list that I will use to persist my results later as a dataframe\n",
        "      #[name, scores.mean(), scores.std(),auc.mean(), auc.std()]\n",
        "  #)\n",
        "  #adding the results to my table\n",
        "  my_training_results.add_row([name, round(scores.mean() * 100.0,2),round(scores.std(),2), round(auc.mean() * 100.0,2), round(auc.std() * 100.0,2)])\n",
        "  #End of the For Loop\n",
        "\n",
        "#print my table\n",
        "print(my_training_results)\n",
        "#XGboost looks like the winner here in Accuracy, and AUC\n",
        "#From here on out I am going to use XGBOOST as the winning model and will evaluate further on this model"
      ],
      "execution_count": 70,
      "outputs": [
        {
          "output_type": "stream",
          "name": "stdout",
          "text": [
            "+---------------------+----------------+-----------------------------+-------+------------------------+\n",
            "|      Model Name     | Accuracy Score | Accuracy Standard Deviation |  AUC  | AUC Standard Deviation |\n",
            "+---------------------+----------------+-----------------------------+-------+------------------------+\n",
            "|         LDA         |     78.02      |             0.03            |  84.1 |          3.2           |\n",
            "| Logistic Regression |     78.97      |             0.03            | 84.14 |          3.22          |\n",
            "|         KNN         |     76.25      |             0.05            | 79.43 |          5.48          |\n",
            "|         CART        |      78.5      |             0.04            | 77.03 |          2.93          |\n",
            "|          NB         |     76.58      |             0.04            | 82.35 |          4.23          |\n",
            "|         SVM         |     62.28      |             0.07            | 75.84 |          5.73          |\n",
            "|    Random Forrest   |     77.06      |             0.04            | 81.77 |          3.77          |\n",
            "|       GB Boost      |     81.08      |             0.04            | 85.92 |          4.04          |\n",
            "|      Ada Boost      |     78.68      |             0.06            | 85.15 |          7.55          |\n",
            "|         SGD         |     70.46      |             0.06            | 81.49 |          5.24          |\n",
            "|       XGboost       |     82.19      |             0.03            | 86.75 |          4.1           |\n",
            "+---------------------+----------------+-----------------------------+-------+------------------------+\n"
          ]
        }
      ]
    },
    {
      "cell_type": "code",
      "source": [
        "#Step 7b\n",
        "# Creating a confusion matrix for XGBOOST\n",
        "pipeline = Pipeline([\n",
        "    ('imp_mean',SimpleImputer(missing_values=np.nan, strategy='mean')),\n",
        "    ('scaler', StandardScaler()),\n",
        "    ('XGBOOST', XGBClassifier())])\n",
        "pipeline.fit(X_train, y_train)\n",
        "y_predict_XGBOOST = pipeline.predict(X_train)\n",
        "matrix = confusion_matrix(y_train, y_predict_XGBOOST)\n",
        "group_names = ['True Negative','False Positive','False Negative','True Positive']\n",
        "group_counts = [\"{0:0.0f}\".format(value) for value in\n",
        "                matrix.flatten()]\n",
        "group_percentages = [\"{0:.2%}\".format(value) for value in\n",
        "                     matrix.flatten()/np.sum(matrix)]\n",
        "labels = [f\"{v1}\\n{v2}\\n{v3}\" for v1, v2, v3 in\n",
        "          zip(group_names,group_counts,group_percentages)]\n",
        "labels = np.asarray(labels).reshape(2,2)\n",
        "sns.heatmap(matrix, annot=labels, fmt='', cmap='Blues')\n",
        "plt.title(\"Confusion Matrix for XGBOOST\", fontsize =20)"
      ],
      "metadata": {
        "colab": {
          "base_uri": "https://localhost:8080/",
          "height": 305
        },
        "id": "f4dDH-3mOQZy",
        "outputId": "06b171e6-d623-4ff6-c0f7-abc6b89e13a0"
      },
      "execution_count": 196,
      "outputs": [
        {
          "output_type": "execute_result",
          "data": {
            "text/plain": [
              "Text(0.5, 1.0, 'Confusion Matrix for XGBOOST')"
            ]
          },
          "metadata": {},
          "execution_count": 196
        },
        {
          "output_type": "display_data",
          "data": {
            "text/plain": [
              "<Figure size 432x288 with 2 Axes>"
            ],
            "image/png": "[encoded data removed]"
          },
          "metadata": {
            "needs_background": "light"
          }
        }
      ]
    },
    {
      "cell_type": "code",
      "source": [
        "#Classification Report for XGBOOST\n",
        "print(classification_report(y_train, y_predict_XGBOOST))"
      ],
      "metadata": {
        "colab": {
          "base_uri": "https://localhost:8080/"
        },
        "id": "ilFpFfmzW3-V",
        "outputId": "f042a7a9-287c-4497-98c0-85bada73fc36"
      },
      "execution_count": 197,
      "outputs": [
        {
          "output_type": "stream",
          "name": "stdout",
          "text": [
            "              precision    recall  f1-score   support\n",
            "\n",
            "           0       0.83      0.95      0.89       373\n",
            "           1       0.91      0.71      0.80       250\n",
            "\n",
            "    accuracy                           0.86       623\n",
            "   macro avg       0.87      0.83      0.84       623\n",
            "weighted avg       0.86      0.86      0.85       623\n",
            "\n"
          ]
        }
      ]
    },
    {
      "cell_type": "code",
      "source": [
        "#Plot AUC for Logistic Regression\n",
        "#set up plotting area\n",
        "plt.figure(0).clf()\n",
        "\n",
        "y_pred = pipeline.predict_proba(X_train)[:, 1]\n",
        "fpr, tpr, _ = roc_curve(y_train, y_pred)\n",
        "auc = round(results.mean(), 2)\n",
        "plt.plot(fpr,tpr,label=\"XGBOOST, AUC=\"+str(auc))\n",
        "plt.plot([0, 1], [0, 1], color='orange', linestyle='--',label = \"Probaility of Chance AUC=0.50\")\n",
        "plt.xlabel('1 - Specificity')\n",
        "plt.ylabel('Sensitivity')\n",
        "#add legend\n",
        "plt.legend()\n",
        "plt.title(\"AUC For XGBOOST\", fontsize =20)\n",
        "#XGBOOST AUC is much better than 50/50 Coin flip"
      ],
      "metadata": {
        "colab": {
          "base_uri": "https://localhost:8080/",
          "height": 318
        },
        "id": "_CE4uq9dXMa7",
        "outputId": "523df8cb-986f-4366-d533-e49bbe1a36ab"
      },
      "execution_count": 198,
      "outputs": [
        {
          "output_type": "execute_result",
          "data": {
            "text/plain": [
              "Text(0.5, 1.0, 'AUC For XGBOOST')"
            ]
          },
          "metadata": {},
          "execution_count": 198
        },
        {
          "output_type": "display_data",
          "data": {
            "text/plain": [
              "<Figure size 432x288 with 1 Axes>"
            ],
            "image/png": "[encoded data removed]"
          },
          "metadata": {
            "needs_background": "light"
          }
        }
      ]
    },
    {
      "cell_type": "markdown",
      "source": [
        "### Dimensionality Reduction of the Best Model"
      ],
      "metadata": {
        "id": "8NzXlMmTZ-iS"
      }
    },
    {
      "cell_type": "code",
      "source": [
        "#PCA with 3 components\n",
        "X_train_s = StandardScaler().fit_transform(X_train)\n",
        "pca = PCA(n_components=3)\n",
        "pca.fit(X_train_s, y_train)\n",
        "\n",
        "print(f\"Explain Variance is {pca.explained_variance_ratio_}\")"
      ],
      "metadata": {
        "colab": {
          "base_uri": "https://localhost:8080/"
        },
        "id": "wKZGBpR_arUa",
        "outputId": "b1127ff1-7ad2-4d9b-9e51-534eb17751c7"
      },
      "execution_count": 67,
      "outputs": [
        {
          "output_type": "stream",
          "name": "stdout",
          "text": [
            "Explain Variance is [0.27491115 0.20249419 0.16603833]\n"
          ]
        }
      ]
    },
    {
      "cell_type": "code",
      "source": [
        "#PCA with .95%\n",
        "pca = PCA(.95)\n",
        "pca.fit(X_train_s)\n",
        "X_train_components = pca.transform(X_train_s)\n",
        "model_pca = XGBClassifier()\n",
        "model_pca.fit(X_train_components, y_train)\n",
        "scores = cross_val_score(model_pca, X_train_components, y_train, cv=10)\n",
        "print(scores.mean())\n",
        "#Accuracy with PCA is down compared to with on XGBOOST.  So I am going to not use this"
      ],
      "metadata": {
        "colab": {
          "base_uri": "https://localhost:8080/"
        },
        "id": "7in_Frj205dc",
        "outputId": "c12baba0-5229-4216-abc6-900f849b9a9c"
      },
      "execution_count": 68,
      "outputs": [
        {
          "output_type": "stream",
          "name": "stdout",
          "text": [
            "0.794521249359959\n"
          ]
        }
      ]
    },
    {
      "cell_type": "code",
      "source": [
        "#RFE for XGBOOST\n",
        "#Plot out the number of Features I will need for XGBOOST with RFE\n",
        "features = list(range(2,15))\n",
        "mean_accuracy = []\n",
        "\n",
        "for i in features:\n",
        "  pipe     = Pipeline([('scaler', StandardScaler()), \n",
        "                     ('rfe', RFE(estimator=XGBClassifier(), n_features_to_select=i)),\n",
        "                     ('log_reg', XGBClassifier())])\n",
        "\n",
        "  pipe.fit(X_train, y_train)\n",
        "\n",
        "  scores = cross_val_score(pipe, X_train, y_train, cv=10)\n",
        "  mean_accuracy.append(scores.mean())\n",
        "\n",
        "print(mean_accuracy)\n",
        "\n",
        "k_df = pd.DataFrame(features)\n",
        "k_df.rename({0:'Number of Features'}, axis=1, inplace=True)\n",
        "\n",
        "mean_accuracy_df = pd.DataFrame(mean_accuracy)*100\n",
        "mean_accuracy_df.rename({0:'mean accuracy'}, axis=1, inplace=True)\n",
        "\n",
        "to_plot = pd.concat([k_df, mean_accuracy_df], axis=1)\n",
        "\n",
        "plt.plot(to_plot['Number of Features'], to_plot['mean accuracy'])\n",
        "plt.xlabel('Number of Features')\n",
        "plt.ylabel('Mean accuracy %')\n",
        "plt.show()\n",
        "#7 seems to be the min number of features to get around 81 accuracy"
      ],
      "metadata": {
        "colab": {
          "base_uri": "https://localhost:8080/",
          "height": 297
        },
        "id": "kcCjGvmVie7_",
        "outputId": "470f4ab1-7456-460d-e8af-2d2ab392f8cb"
      },
      "execution_count": 200,
      "outputs": [
        {
          "output_type": "stream",
          "name": "stdout",
          "text": [
            "[0.7784690220174091, 0.7977470558115719, 0.7993599590373784, 0.794521249359959, 0.7993343573988735, 0.8105222734254992, 0.8040706605222734, 0.8105222734254992, 0.8105222734254992, 0.8105222734254992, 0.8105222734254992, 0.8105222734254992, 0.8105222734254992]\n"
          ]
        },
        {
          "output_type": "display_data",
          "data": {
            "text/plain": [
              "<Figure size 432x288 with 1 Axes>"
            ],
            "image/png": "[encoded data removed]"
          },
          "metadata": {
            "needs_background": "light"
          }
        }
      ]
    },
    {
      "cell_type": "code",
      "source": [
        "pipe     = Pipeline([('scaler', StandardScaler()), \n",
        "                     ('rfe', RFE(estimator=LogisticRegression(), n_features_to_select=7)),\n",
        "                     ('XGBoost', XGBClassifier())])\n",
        "\n",
        "pipe.fit(X_train, y_train)\n",
        "\n",
        "Feature_support = pd.DataFrame(pipe.named_steps['rfe'].support_, index=X_train.columns)\n",
        "Feature_support.rename({0:'Feature Support'}, axis=1, inplace=True)\n",
        "Feature_support = Feature_support.sort_values(by=['Feature Support'], ascending=False)\n",
        "print(Feature_support)"
      ],
      "metadata": {
        "colab": {
          "base_uri": "https://localhost:8080/"
        },
        "id": "ySnABF9mj0J1",
        "outputId": "0c88c297-a82d-456d-8b18-ab23e31342cf"
      },
      "execution_count": 201,
      "outputs": [
        {
          "output_type": "stream",
          "name": "stdout",
          "text": [
            "                Feature Support\n",
            "Pclass                     True\n",
            "Age                        True\n",
            "SibSp                      True\n",
            "Sex_female                 True\n",
            "Sex_male                   True\n",
            "Age_Categories             True\n",
            "Family_Unit                True\n",
            "Parch                     False\n",
            "Embarked_C                False\n",
            "Embarked_Q                False\n",
            "Embarked_S                False\n"
          ]
        }
      ]
    },
    {
      "cell_type": "code",
      "source": [
        "#Tacking the results of RFE from above and remove Parch, and the Embarked\n",
        "X_train_rfe = X_train.copy()\n",
        "X_train_rfe.drop(columns=['Parch','Embarked_C', 'Embarked_Q', 'Embarked_S'], axis=1)\n",
        "pipeline = Pipeline([\n",
        "    ('imp_mean',SimpleImputer(missing_values=np.nan, strategy='mean')),\n",
        "    ('scaler', StandardScaler()),\n",
        "    ('XGBOOST', XGBClassifier())])\n",
        "pipeline.fit(X_train_rfe, y_train)\n",
        "kfold = KFold(n_splits=10, random_state=11, shuffle=True) #setting K folds\n",
        "scores = cross_val_score(pipeline, X_train_rfe, y_train, cv = kfold, scoring=scoring) #cross validating the scores\n",
        "auc = cross_val_score(pipeline, X_train_rfe, y_train, cv = kfold, scoring='roc_auc') #calculating the Area under the curve\n",
        "scores.mean()\n",
        "#Score of .82 us as good with the full dataset.  I am going to go with the slimmer dataset when I do the Test\n"
      ],
      "metadata": {
        "colab": {
          "base_uri": "https://localhost:8080/"
        },
        "id": "ChBuqrwykROz",
        "outputId": "96ca14d5-1fad-4734-d769-46a35c760cc7"
      },
      "execution_count": 69,
      "outputs": [
        {
          "output_type": "execute_result",
          "data": {
            "text/plain": [
              "0.8670907662991503"
            ]
          },
          "metadata": {},
          "execution_count": 69
        }
      ]
    },
    {
      "cell_type": "markdown",
      "source": [
        "Tune the Hyperparams of XGBOOST"
      ],
      "metadata": {
        "id": "7Mo0FaDR2Obr"
      }
    },
    {
      "cell_type": "code",
      "source": [
        "#following info from https://www.anyscale.com/blog/how-to-tune-hyperparameters-on-xgboost\n",
        "params = {'max_depth': [3, 6, 10, 15],\n",
        "          'learning_rate': [0.01, 0.1, 0.2, 0.3, 0.4],\n",
        "          'subsample': np.arange(0.5, 1.0, 0.1),\n",
        "          'colsample_bytree': np.arange(0.5, 1.0, 0.1),\n",
        "          'colsample_bylevel': np.arange(0.5, 1.0, 0.1),\n",
        "          'n_estimators': [100, 250, 500, 750],\n",
        "          'num_class': [10]\n",
        "           }\n",
        "xgbclf = XGBClassifier(objective=\"multi:softmax\", tree_method='hist')\n",
        "clf = RandomizedSearchCV(estimator=xgbclf,\n",
        "                             param_distributions=params,\n",
        "                             scoring='accuracy',\n",
        "                             n_iter=25,\n",
        "                             n_jobs=4,\n",
        "                             verbose=1)\n",
        "\n",
        "clf.fit(X_train, y_train)\n",
        "best_combination = clf.best_params_\n",
        "print(\"Best hyperparameter combination: \", best_combination)"
      ],
      "metadata": {
        "colab": {
          "base_uri": "https://localhost:8080/"
        },
        "id": "jJdRYAff1k0N",
        "outputId": "2d1d57b0-fcbc-4aa3-b858-c4edb0ad80b6"
      },
      "execution_count": 72,
      "outputs": [
        {
          "output_type": "stream",
          "name": "stdout",
          "text": [
            "Fitting 5 folds for each of 25 candidates, totalling 125 fits\n",
            "Best hyperparameter combination:  {'subsample': 0.6, 'num_class': 10, 'n_estimators': 250, 'max_depth': 3, 'learning_rate': 0.01, 'colsample_bytree': 0.6, 'colsample_bylevel': 0.7999999999999999}\n"
          ]
        }
      ]
    },
    {
      "cell_type": "code",
      "source": [
        "#Using the best params above to see if we get a better accuracy.\n",
        "pipeline = Pipeline([\n",
        "    ('imp_mean',SimpleImputer(missing_values=np.nan, strategy='mean')),\n",
        "    ('scaler', StandardScaler()),\n",
        "    ('XGBOOST', XGBClassifier(objective=\"multi:softmax\", tree_method='hist',subsampl= 0.6, num_class=10, n_estimators=250, max_depth=3, learning_rate=0.01, colsample_bytree=0.6, colsample_bylevel=0.799999999999999))])\n",
        "pipeline.fit(X_train, y_train) #fiting the X and y variables onto the model\n",
        "pipeline.fit(X_train, y_train)\n",
        "kfold = KFold(n_splits=10, random_state=11, shuffle=True) #setting K folds\n",
        "scores = cross_val_score(pipeline, X_train, y_train, cv = kfold, scoring=scoring) #cross validating the scores\n",
        "auc = cross_val_score(pipeline, X_train, y_train, cv = kfold, scoring='roc_auc') #calculating the Area under the curve\n",
        "\n",
        "#Did not increase accuracy.  So going to stay with the default setting from above"
      ],
      "metadata": {
        "colab": {
          "base_uri": "https://localhost:8080/"
        },
        "id": "YAQh34FS7sK6",
        "outputId": "199c71a3-f853-47d4-a6d8-ff1fc2f7029b"
      },
      "execution_count": 83,
      "outputs": [
        {
          "output_type": "execute_result",
          "data": {
            "text/plain": [
              "0.8137480798771121"
            ]
          },
          "metadata": {},
          "execution_count": 83
        }
      ]
    },
    {
      "cell_type": "markdown",
      "metadata": {
        "id": "ep2NIZeex_yj"
      },
      "source": [
        "# Step 8: Evaluate Your Best Model\n",
        "\n",
        "Evaluate your best model using the test set. \n",
        "\n",
        "*   Which model fit the data best?\n",
        "*   What was the best accuracy you were able to achieve?  \n",
        "\n",
        "**Note**: Use comments in your code and text blocks to explain your decisions and results."
      ]
    },
    {
      "cell_type": "code",
      "metadata": {
        "id": "2u20nsPshZb2",
        "colab": {
          "base_uri": "https://localhost:8080/"
        },
        "outputId": "6f3df29e-d89d-49f7-de95-892da9ea5330"
      },
      "source": [
        "# Step 8\n",
        "pipeline = Pipeline([\n",
        "    ('imp_mean',SimpleImputer(missing_values=np.nan, strategy='mean')),\n",
        "    ('scaler', StandardScaler()),\n",
        "    ('XGBOOST_Test', XGBClassifier())])\n",
        "pipeline.fit(X_test, y_test) #fiting the X and y variables onto the model\n",
        "#Create the table to display the results for later\n",
        "my_test_results = PrettyTable([\"Model Name\", \"Accuracy Score\", \"Accuracy Standard Deviation\", \"AUC\", \"AUC Standard Deviation\"])\n",
        "#validation section\n",
        "kfold = KFold(n_splits=10, random_state=11, shuffle=True) #setting K folds\n",
        "scores = cross_val_score(model, X_test, y_test, cv = kfold, scoring=scoring) #cross validating the scores\n",
        "auc = cross_val_score(model, X_test, y_test, cv = kfold, scoring='roc_auc') #calculating the Area under the curve\n",
        "\n",
        "#adding the results to my table\n",
        "my_test_results.add_row([name, round(scores.mean() * 100.0,2),round(scores.std(),2), round(auc.mean() * 100.0,2), round(auc.std() * 100.0,2)])\n",
        "\n",
        "#print my table\n",
        "print(my_test_results)"
      ],
      "execution_count": 88,
      "outputs": [
        {
          "output_type": "stream",
          "name": "stdout",
          "text": [
            "+------------+----------------+-----------------------------+-------+------------------------+\n",
            "| Model Name | Accuracy Score | Accuracy Standard Deviation |  AUC  | AUC Standard Deviation |\n",
            "+------------+----------------+-----------------------------+-------+------------------------+\n",
            "|  XGboost   |     83.52      |             0.06            | 80.58 |          6.03          |\n",
            "+------------+----------------+-----------------------------+-------+------------------------+\n"
          ]
        }
      ]
    },
    {
      "cell_type": "code",
      "source": [
        "#RFE on the test data\n",
        "X_test_rfe = X_test.copy()\n",
        "X_test_rfe.drop(columns=['Parch','Embarked_C', 'Embarked_Q', 'Embarked_S'], axis=1)\n",
        "pipeline = Pipeline([\n",
        "    ('imp_mean',SimpleImputer(missing_values=np.nan, strategy='mean')),\n",
        "    ('scaler', StandardScaler()),\n",
        "    ('XGBOOST', XGBClassifier())])\n",
        "pipeline.fit(X_test_rfe, y_test)\n",
        "kfold = KFold(n_splits=10, random_state=11, shuffle=True) #setting K folds\n",
        "scores = cross_val_score(pipeline, X_test_rfe, y_test, cv = kfold, scoring=scoring) #cross validating the scores\n",
        "auc = cross_val_score(pipeline, X_test_rfe, y_test, cv = kfold, scoring='roc_auc') #calculating the Area under the curve\n",
        "scores.mean()\n",
        "#Since the score here is smaller than without RFE version, I will go with the remaining"
      ],
      "metadata": {
        "colab": {
          "base_uri": "https://localhost:8080/"
        },
        "id": "Ndmuctb3_VL3",
        "outputId": "985482cf-8fb5-4023-c9fe-31077d3d38aa"
      },
      "execution_count": 87,
      "outputs": [
        {
          "output_type": "execute_result",
          "data": {
            "text/plain": [
              "0.8277777777777777"
            ]
          },
          "metadata": {},
          "execution_count": 87
        }
      ]
    },
    {
      "cell_type": "markdown",
      "source": [
        "#Step 9: Final Reporting\n",
        "\n",
        "Summarize your model building process:  \n",
        "* How did you identify the model target and features?  \n",
        "* What steps did you take to prepare the data for modeling?  \n",
        "* Which baseline model did you choose and why? How did you evaluate the model's performance?  \n",
        "* Which other model(s) did you choose and why? How did you evaluate the model's performace?  \n",
        "* What was the best model you developed? How well did the model perform on the test data?"
      ],
      "metadata": {
        "id": "JYcXAvwtyrnA"
      }
    },
    {
      "cell_type": "markdown",
      "source": [
        "#Step 9:\n",
        "\n",
        "\n",
        "1.   The Titanic Dataset is a classification problem.  I was looking to best identify who would survive from the Sinking of the Titanic using the attached dataset.  Survived was the best column to use as the Target.  For the remaining features, I did some descriptive statistics and visualization of the data to target the final features.\n",
        "2.   I checked for any missing data, and impuned those features.  I also one hot encoded any categorical features.  I engineered two features (Age_Categories, and Family_Unit)\n",
        "3. My baseline model was logistic regression.  Since this was a classification problem, I went with that as the baseline model.\n",
        "4. I wanted to compare all the classification models, so I tested the training data on LDA, Logistic, KNN, CART, NB, SVM, Random Forrest, GB Boost, Ada Boost, SGD and XGBOOS.\n",
        "5. The best overall model was XGBOOST.  The mode itself in training was 82.19, with an Training AUC of 86.75.  In test, my accuracy was 83.52, and my AUC was 80.58.  \n",
        "\n"
      ],
      "metadata": {
        "id": "6x9-IRv6zZlO"
      }
    }
  ]
}