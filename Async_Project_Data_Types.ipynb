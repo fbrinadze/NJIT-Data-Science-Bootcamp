{
  "nbformat": 4,
  "nbformat_minor": 0,
  "metadata": {
    "colab": {
      "name": "Async_Project_Data_Types.ipynb",
      "provenance": [],
      "collapsed_sections": [
        "LGhBGCfFuoJb",
        "CRphad9vwCec",
        "uYW1FBFL4pZv"
      ],
      "include_colab_link": true
    },
    "kernelspec": {
      "name": "python3",
      "display_name": "Python 3"
    },
    "language_info": {
      "name": "python"
    }
  },
  "cells": [
    {
      "cell_type": "markdown",
      "metadata": {
        "id": "view-in-github",
        "colab_type": "text"
      },
      "source": [
        "<a href=\"https://colab.research.google.com/github/fbrinadze/NJIT-Data-Science-Bootcamp/blob/main/Async_Project_Data_Types.ipynb\" target=\"_parent\"><img src=\"https://colab.research.google.com/assets/colab-badge.svg\" alt=\"Open In Colab\"/></a>"
      ]
    },
    {
      "cell_type": "markdown",
      "metadata": {
        "id": "MPEk4V7UtVOa"
      },
      "source": [
        "# **Asynchronous Project: Data Types**\n",
        "\n",
        "Congratulations on making it to the end of Python Programming, Module 2: Data Types! Now that you know about all the data types Python has to offer, this worksheet will take you through each type's functionalities. Don't worry if you don't know every single data type. Use your previous knowledge from SQL and pre- and post-class activities to help you!"
      ]
    },
    {
      "cell_type": "markdown",
      "metadata": {
        "id": "LGhBGCfFuoJb"
      },
      "source": [
        "## **Part 1: Research Activity**\n",
        "\n",
        "What is a \"Boolean variable\"? Where did the name \"Boole\" come from? Spend a few minutes doing some research on the origin of the name. \n",
        "\n",
        "*Simply double-click the below box and type your answer in the text box.*\n",
        "\n",
        "Write your answer below:"
      ]
    },
    {
      "cell_type": "markdown",
      "metadata": {
        "id": "41uCA-dKv-g4"
      },
      "source": [
        "Your answer here: ... It was named after George Boole.  George Boole was a 19th century mathmatician.\n"
      ]
    },
    {
      "cell_type": "markdown",
      "metadata": {
        "id": "CRphad9vwCec"
      },
      "source": [
        "## **Part 2: Testing Data Types**\n",
        "\n",
        "You will run the next few lines of code to complete a table of data types. Answer questions along the way!"
      ]
    },
    {
      "cell_type": "markdown",
      "metadata": {
        "id": "3DhoD5a7xB6h"
      },
      "source": [
        "Update the below table as you determine each data type. Replace each \"...\" with your answer.\n",
        "\n",
        "| Code                                        | Data Type |\n",
        "| ------------------------------------------- | --------- |\n",
        "| print (type(\"University of Virginia\"))      | String     |\n",
        "| print (type(\"Madison\"))                     | String     |\n",
        "| print (type(2021))                          | Integer       |\n",
        "| print (type(37.6))                          | Float       |\n",
        "| print (type(True))                          | Bool       |\n",
        "| print (type(False))                         | Bool      |"
      ]
    },
    {
      "cell_type": "code",
      "metadata": {
        "id": "4I-zLbiC2oKQ",
        "outputId": "9a5bc9f5-29e8-4b8b-9cd1-37a871f12951",
        "colab": {
          "base_uri": "https://localhost:8080/"
        }
      },
      "source": [
        "# Click the play button to run the cell and determine the outcome. \n",
        "print (type(\"University of Virginia\"))"
      ],
      "execution_count": 1,
      "outputs": [
        {
          "output_type": "stream",
          "name": "stdout",
          "text": [
            "<class 'str'>\n"
          ]
        }
      ]
    },
    {
      "cell_type": "code",
      "metadata": {
        "id": "XM2iY5mq24ou",
        "outputId": "5592c8ca-0729-4f2b-c469-ef1b4a77c917",
        "colab": {
          "base_uri": "https://localhost:8080/"
        }
      },
      "source": [
        "print (type(\"Madison\"))"
      ],
      "execution_count": 2,
      "outputs": [
        {
          "output_type": "stream",
          "name": "stdout",
          "text": [
            "<class 'str'>\n"
          ]
        }
      ]
    },
    {
      "cell_type": "code",
      "metadata": {
        "id": "3KHBOWnr28OF",
        "outputId": "758ea601-6989-42dd-e984-c878de26a7b9",
        "colab": {
          "base_uri": "https://localhost:8080/"
        }
      },
      "source": [
        "print (type(2021))"
      ],
      "execution_count": 3,
      "outputs": [
        {
          "output_type": "stream",
          "name": "stdout",
          "text": [
            "<class 'int'>\n"
          ]
        }
      ]
    },
    {
      "cell_type": "code",
      "metadata": {
        "id": "Jo1DHQN43AqE",
        "outputId": "8139a402-8017-4be4-a507-172bca6c4f4b",
        "colab": {
          "base_uri": "https://localhost:8080/"
        }
      },
      "source": [
        "print (type(37.6))"
      ],
      "execution_count": 4,
      "outputs": [
        {
          "output_type": "stream",
          "name": "stdout",
          "text": [
            "<class 'float'>\n"
          ]
        }
      ]
    },
    {
      "cell_type": "code",
      "metadata": {
        "id": "uJ4S-7ZY3FuX",
        "outputId": "5e69535b-70e5-425e-91d5-e826c353c738",
        "colab": {
          "base_uri": "https://localhost:8080/"
        }
      },
      "source": [
        "print (type(True))"
      ],
      "execution_count": 5,
      "outputs": [
        {
          "output_type": "stream",
          "name": "stdout",
          "text": [
            "<class 'bool'>\n"
          ]
        }
      ]
    },
    {
      "cell_type": "markdown",
      "metadata": {
        "id": "FN4D3UPL3TTl"
      },
      "source": [
        "What happens if we replace 'True' with 'true'? \n",
        "\n",
        "Type the same code with a lower case t for true. "
      ]
    },
    {
      "cell_type": "code",
      "metadata": {
        "id": "19-T09Ff3iFG",
        "outputId": "326ec87e-692b-4bfd-d75f-910a5d50a2db",
        "colab": {
          "base_uri": "https://localhost:8080/",
          "height": 186
        }
      },
      "source": [
        "# Insert your code below and run the snippet.\n",
        "print (type(true))"
      ],
      "execution_count": 6,
      "outputs": [
        {
          "output_type": "error",
          "ename": "NameError",
          "evalue": "ignored",
          "traceback": [
            "\u001b[0;31m---------------------------------------------------------------------------\u001b[0m",
            "\u001b[0;31mNameError\u001b[0m                                 Traceback (most recent call last)",
            "\u001b[0;32m<ipython-input-6-28020c49e541>\u001b[0m in \u001b[0;36m<module>\u001b[0;34m()\u001b[0m\n\u001b[1;32m      1\u001b[0m \u001b[0;31m# Insert your code below and run the snippet.\u001b[0m\u001b[0;34m\u001b[0m\u001b[0;34m\u001b[0m\u001b[0;34m\u001b[0m\u001b[0m\n\u001b[0;32m----> 2\u001b[0;31m \u001b[0mprint\u001b[0m \u001b[0;34m(\u001b[0m\u001b[0mtype\u001b[0m\u001b[0;34m(\u001b[0m\u001b[0mtrue\u001b[0m\u001b[0;34m)\u001b[0m\u001b[0;34m)\u001b[0m\u001b[0;34m\u001b[0m\u001b[0;34m\u001b[0m\u001b[0m\n\u001b[0m",
            "\u001b[0;31mNameError\u001b[0m: name 'true' is not defined"
          ]
        }
      ]
    },
    {
      "cell_type": "markdown",
      "metadata": {
        "id": "MU6G9L_b3nR0"
      },
      "source": [
        "NameError                                 Traceback (most recent call last)\n",
        "<ipython-input-6-28020c49e541> in <module>()\n",
        "      1 # Insert your code below and run the snippet.\n",
        "----> 2 print (type(true))\n",
        "\n",
        "NameError: name 'true' is not definedYour answer here: ..."
      ]
    },
    {
      "cell_type": "code",
      "metadata": {
        "id": "8cRNUVAS300s"
      },
      "source": [
        "print (type(False))"
      ],
      "execution_count": null,
      "outputs": []
    },
    {
      "cell_type": "markdown",
      "metadata": {
        "id": "uYW1FBFL4pZv"
      },
      "source": [
        "# **Part 3: Trial and Error**\n",
        "\n",
        "Complete the table by reading the expression and making a prediction about the data type. Then, run the command to print their data type and see how many you got right!"
      ]
    },
    {
      "cell_type": "markdown",
      "metadata": {
        "id": "aifp3OAd5XqG"
      },
      "source": [
        "| Expression      | Data Type Prediction | Actual Data Type |\n",
        "| --------------- | -------------------- | ---------------- |\n",
        "| \"Hi there\"      | String                | String            |\n",
        "| True            | Bool                  | Bool             |\n",
        "| 25              | Integer                  | Integer              |\n",
        "| 12.11           | Float                  | Float              |\n",
        "| -273            | Integer                  | Integer              |\n",
        "| \"25\"            | String                  | String              |\n",
        "| \"True\"          | String                 | String              |\n",
        "| False           | Bool                  | Bool              |\n",
        "| .0005           | Float                  | Float              |"
      ]
    },
    {
      "cell_type": "code",
      "metadata": {
        "id": "sThtA_CL7OAI",
        "outputId": "bf3259e1-d134-40e1-b277-63bab571a600",
        "colab": {
          "base_uri": "https://localhost:8080/"
        }
      },
      "source": [
        "print (type(\"Hi there\"))"
      ],
      "execution_count": 7,
      "outputs": [
        {
          "output_type": "stream",
          "name": "stdout",
          "text": [
            "<class 'str'>\n"
          ]
        }
      ]
    },
    {
      "cell_type": "markdown",
      "metadata": {
        "id": "l76BhgwS7SpM"
      },
      "source": [
        "The first code snippet was typed for you. Use the remaining cells to type your own code and run each cell. Don't forget to fill out the 'Actual Data Type' column in the table."
      ]
    },
    {
      "cell_type": "code",
      "metadata": {
        "id": "fBX3H9Qa7zBK",
        "outputId": "7888fea6-b2e2-4d95-8ea5-878d8746163d",
        "colab": {
          "base_uri": "https://localhost:8080/"
        }
      },
      "source": [
        "# True\n",
        "print (type (True))"
      ],
      "execution_count": 12,
      "outputs": [
        {
          "output_type": "stream",
          "name": "stdout",
          "text": [
            "<class 'bool'>\n"
          ]
        }
      ]
    },
    {
      "cell_type": "code",
      "metadata": {
        "id": "r5iFqp1G7z5d",
        "outputId": "10b635d5-9280-4a06-8ffe-a391054b892a",
        "colab": {
          "base_uri": "https://localhost:8080/"
        }
      },
      "source": [
        "# 25\n",
        "print (type (25))"
      ],
      "execution_count": 13,
      "outputs": [
        {
          "output_type": "stream",
          "name": "stdout",
          "text": [
            "<class 'int'>\n"
          ]
        }
      ]
    },
    {
      "cell_type": "code",
      "metadata": {
        "id": "4mLFu7Qe702i",
        "outputId": "e000b1db-1282-4e16-8456-986f080ef95e",
        "colab": {
          "base_uri": "https://localhost:8080/"
        }
      },
      "source": [
        "# 12.11\n",
        "print (type(12.11))"
      ],
      "execution_count": 14,
      "outputs": [
        {
          "output_type": "stream",
          "name": "stdout",
          "text": [
            "<class 'float'>\n"
          ]
        }
      ]
    },
    {
      "cell_type": "code",
      "metadata": {
        "id": "fRfMKEfe72iu",
        "outputId": "d83a8fc3-8a98-4327-ae66-c891e25b2f39",
        "colab": {
          "base_uri": "https://localhost:8080/"
        }
      },
      "source": [
        "# -273\n",
        "print (type(-273))"
      ],
      "execution_count": 15,
      "outputs": [
        {
          "output_type": "stream",
          "name": "stdout",
          "text": [
            "<class 'int'>\n"
          ]
        }
      ]
    },
    {
      "cell_type": "code",
      "metadata": {
        "id": "5iVosAyR74YO"
      },
      "source": [
        "# \"25\"\n",
        "..."
      ],
      "execution_count": null,
      "outputs": []
    },
    {
      "cell_type": "code",
      "metadata": {
        "id": "oKKW-6aR75xz",
        "outputId": "fc9c826a-0c62-43c9-db15-ac6ed9ae7b28",
        "colab": {
          "base_uri": "https://localhost:8080/"
        }
      },
      "source": [
        "# \"True\"\n",
        "print (type(\"True\"))"
      ],
      "execution_count": 16,
      "outputs": [
        {
          "output_type": "stream",
          "name": "stdout",
          "text": [
            "<class 'str'>\n"
          ]
        }
      ]
    },
    {
      "cell_type": "code",
      "metadata": {
        "id": "tqFgdDNc77cM"
      },
      "source": [
        "# False\n",
        "..."
      ],
      "execution_count": null,
      "outputs": []
    },
    {
      "cell_type": "code",
      "metadata": {
        "id": "Lhz4-K2J78kM",
        "outputId": "734b64eb-8681-4d90-9c40-c5866bc299b6",
        "colab": {
          "base_uri": "https://localhost:8080/"
        }
      },
      "source": [
        "# .0005\n",
        "print (type(.0005))"
      ],
      "execution_count": 17,
      "outputs": [
        {
          "output_type": "stream",
          "name": "stdout",
          "text": [
            "<class 'float'>\n"
          ]
        }
      ]
    }
  ]
}