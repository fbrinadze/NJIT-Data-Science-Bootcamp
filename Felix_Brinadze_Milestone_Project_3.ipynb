{
  "nbformat": 4,
  "nbformat_minor": 0,
  "metadata": {
    "colab": {
      "provenance": [],
      "collapsed_sections": [],
      "include_colab_link": true
    },
    "kernelspec": {
      "name": "python3",
      "display_name": "Python 3"
    },
    "language_info": {
      "name": "python"
    }
  },
  "cells": [
    {
      "cell_type": "markdown",
      "metadata": {
        "id": "view-in-github",
        "colab_type": "text"
      },
      "source": [
        "<a href=\"https://colab.research.google.com/github/fbrinadze/NJIT-Data-Science-Bootcamp/blob/main/Felix_Brinadze_Milestone_Project_3.ipynb\" target=\"_parent\"><img src=\"https://colab.research.google.com/assets/colab-badge.svg\" alt=\"Open In Colab\"/></a>"
      ]
    },
    {
      "cell_type": "markdown",
      "metadata": {
        "id": "1lDZZErLuVot"
      },
      "source": [
        "#Milestone Project 3\n",
        "\n",
        "##Part 1: Planning"
      ]
    },
    {
      "cell_type": "markdown",
      "metadata": {
        "id": "qnXcVBJtuTPC"
      },
      "source": [
        "### Task 1: Choose a Research Question\n",
        "\n",
        "For this task, we're going to focus on formulating a research question with a compelling, real-world application that can be answered using a machine learning model. There is no specific area or topic that you're required to investigate.  In fact, it's usually more interesting if you're exploring your own personal interests or answering a question related to the industry where you will direct your job search."
      ]
    },
    {
      "cell_type": "markdown",
      "metadata": {
        "id": "qZ6b1PQlvbOO"
      },
      "source": [
        "**The most important rule of research questions is to actually have one.** Many, many projects suffer because the learner begins with a vague, general sense of direction but doesn’t have a clear, specific question to answer.  For example, you might wish to complete your Milestone 3 project about shopping habits at a particular online retailer, but the data you use and the ML model you develop will depend on your specific research question.  \n",
        "\n",
        "For example, you’ll need different methods to answer the question “Are customers who see a new version of the store website more likely to make a purchase?” than to answer the question, “What products do customers often purchase in the same order?”"
      ]
    },
    {
      "cell_type": "markdown",
      "metadata": {
        "id": "Eoj8fOkfvgDc"
      },
      "source": [
        "**The second most important rule of research questions is not to get in over your head.**  If you are really interested in your topic, you will probably have lots and lots of research questions that you are tempted to answer with this project.  Do not do it!  For this project, you will answer one (and only one) specific, well-defined question.  "
      ]
    },
    {
      "cell_type": "markdown",
      "metadata": {
        "id": "qHMfV_zbvlwM"
      },
      "source": [
        "Research is not a mechanical process and often doesn’t proceed in a straight line, but it's almost always best to spend time at the start of your project developing and refining a core question that will motivate your study: it makes every aspect of the research process easier.\n",
        "\n",
        "**Although you may need to try a lot of things on your way to answering your research question, please remove any code that is not part of your finished project before submitting.**\n",
        "\n",
        "**This notebook should be able to run from start to finish without error.** \n"
      ]
    },
    {
      "cell_type": "markdown",
      "metadata": {
        "id": "bjqNOJ6NvrDS"
      },
      "source": [
        "**Step 1** \n",
        "\n",
        "Brainstorm three industries or topics that you most interested in exploring for this project."
      ]
    },
    {
      "cell_type": "markdown",
      "metadata": {
        "id": "6tqyA-_QwShM"
      },
      "source": [
        "**Step 1 Answer**\n",
        "\n",
        "1. E-commerce\n",
        "2. Environmental science\n",
        "3. Biology"
      ]
    },
    {
      "cell_type": "markdown",
      "metadata": {
        "id": "rSFgF22pwbxx"
      },
      "source": [
        "**Step 2** \n",
        "\n",
        "Pick the industry or topic from Step 1 that interests you the most.  Brainstorm three potential research questions that you could answer for this project.  **Right now, the question will be fairly broad.  You will refine your research question once you select your data set.** Each potential research question should have the following qualities:\n",
        "\n",
        "*   It's a question, not a statement.\n",
        "*   It has a real-world application with clear stakeholder(s).\n",
        "*   You can answer the question using a machine learning model.\n",
        "*   You know (or have a pretty good idea) which machine learning model will be appropriate for your research question.\n",
        "*   You have a pretty good idea how to find the data that will answer your question (more on that later).\n",
        "*   You don't know the answer in advance. "
      ]
    },
    {
      "cell_type": "markdown",
      "metadata": {
        "id": "Yuxln0sDSaTI"
      },
      "source": [
        "**Step 2 Answer**\n",
        "\n",
        "I'm going to focus on Ecommerce Shopping / Consumer Buying\n",
        "\n",
        "1. How can we use Machine Learning to leverage online viewing behavior/shopping to determine who will make a purchase?\n",
        "2. How can we use online shopping to determine what a customer will purchase?\n",
        "3. How can we use machine learning to select the most important features for determining which items a customer will purchase?"
      ]
    },
    {
      "cell_type": "markdown",
      "metadata": {
        "id": "HwjFEfxKSvUD"
      },
      "source": [
        "**Step 3** \n",
        "\n",
        "Rank your three potential research questions from Step 2 in order from one to three with one being your top choice and two and three being backup choices.  \n",
        "\n",
        "When ranking your research questions, think both about what interests you the most and what will be practical.  How well-defined is each research question?  How difficult will it be to find data to answer that question?  How difficult will it be to wrangle the data?  How confident do you feel about selecting an ML model to answer the research question?\n",
        "\n",
        "This is a great time to involve your instructor, who can provide guidance on revising your ideas in Step 2 and identifying your top and backup research questions. "
      ]
    },
    {
      "cell_type": "markdown",
      "metadata": {
        "id": "IbIdifQkUdVI"
      },
      "source": [
        "**Step 3 Answer**\n",
        "\n",
        "First choice: How can we use Machine Learning to leverage online viewing behavior/shopping to determine who will make a purchase?\n",
        "\n",
        "Back up choices: How can we use online shopping to determine what a customer will purchase?\n",
        "How can we use machine learning to select the most important features for determining which items a customer will purchase?"
      ]
    },
    {
      "cell_type": "markdown",
      "metadata": {
        "id": "3x-aZs05UlJE"
      },
      "source": [
        "**My Milestone Project 3 Research Question Is:**\n",
        "\n",
        "How can we use machine learning to select the most important features for determining the presence or absence of disease?"
      ]
    },
    {
      "cell_type": "markdown",
      "metadata": {
        "id": "o0wz2-4iUytl"
      },
      "source": [
        "### Task 2: Select a Data Set \n",
        "\n",
        "Once you have a research question, you need to find a publically available data set that will allow you to answer it."
      ]
    },
    {
      "cell_type": "markdown",
      "metadata": {
        "id": "zdH_T0n4VNgT"
      },
      "source": [
        "\n",
        "There are lots of potential sources.  A few that are particularly useful are:\n",
        "\n",
        "[Awesome public data sets:](https://github.com/awesomedata/awesome-public-datasets)\n",
        "\n",
        "[Kaggle:](https://www.kaggle.com/datasets)\n",
        "\n",
        "[UC Irvine Machine Learning:](https://archive.ics.uci.edu/ml/datasets.php)\n",
        "\n",
        "Definitely Google around for more data sources and ask your peers and instructor! \n"
      ]
    },
    {
      "cell_type": "markdown",
      "metadata": {
        "id": "7Vf4NTGMVhqM"
      },
      "source": [
        "**Step 1** \n",
        "\n",
        "Find at least one data set that you can use to answer your research question from Task 1.  \n",
        "\n",
        "Your data set should:\n",
        "* Be at least 100 records long.  You'll need a lot more records if you want to use a neural network.  \n",
        "* Be publically available on the Internet. Don't collect your own data.  Don’t use data that can’t be attributed to a reputable source.\n",
        "* Have at least 4 features (remember that, when modeling text data, each word is a feature).\n",
        "\n",
        "This is another good opportunity to check in with your instructor and make sure you are on the right track.  \n",
        "\n",
        "\n"
      ]
    },
    {
      "cell_type": "markdown",
      "metadata": {
        "id": "M_DfahMdW4Rt"
      },
      "source": [
        "**Step 1 Answer**\n",
        "I am going to use a dataset of 12,330 sessions.  The data consists of The data set is a set of 18 features: 10 numerical and 8 categorical. This dataset has 12330 entries, split into 10,422 entries where the shoppers did not purchase and 1908 entries where the shoppers did purchase. Each entry is based on unique users in a 1-year period to avoid any trends specific to a specific campaign.\n",
        "\n",
        "The data set can be found [here](https://archive.ics.uci.edu/ml/datasets/Online+Shoppers+Purchasing+Intention+Dataset)"
      ]
    },
    {
      "cell_type": "markdown",
      "metadata": {
        "id": "tvo6xPBE5_Q8"
      },
      "source": [
        "**Step 2** \n",
        "\n",
        "Refine your research question so it applies to your specific data set.  \n",
        "\n",
        "For example, if your broad research question was \"How can I use machine learning to group customers by what they buy?\" and you select a data set that contains Target holiday shopping orders, your refined research question might be something like, \"Can I group Target customers by their holiday shopping orders?\"\n",
        "\n",
        "**At this point, it is possible that you will discover that you can't find a data set and research question that work well together.  Work with your instructor to either modify your current question or select one of your backup research questions above.  To complete this task successfully, you will need to have selected a research question and have a data set that can be used to answer it.**\n"
      ]
    },
    {
      "cell_type": "markdown",
      "metadata": {
        "id": "Kk-rG1e17GW0"
      },
      "source": [
        "**Step 2 Answer**\n",
        "\n",
        "Can we identify a pattern of online shopping bevaiors that will indicate the propensity of a customer willing to make a purchase (A conversion)?"
      ]
    },
    {
      "cell_type": "markdown",
      "metadata": {
        "id": "Z2ld_oYpXTlS"
      },
      "source": [
        "### Task 3: Conduct Exploratory Data Analysis \n",
        "\n",
        "The purpose of exploratory data analysis at the project planning stage is to make sure that your data will answer your research question. It is possible to do everything correctly during this step and still hit a roadblock when you actually run your ML model, but it’s much less likely.\n"
      ]
    },
    {
      "cell_type": "markdown",
      "metadata": {
        "id": "E5xspQ0_XyH2"
      },
      "source": [
        "**Step 1** \n",
        "\n",
        "Determine the type(s) of machine learning model(s) you will use to answer your research question.  There might be only one type of model that will work, or you might have a number of models to choose from."
      ]
    },
    {
      "cell_type": "markdown",
      "metadata": {
        "id": "ufMSg0vqYTY4"
      },
      "source": [
        "**Step 1 Answer**\n",
        "\n",
        "I need to use a classification model to answer my research question because I will be interested in if a user made a purchase (EG/ Revenue). "
      ]
    },
    {
      "cell_type": "markdown",
      "metadata": {
        "id": "wPokiwSFYZbN"
      },
      "source": [
        "**Step 2** \n",
        "\n",
        "Are there any requirements your data must meet to use the ML model(s) you listed in Step 1?  For example, if you plan to use a logistic regression model, you must have a categorical target.  If you wish to use natural language processing, you'll need a large amount of text data.\n"
      ]
    },
    {
      "cell_type": "markdown",
      "metadata": {
        "id": "t1OF8YFSZMIU"
      },
      "source": [
        "**Step 2 Answer**\n",
        "\n",
        "Yes, my target is a categorical variable.  I plan to use the Revenue Feature, which will tell me if the customer made a purchase on the site.  "
      ]
    },
    {
      "cell_type": "markdown",
      "metadata": {
        "id": "HLbjR-PyZVwg"
      },
      "source": [
        "**Step 3** \n",
        "\n",
        "Using visualizations or summary data, show that the requirements you listed in Step 2 are met by your data. Feel free to add code blocks as necessary.\n",
        "\n"
      ]
    },
    {
      "cell_type": "code",
      "metadata": {
        "id": "edfSQnaxcMR2",
        "colab": {
          "base_uri": "https://localhost:8080/",
          "height": 73
        },
        "outputId": "d18a6319-03e2-4a77-e633-43c28f91bda0"
      },
      "source": [
        "#Step 3 Answer:\n",
        "\n",
        "from google.colab import files\n",
        "shopping = files.upload()"
      ],
      "execution_count": 1,
      "outputs": [
        {
          "output_type": "display_data",
          "data": {
            "text/plain": [
              "<IPython.core.display.HTML object>"
            ],
            "text/html": [
              "\n",
              "     <input type=\"file\" id=\"files-8e7145a7-9a55-432e-b498-5da70f9272aa\" name=\"files[]\" multiple disabled\n",
              "        style=\"border:none\" />\n",
              "     <output id=\"result-8e7145a7-9a55-432e-b498-5da70f9272aa\">\n",
              "      Upload widget is only available when the cell has been executed in the\n",
              "      current browser session. Please rerun this cell to enable.\n",
              "      </output>\n",
              "      <script>// Copyright 2017 Google LLC\n",
              "//\n",
              "// Licensed under the Apache License, Version 2.0 (the \"License\");\n",
              "// you may not use this file except in compliance with the License.\n",
              "// You may obtain a copy of the License at\n",
              "//\n",
              "//      http://www.apache.org/licenses/LICENSE-2.0\n",
              "//\n",
              "// Unless required by applicable law or agreed to in writing, software\n",
              "// distributed under the License is distributed on an \"AS IS\" BASIS,\n",
              "// WITHOUT WARRANTIES OR CONDITIONS OF ANY KIND, either express or implied.\n",
              "// See the License for the specific language governing permissions and\n",
              "// limitations under the License.\n",
              "\n",
              "/**\n",
              " * @fileoverview Helpers for google.colab Python module.\n",
              " */\n",
              "(function(scope) {\n",
              "function span(text, styleAttributes = {}) {\n",
              "  const element = document.createElement('span');\n",
              "  element.textContent = text;\n",
              "  for (const key of Object.keys(styleAttributes)) {\n",
              "    element.style[key] = styleAttributes[key];\n",
              "  }\n",
              "  return element;\n",
              "}\n",
              "\n",
              "// Max number of bytes which will be uploaded at a time.\n",
              "const MAX_PAYLOAD_SIZE = 100 * 1024;\n",
              "\n",
              "function _uploadFiles(inputId, outputId) {\n",
              "  const steps = uploadFilesStep(inputId, outputId);\n",
              "  const outputElement = document.getElementById(outputId);\n",
              "  // Cache steps on the outputElement to make it available for the next call\n",
              "  // to uploadFilesContinue from Python.\n",
              "  outputElement.steps = steps;\n",
              "\n",
              "  return _uploadFilesContinue(outputId);\n",
              "}\n",
              "\n",
              "// This is roughly an async generator (not supported in the browser yet),\n",
              "// where there are multiple asynchronous steps and the Python side is going\n",
              "// to poll for completion of each step.\n",
              "// This uses a Promise to block the python side on completion of each step,\n",
              "// then passes the result of the previous step as the input to the next step.\n",
              "function _uploadFilesContinue(outputId) {\n",
              "  const outputElement = document.getElementById(outputId);\n",
              "  const steps = outputElement.steps;\n",
              "\n",
              "  const next = steps.next(outputElement.lastPromiseValue);\n",
              "  return Promise.resolve(next.value.promise).then((value) => {\n",
              "    // Cache the last promise value to make it available to the next\n",
              "    // step of the generator.\n",
              "    outputElement.lastPromiseValue = value;\n",
              "    return next.value.response;\n",
              "  });\n",
              "}\n",
              "\n",
              "/**\n",
              " * Generator function which is called between each async step of the upload\n",
              " * process.\n",
              " * @param {string} inputId Element ID of the input file picker element.\n",
              " * @param {string} outputId Element ID of the output display.\n",
              " * @return {!Iterable<!Object>} Iterable of next steps.\n",
              " */\n",
              "function* uploadFilesStep(inputId, outputId) {\n",
              "  const inputElement = document.getElementById(inputId);\n",
              "  inputElement.disabled = false;\n",
              "\n",
              "  const outputElement = document.getElementById(outputId);\n",
              "  outputElement.innerHTML = '';\n",
              "\n",
              "  const pickedPromise = new Promise((resolve) => {\n",
              "    inputElement.addEventListener('change', (e) => {\n",
              "      resolve(e.target.files);\n",
              "    });\n",
              "  });\n",
              "\n",
              "  const cancel = document.createElement('button');\n",
              "  inputElement.parentElement.appendChild(cancel);\n",
              "  cancel.textContent = 'Cancel upload';\n",
              "  const cancelPromise = new Promise((resolve) => {\n",
              "    cancel.onclick = () => {\n",
              "      resolve(null);\n",
              "    };\n",
              "  });\n",
              "\n",
              "  // Wait for the user to pick the files.\n",
              "  const files = yield {\n",
              "    promise: Promise.race([pickedPromise, cancelPromise]),\n",
              "    response: {\n",
              "      action: 'starting',\n",
              "    }\n",
              "  };\n",
              "\n",
              "  cancel.remove();\n",
              "\n",
              "  // Disable the input element since further picks are not allowed.\n",
              "  inputElement.disabled = true;\n",
              "\n",
              "  if (!files) {\n",
              "    return {\n",
              "      response: {\n",
              "        action: 'complete',\n",
              "      }\n",
              "    };\n",
              "  }\n",
              "\n",
              "  for (const file of files) {\n",
              "    const li = document.createElement('li');\n",
              "    li.append(span(file.name, {fontWeight: 'bold'}));\n",
              "    li.append(span(\n",
              "        `(${file.type || 'n/a'}) - ${file.size} bytes, ` +\n",
              "        `last modified: ${\n",
              "            file.lastModifiedDate ? file.lastModifiedDate.toLocaleDateString() :\n",
              "                                    'n/a'} - `));\n",
              "    const percent = span('0% done');\n",
              "    li.appendChild(percent);\n",
              "\n",
              "    outputElement.appendChild(li);\n",
              "\n",
              "    const fileDataPromise = new Promise((resolve) => {\n",
              "      const reader = new FileReader();\n",
              "      reader.onload = (e) => {\n",
              "        resolve(e.target.result);\n",
              "      };\n",
              "      reader.readAsArrayBuffer(file);\n",
              "    });\n",
              "    // Wait for the data to be ready.\n",
              "    let fileData = yield {\n",
              "      promise: fileDataPromise,\n",
              "      response: {\n",
              "        action: 'continue',\n",
              "      }\n",
              "    };\n",
              "\n",
              "    // Use a chunked sending to avoid message size limits. See b/62115660.\n",
              "    let position = 0;\n",
              "    do {\n",
              "      const length = Math.min(fileData.byteLength - position, MAX_PAYLOAD_SIZE);\n",
              "      const chunk = new Uint8Array(fileData, position, length);\n",
              "      position += length;\n",
              "\n",
              "      const base64 = btoa(String.fromCharCode.apply(null, chunk));\n",
              "      yield {\n",
              "        response: {\n",
              "          action: 'append',\n",
              "          file: file.name,\n",
              "          data: base64,\n",
              "        },\n",
              "      };\n",
              "\n",
              "      let percentDone = fileData.byteLength === 0 ?\n",
              "          100 :\n",
              "          Math.round((position / fileData.byteLength) * 100);\n",
              "      percent.textContent = `${percentDone}% done`;\n",
              "\n",
              "    } while (position < fileData.byteLength);\n",
              "  }\n",
              "\n",
              "  // All done.\n",
              "  yield {\n",
              "    response: {\n",
              "      action: 'complete',\n",
              "    }\n",
              "  };\n",
              "}\n",
              "\n",
              "scope.google = scope.google || {};\n",
              "scope.google.colab = scope.google.colab || {};\n",
              "scope.google.colab._files = {\n",
              "  _uploadFiles,\n",
              "  _uploadFilesContinue,\n",
              "};\n",
              "})(self);\n",
              "</script> "
            ]
          },
          "metadata": {}
        },
        {
          "output_type": "stream",
          "name": "stdout",
          "text": [
            "Saving online_shoppers_intention.csv to online_shoppers_intention.csv\n"
          ]
        }
      ]
    },
    {
      "cell_type": "code",
      "source": [
        "import pandas as pd\n",
        "pd.set_option('display.max_columns', None)\n",
        "\n",
        "shopping = pd.read_csv('online_shoppers_intention.csv')\n",
        "\n",
        "shopping.head(5)\n",
        "\n"
      ],
      "metadata": {
        "colab": {
          "base_uri": "https://localhost:8080/",
          "height": 205
        },
        "id": "i1-P8e8ADy0n",
        "outputId": "a52e0eb2-05db-4c98-c261-faf70f148769"
      },
      "execution_count": 3,
      "outputs": [
        {
          "output_type": "execute_result",
          "data": {
            "text/plain": [
              "   Administrative  Administrative_Duration  Informational  \\\n",
              "0               0                      0.0              0   \n",
              "1               0                      0.0              0   \n",
              "2               0                      0.0              0   \n",
              "3               0                      0.0              0   \n",
              "4               0                      0.0              0   \n",
              "\n",
              "   Informational_Duration  ProductRelated  ProductRelated_Duration  \\\n",
              "0                     0.0               1                 0.000000   \n",
              "1                     0.0               2                64.000000   \n",
              "2                     0.0               1                 0.000000   \n",
              "3                     0.0               2                 2.666667   \n",
              "4                     0.0              10               627.500000   \n",
              "\n",
              "   BounceRates  ExitRates  PageValues  SpecialDay Month  OperatingSystems  \\\n",
              "0         0.20       0.20         0.0         0.0   Feb                 1   \n",
              "1         0.00       0.10         0.0         0.0   Feb                 2   \n",
              "2         0.20       0.20         0.0         0.0   Feb                 4   \n",
              "3         0.05       0.14         0.0         0.0   Feb                 3   \n",
              "4         0.02       0.05         0.0         0.0   Feb                 3   \n",
              "\n",
              "   Browser  Region  TrafficType        VisitorType  Weekend  Revenue  \n",
              "0        1       1            1  Returning_Visitor    False    False  \n",
              "1        2       1            2  Returning_Visitor    False    False  \n",
              "2        1       9            3  Returning_Visitor    False    False  \n",
              "3        2       2            4  Returning_Visitor    False    False  \n",
              "4        3       1            4  Returning_Visitor     True    False  "
            ],
            "text/html": [
              "\n",
              "  <div id=\"df-8245846c-5a30-4cc9-8a29-3442e1767375\">\n",
              "    <div class=\"colab-df-container\">\n",
              "      <div>\n",
              "<style scoped>\n",
              "    .dataframe tbody tr th:only-of-type {\n",
              "        vertical-align: middle;\n",
              "    }\n",
              "\n",
              "    .dataframe tbody tr th {\n",
              "        vertical-align: top;\n",
              "    }\n",
              "\n",
              "    .dataframe thead th {\n",
              "        text-align: right;\n",
              "    }\n",
              "</style>\n",
              "<table border=\"1\" class=\"dataframe\">\n",
              "  <thead>\n",
              "    <tr style=\"text-align: right;\">\n",
              "      <th></th>\n",
              "      <th>Administrative</th>\n",
              "      <th>Administrative_Duration</th>\n",
              "      <th>Informational</th>\n",
              "      <th>Informational_Duration</th>\n",
              "      <th>ProductRelated</th>\n",
              "      <th>ProductRelated_Duration</th>\n",
              "      <th>BounceRates</th>\n",
              "      <th>ExitRates</th>\n",
              "      <th>PageValues</th>\n",
              "      <th>SpecialDay</th>\n",
              "      <th>Month</th>\n",
              "      <th>OperatingSystems</th>\n",
              "      <th>Browser</th>\n",
              "      <th>Region</th>\n",
              "      <th>TrafficType</th>\n",
              "      <th>VisitorType</th>\n",
              "      <th>Weekend</th>\n",
              "      <th>Revenue</th>\n",
              "    </tr>\n",
              "  </thead>\n",
              "  <tbody>\n",
              "    <tr>\n",
              "      <th>0</th>\n",
              "      <td>0</td>\n",
              "      <td>0.0</td>\n",
              "      <td>0</td>\n",
              "      <td>0.0</td>\n",
              "      <td>1</td>\n",
              "      <td>0.000000</td>\n",
              "      <td>0.20</td>\n",
              "      <td>0.20</td>\n",
              "      <td>0.0</td>\n",
              "      <td>0.0</td>\n",
              "      <td>Feb</td>\n",
              "      <td>1</td>\n",
              "      <td>1</td>\n",
              "      <td>1</td>\n",
              "      <td>1</td>\n",
              "      <td>Returning_Visitor</td>\n",
              "      <td>False</td>\n",
              "      <td>False</td>\n",
              "    </tr>\n",
              "    <tr>\n",
              "      <th>1</th>\n",
              "      <td>0</td>\n",
              "      <td>0.0</td>\n",
              "      <td>0</td>\n",
              "      <td>0.0</td>\n",
              "      <td>2</td>\n",
              "      <td>64.000000</td>\n",
              "      <td>0.00</td>\n",
              "      <td>0.10</td>\n",
              "      <td>0.0</td>\n",
              "      <td>0.0</td>\n",
              "      <td>Feb</td>\n",
              "      <td>2</td>\n",
              "      <td>2</td>\n",
              "      <td>1</td>\n",
              "      <td>2</td>\n",
              "      <td>Returning_Visitor</td>\n",
              "      <td>False</td>\n",
              "      <td>False</td>\n",
              "    </tr>\n",
              "    <tr>\n",
              "      <th>2</th>\n",
              "      <td>0</td>\n",
              "      <td>0.0</td>\n",
              "      <td>0</td>\n",
              "      <td>0.0</td>\n",
              "      <td>1</td>\n",
              "      <td>0.000000</td>\n",
              "      <td>0.20</td>\n",
              "      <td>0.20</td>\n",
              "      <td>0.0</td>\n",
              "      <td>0.0</td>\n",
              "      <td>Feb</td>\n",
              "      <td>4</td>\n",
              "      <td>1</td>\n",
              "      <td>9</td>\n",
              "      <td>3</td>\n",
              "      <td>Returning_Visitor</td>\n",
              "      <td>False</td>\n",
              "      <td>False</td>\n",
              "    </tr>\n",
              "    <tr>\n",
              "      <th>3</th>\n",
              "      <td>0</td>\n",
              "      <td>0.0</td>\n",
              "      <td>0</td>\n",
              "      <td>0.0</td>\n",
              "      <td>2</td>\n",
              "      <td>2.666667</td>\n",
              "      <td>0.05</td>\n",
              "      <td>0.14</td>\n",
              "      <td>0.0</td>\n",
              "      <td>0.0</td>\n",
              "      <td>Feb</td>\n",
              "      <td>3</td>\n",
              "      <td>2</td>\n",
              "      <td>2</td>\n",
              "      <td>4</td>\n",
              "      <td>Returning_Visitor</td>\n",
              "      <td>False</td>\n",
              "      <td>False</td>\n",
              "    </tr>\n",
              "    <tr>\n",
              "      <th>4</th>\n",
              "      <td>0</td>\n",
              "      <td>0.0</td>\n",
              "      <td>0</td>\n",
              "      <td>0.0</td>\n",
              "      <td>10</td>\n",
              "      <td>627.500000</td>\n",
              "      <td>0.02</td>\n",
              "      <td>0.05</td>\n",
              "      <td>0.0</td>\n",
              "      <td>0.0</td>\n",
              "      <td>Feb</td>\n",
              "      <td>3</td>\n",
              "      <td>3</td>\n",
              "      <td>1</td>\n",
              "      <td>4</td>\n",
              "      <td>Returning_Visitor</td>\n",
              "      <td>True</td>\n",
              "      <td>False</td>\n",
              "    </tr>\n",
              "  </tbody>\n",
              "</table>\n",
              "</div>\n",
              "      <button class=\"colab-df-convert\" onclick=\"convertToInteractive('df-8245846c-5a30-4cc9-8a29-3442e1767375')\"\n",
              "              title=\"Convert this dataframe to an interactive table.\"\n",
              "              style=\"display:none;\">\n",
              "        \n",
              "  <svg xmlns=\"http://www.w3.org/2000/svg\" height=\"24px\"viewBox=\"0 0 24 24\"\n",
              "       width=\"24px\">\n",
              "    <path d=\"M0 0h24v24H0V0z\" fill=\"none\"/>\n",
              "    <path d=\"M18.56 5.44l.94 2.06.94-2.06 2.06-.94-2.06-.94-.94-2.06-.94 2.06-2.06.94zm-11 1L8.5 8.5l.94-2.06 2.06-.94-2.06-.94L8.5 2.5l-.94 2.06-2.06.94zm10 10l.94 2.06.94-2.06 2.06-.94-2.06-.94-.94-2.06-.94 2.06-2.06.94z\"/><path d=\"M17.41 7.96l-1.37-1.37c-.4-.4-.92-.59-1.43-.59-.52 0-1.04.2-1.43.59L10.3 9.45l-7.72 7.72c-.78.78-.78 2.05 0 2.83L4 21.41c.39.39.9.59 1.41.59.51 0 1.02-.2 1.41-.59l7.78-7.78 2.81-2.81c.8-.78.8-2.07 0-2.86zM5.41 20L4 18.59l7.72-7.72 1.47 1.35L5.41 20z\"/>\n",
              "  </svg>\n",
              "      </button>\n",
              "      \n",
              "  <style>\n",
              "    .colab-df-container {\n",
              "      display:flex;\n",
              "      flex-wrap:wrap;\n",
              "      gap: 12px;\n",
              "    }\n",
              "\n",
              "    .colab-df-convert {\n",
              "      background-color: #E8F0FE;\n",
              "      border: none;\n",
              "      border-radius: 50%;\n",
              "      cursor: pointer;\n",
              "      display: none;\n",
              "      fill: #1967D2;\n",
              "      height: 32px;\n",
              "      padding: 0 0 0 0;\n",
              "      width: 32px;\n",
              "    }\n",
              "\n",
              "    .colab-df-convert:hover {\n",
              "      background-color: #E2EBFA;\n",
              "      box-shadow: 0px 1px 2px rgba(60, 64, 67, 0.3), 0px 1px 3px 1px rgba(60, 64, 67, 0.15);\n",
              "      fill: #174EA6;\n",
              "    }\n",
              "\n",
              "    [theme=dark] .colab-df-convert {\n",
              "      background-color: #3B4455;\n",
              "      fill: #D2E3FC;\n",
              "    }\n",
              "\n",
              "    [theme=dark] .colab-df-convert:hover {\n",
              "      background-color: #434B5C;\n",
              "      box-shadow: 0px 1px 3px 1px rgba(0, 0, 0, 0.15);\n",
              "      filter: drop-shadow(0px 1px 2px rgba(0, 0, 0, 0.3));\n",
              "      fill: #FFFFFF;\n",
              "    }\n",
              "  </style>\n",
              "\n",
              "      <script>\n",
              "        const buttonEl =\n",
              "          document.querySelector('#df-8245846c-5a30-4cc9-8a29-3442e1767375 button.colab-df-convert');\n",
              "        buttonEl.style.display =\n",
              "          google.colab.kernel.accessAllowed ? 'block' : 'none';\n",
              "\n",
              "        async function convertToInteractive(key) {\n",
              "          const element = document.querySelector('#df-8245846c-5a30-4cc9-8a29-3442e1767375');\n",
              "          const dataTable =\n",
              "            await google.colab.kernel.invokeFunction('convertToInteractive',\n",
              "                                                     [key], {});\n",
              "          if (!dataTable) return;\n",
              "\n",
              "          const docLinkHtml = 'Like what you see? Visit the ' +\n",
              "            '<a target=\"_blank\" href=https://colab.research.google.com/notebooks/data_table.ipynb>data table notebook</a>'\n",
              "            + ' to learn more about interactive tables.';\n",
              "          element.innerHTML = '';\n",
              "          dataTable['output_type'] = 'display_data';\n",
              "          await google.colab.output.renderOutput(dataTable, element);\n",
              "          const docLink = document.createElement('div');\n",
              "          docLink.innerHTML = docLinkHtml;\n",
              "          element.appendChild(docLink);\n",
              "        }\n",
              "      </script>\n",
              "    </div>\n",
              "  </div>\n",
              "  "
            ]
          },
          "metadata": {},
          "execution_count": 3
        }
      ]
    },
    {
      "cell_type": "code",
      "source": [
        "#Baseline histological staging is the target variable.  We can see that there are about an \n",
        "#equal number of individuals in each category 1 - 4.  There are no individuals who have\n",
        "#no fibrosis.\n",
        "\n",
        "shopping.describe().T"
      ],
      "metadata": {
        "colab": {
          "base_uri": "https://localhost:8080/",
          "height": 486
        },
        "id": "_cGrdh8ChAhS",
        "outputId": "8627fcdc-a416-4ca0-93b5-b1b6b0e11245"
      },
      "execution_count": 5,
      "outputs": [
        {
          "output_type": "execute_result",
          "data": {
            "text/plain": [
              "                           count         mean          std  min         25%  \\\n",
              "Administrative           12330.0     2.315166     3.321784  0.0    0.000000   \n",
              "Administrative_Duration  12330.0    80.818611   176.779107  0.0    0.000000   \n",
              "Informational            12330.0     0.503569     1.270156  0.0    0.000000   \n",
              "Informational_Duration   12330.0    34.472398   140.749294  0.0    0.000000   \n",
              "ProductRelated           12330.0    31.731468    44.475503  0.0    7.000000   \n",
              "ProductRelated_Duration  12330.0  1194.746220  1913.669288  0.0  184.137500   \n",
              "BounceRates              12330.0     0.022191     0.048488  0.0    0.000000   \n",
              "ExitRates                12330.0     0.043073     0.048597  0.0    0.014286   \n",
              "PageValues               12330.0     5.889258    18.568437  0.0    0.000000   \n",
              "SpecialDay               12330.0     0.061427     0.198917  0.0    0.000000   \n",
              "OperatingSystems         12330.0     2.124006     0.911325  1.0    2.000000   \n",
              "Browser                  12330.0     2.357097     1.717277  1.0    2.000000   \n",
              "Region                   12330.0     3.147364     2.401591  1.0    1.000000   \n",
              "TrafficType              12330.0     4.069586     4.025169  1.0    2.000000   \n",
              "\n",
              "                                50%          75%           max  \n",
              "Administrative             1.000000     4.000000     27.000000  \n",
              "Administrative_Duration    7.500000    93.256250   3398.750000  \n",
              "Informational              0.000000     0.000000     24.000000  \n",
              "Informational_Duration     0.000000     0.000000   2549.375000  \n",
              "ProductRelated            18.000000    38.000000    705.000000  \n",
              "ProductRelated_Duration  598.936905  1464.157214  63973.522230  \n",
              "BounceRates                0.003112     0.016813      0.200000  \n",
              "ExitRates                  0.025156     0.050000      0.200000  \n",
              "PageValues                 0.000000     0.000000    361.763742  \n",
              "SpecialDay                 0.000000     0.000000      1.000000  \n",
              "OperatingSystems           2.000000     3.000000      8.000000  \n",
              "Browser                    2.000000     2.000000     13.000000  \n",
              "Region                     3.000000     4.000000      9.000000  \n",
              "TrafficType                2.000000     4.000000     20.000000  "
            ],
            "text/html": [
              "\n",
              "  <div id=\"df-b2142ab8-9440-41ec-b2c4-29927531e25f\">\n",
              "    <div class=\"colab-df-container\">\n",
              "      <div>\n",
              "<style scoped>\n",
              "    .dataframe tbody tr th:only-of-type {\n",
              "        vertical-align: middle;\n",
              "    }\n",
              "\n",
              "    .dataframe tbody tr th {\n",
              "        vertical-align: top;\n",
              "    }\n",
              "\n",
              "    .dataframe thead th {\n",
              "        text-align: right;\n",
              "    }\n",
              "</style>\n",
              "<table border=\"1\" class=\"dataframe\">\n",
              "  <thead>\n",
              "    <tr style=\"text-align: right;\">\n",
              "      <th></th>\n",
              "      <th>count</th>\n",
              "      <th>mean</th>\n",
              "      <th>std</th>\n",
              "      <th>min</th>\n",
              "      <th>25%</th>\n",
              "      <th>50%</th>\n",
              "      <th>75%</th>\n",
              "      <th>max</th>\n",
              "    </tr>\n",
              "  </thead>\n",
              "  <tbody>\n",
              "    <tr>\n",
              "      <th>Administrative</th>\n",
              "      <td>12330.0</td>\n",
              "      <td>2.315166</td>\n",
              "      <td>3.321784</td>\n",
              "      <td>0.0</td>\n",
              "      <td>0.000000</td>\n",
              "      <td>1.000000</td>\n",
              "      <td>4.000000</td>\n",
              "      <td>27.000000</td>\n",
              "    </tr>\n",
              "    <tr>\n",
              "      <th>Administrative_Duration</th>\n",
              "      <td>12330.0</td>\n",
              "      <td>80.818611</td>\n",
              "      <td>176.779107</td>\n",
              "      <td>0.0</td>\n",
              "      <td>0.000000</td>\n",
              "      <td>7.500000</td>\n",
              "      <td>93.256250</td>\n",
              "      <td>3398.750000</td>\n",
              "    </tr>\n",
              "    <tr>\n",
              "      <th>Informational</th>\n",
              "      <td>12330.0</td>\n",
              "      <td>0.503569</td>\n",
              "      <td>1.270156</td>\n",
              "      <td>0.0</td>\n",
              "      <td>0.000000</td>\n",
              "      <td>0.000000</td>\n",
              "      <td>0.000000</td>\n",
              "      <td>24.000000</td>\n",
              "    </tr>\n",
              "    <tr>\n",
              "      <th>Informational_Duration</th>\n",
              "      <td>12330.0</td>\n",
              "      <td>34.472398</td>\n",
              "      <td>140.749294</td>\n",
              "      <td>0.0</td>\n",
              "      <td>0.000000</td>\n",
              "      <td>0.000000</td>\n",
              "      <td>0.000000</td>\n",
              "      <td>2549.375000</td>\n",
              "    </tr>\n",
              "    <tr>\n",
              "      <th>ProductRelated</th>\n",
              "      <td>12330.0</td>\n",
              "      <td>31.731468</td>\n",
              "      <td>44.475503</td>\n",
              "      <td>0.0</td>\n",
              "      <td>7.000000</td>\n",
              "      <td>18.000000</td>\n",
              "      <td>38.000000</td>\n",
              "      <td>705.000000</td>\n",
              "    </tr>\n",
              "    <tr>\n",
              "      <th>ProductRelated_Duration</th>\n",
              "      <td>12330.0</td>\n",
              "      <td>1194.746220</td>\n",
              "      <td>1913.669288</td>\n",
              "      <td>0.0</td>\n",
              "      <td>184.137500</td>\n",
              "      <td>598.936905</td>\n",
              "      <td>1464.157214</td>\n",
              "      <td>63973.522230</td>\n",
              "    </tr>\n",
              "    <tr>\n",
              "      <th>BounceRates</th>\n",
              "      <td>12330.0</td>\n",
              "      <td>0.022191</td>\n",
              "      <td>0.048488</td>\n",
              "      <td>0.0</td>\n",
              "      <td>0.000000</td>\n",
              "      <td>0.003112</td>\n",
              "      <td>0.016813</td>\n",
              "      <td>0.200000</td>\n",
              "    </tr>\n",
              "    <tr>\n",
              "      <th>ExitRates</th>\n",
              "      <td>12330.0</td>\n",
              "      <td>0.043073</td>\n",
              "      <td>0.048597</td>\n",
              "      <td>0.0</td>\n",
              "      <td>0.014286</td>\n",
              "      <td>0.025156</td>\n",
              "      <td>0.050000</td>\n",
              "      <td>0.200000</td>\n",
              "    </tr>\n",
              "    <tr>\n",
              "      <th>PageValues</th>\n",
              "      <td>12330.0</td>\n",
              "      <td>5.889258</td>\n",
              "      <td>18.568437</td>\n",
              "      <td>0.0</td>\n",
              "      <td>0.000000</td>\n",
              "      <td>0.000000</td>\n",
              "      <td>0.000000</td>\n",
              "      <td>361.763742</td>\n",
              "    </tr>\n",
              "    <tr>\n",
              "      <th>SpecialDay</th>\n",
              "      <td>12330.0</td>\n",
              "      <td>0.061427</td>\n",
              "      <td>0.198917</td>\n",
              "      <td>0.0</td>\n",
              "      <td>0.000000</td>\n",
              "      <td>0.000000</td>\n",
              "      <td>0.000000</td>\n",
              "      <td>1.000000</td>\n",
              "    </tr>\n",
              "    <tr>\n",
              "      <th>OperatingSystems</th>\n",
              "      <td>12330.0</td>\n",
              "      <td>2.124006</td>\n",
              "      <td>0.911325</td>\n",
              "      <td>1.0</td>\n",
              "      <td>2.000000</td>\n",
              "      <td>2.000000</td>\n",
              "      <td>3.000000</td>\n",
              "      <td>8.000000</td>\n",
              "    </tr>\n",
              "    <tr>\n",
              "      <th>Browser</th>\n",
              "      <td>12330.0</td>\n",
              "      <td>2.357097</td>\n",
              "      <td>1.717277</td>\n",
              "      <td>1.0</td>\n",
              "      <td>2.000000</td>\n",
              "      <td>2.000000</td>\n",
              "      <td>2.000000</td>\n",
              "      <td>13.000000</td>\n",
              "    </tr>\n",
              "    <tr>\n",
              "      <th>Region</th>\n",
              "      <td>12330.0</td>\n",
              "      <td>3.147364</td>\n",
              "      <td>2.401591</td>\n",
              "      <td>1.0</td>\n",
              "      <td>1.000000</td>\n",
              "      <td>3.000000</td>\n",
              "      <td>4.000000</td>\n",
              "      <td>9.000000</td>\n",
              "    </tr>\n",
              "    <tr>\n",
              "      <th>TrafficType</th>\n",
              "      <td>12330.0</td>\n",
              "      <td>4.069586</td>\n",
              "      <td>4.025169</td>\n",
              "      <td>1.0</td>\n",
              "      <td>2.000000</td>\n",
              "      <td>2.000000</td>\n",
              "      <td>4.000000</td>\n",
              "      <td>20.000000</td>\n",
              "    </tr>\n",
              "  </tbody>\n",
              "</table>\n",
              "</div>\n",
              "      <button class=\"colab-df-convert\" onclick=\"convertToInteractive('df-b2142ab8-9440-41ec-b2c4-29927531e25f')\"\n",
              "              title=\"Convert this dataframe to an interactive table.\"\n",
              "              style=\"display:none;\">\n",
              "        \n",
              "  <svg xmlns=\"http://www.w3.org/2000/svg\" height=\"24px\"viewBox=\"0 0 24 24\"\n",
              "       width=\"24px\">\n",
              "    <path d=\"M0 0h24v24H0V0z\" fill=\"none\"/>\n",
              "    <path d=\"M18.56 5.44l.94 2.06.94-2.06 2.06-.94-2.06-.94-.94-2.06-.94 2.06-2.06.94zm-11 1L8.5 8.5l.94-2.06 2.06-.94-2.06-.94L8.5 2.5l-.94 2.06-2.06.94zm10 10l.94 2.06.94-2.06 2.06-.94-2.06-.94-.94-2.06-.94 2.06-2.06.94z\"/><path d=\"M17.41 7.96l-1.37-1.37c-.4-.4-.92-.59-1.43-.59-.52 0-1.04.2-1.43.59L10.3 9.45l-7.72 7.72c-.78.78-.78 2.05 0 2.83L4 21.41c.39.39.9.59 1.41.59.51 0 1.02-.2 1.41-.59l7.78-7.78 2.81-2.81c.8-.78.8-2.07 0-2.86zM5.41 20L4 18.59l7.72-7.72 1.47 1.35L5.41 20z\"/>\n",
              "  </svg>\n",
              "      </button>\n",
              "      \n",
              "  <style>\n",
              "    .colab-df-container {\n",
              "      display:flex;\n",
              "      flex-wrap:wrap;\n",
              "      gap: 12px;\n",
              "    }\n",
              "\n",
              "    .colab-df-convert {\n",
              "      background-color: #E8F0FE;\n",
              "      border: none;\n",
              "      border-radius: 50%;\n",
              "      cursor: pointer;\n",
              "      display: none;\n",
              "      fill: #1967D2;\n",
              "      height: 32px;\n",
              "      padding: 0 0 0 0;\n",
              "      width: 32px;\n",
              "    }\n",
              "\n",
              "    .colab-df-convert:hover {\n",
              "      background-color: #E2EBFA;\n",
              "      box-shadow: 0px 1px 2px rgba(60, 64, 67, 0.3), 0px 1px 3px 1px rgba(60, 64, 67, 0.15);\n",
              "      fill: #174EA6;\n",
              "    }\n",
              "\n",
              "    [theme=dark] .colab-df-convert {\n",
              "      background-color: #3B4455;\n",
              "      fill: #D2E3FC;\n",
              "    }\n",
              "\n",
              "    [theme=dark] .colab-df-convert:hover {\n",
              "      background-color: #434B5C;\n",
              "      box-shadow: 0px 1px 3px 1px rgba(0, 0, 0, 0.15);\n",
              "      filter: drop-shadow(0px 1px 2px rgba(0, 0, 0, 0.3));\n",
              "      fill: #FFFFFF;\n",
              "    }\n",
              "  </style>\n",
              "\n",
              "      <script>\n",
              "        const buttonEl =\n",
              "          document.querySelector('#df-b2142ab8-9440-41ec-b2c4-29927531e25f button.colab-df-convert');\n",
              "        buttonEl.style.display =\n",
              "          google.colab.kernel.accessAllowed ? 'block' : 'none';\n",
              "\n",
              "        async function convertToInteractive(key) {\n",
              "          const element = document.querySelector('#df-b2142ab8-9440-41ec-b2c4-29927531e25f');\n",
              "          const dataTable =\n",
              "            await google.colab.kernel.invokeFunction('convertToInteractive',\n",
              "                                                     [key], {});\n",
              "          if (!dataTable) return;\n",
              "\n",
              "          const docLinkHtml = 'Like what you see? Visit the ' +\n",
              "            '<a target=\"_blank\" href=https://colab.research.google.com/notebooks/data_table.ipynb>data table notebook</a>'\n",
              "            + ' to learn more about interactive tables.';\n",
              "          element.innerHTML = '';\n",
              "          dataTable['output_type'] = 'display_data';\n",
              "          await google.colab.output.renderOutput(dataTable, element);\n",
              "          const docLink = document.createElement('div');\n",
              "          docLink.innerHTML = docLinkHtml;\n",
              "          element.appendChild(docLink);\n",
              "        }\n",
              "      </script>\n",
              "    </div>\n",
              "  </div>\n",
              "  "
            ]
          },
          "metadata": {},
          "execution_count": 5
        }
      ]
    },
    {
      "cell_type": "markdown",
      "metadata": {
        "id": "UIXTz2t7VatW"
      },
      "source": [
        "**Step 4**\n",
        "\n",
        "Explore your data to determine what kind of data cleaning or wrangling will be necessary before you run your ML model. \n",
        "\n",
        "Here are some questions to consider:\n",
        "* How many observations does your data set have?\n",
        "* How many features does your data set have?\n",
        "* Does your data have any missing values?\n",
        "* If your data has missing values, will you drop the records or impute the missing data?  What will your imputation strategy be? \n",
        "* Does your data have any outliers or unusual values?  If so, how will you handle them? \n",
        "* Will you need to do any feature engineering or drop any features from your data?\n",
        "* Will you need to encode any categorical data or standardize or normalize quantitative features?  \n",
        "* Will you need to split your data into traning and testing sets?\n",
        "* Will you need to do any preprocessing of text data?\n",
        "\n",
        "If you aren’t sure how to answer any of these questions, your instructor can give you guidance and suggestions.\n",
        "\n"
      ]
    },
    {
      "cell_type": "code",
      "metadata": {
        "id": "DBZmex_8cVvd",
        "colab": {
          "base_uri": "https://localhost:8080/"
        },
        "outputId": "a9a0694a-d4af-4168-ba1c-6282acca6b0f"
      },
      "source": [
        "#Step 4 Answer:\n",
        "\n",
        "#Determining the number observations and features\n",
        "print('The number of observations in my data is', shopping.shape[0])\n",
        "print('The number of features in my data is', shopping.shape[1])\n",
        "\n",
        "#Checking for missing values\n",
        "print('The number of missing values in my data is', shopping.isna().sum().sum())\n",
        "\n",
        "\n"
      ],
      "execution_count": 7,
      "outputs": [
        {
          "output_type": "stream",
          "name": "stdout",
          "text": [
            "The number of observations in my data is 12330\n",
            "The number of features in my data is 18\n",
            "The number of missing values in my data is 0\n"
          ]
        }
      ]
    },
    {
      "cell_type": "code",
      "source": [
        "#data types\n",
        "shopping.dtypes"
      ],
      "metadata": {
        "colab": {
          "base_uri": "https://localhost:8080/"
        },
        "id": "oLdaLsgyhapu",
        "outputId": "e060e58c-1d64-4762-931f-cfc38ef83d06"
      },
      "execution_count": 8,
      "outputs": [
        {
          "output_type": "execute_result",
          "data": {
            "text/plain": [
              "Administrative               int64\n",
              "Administrative_Duration    float64\n",
              "Informational                int64\n",
              "Informational_Duration     float64\n",
              "ProductRelated               int64\n",
              "ProductRelated_Duration    float64\n",
              "BounceRates                float64\n",
              "ExitRates                  float64\n",
              "PageValues                 float64\n",
              "SpecialDay                 float64\n",
              "Month                       object\n",
              "OperatingSystems             int64\n",
              "Browser                      int64\n",
              "Region                       int64\n",
              "TrafficType                  int64\n",
              "VisitorType                 object\n",
              "Weekend                       bool\n",
              "Revenue                       bool\n",
              "dtype: object"
            ]
          },
          "metadata": {},
          "execution_count": 8
        }
      ]
    },
    {
      "cell_type": "markdown",
      "metadata": {
        "id": "M6kHJMnKbDra"
      },
      "source": [
        "**Step 4 Answer**\n",
        "\n",
        "*   My Data has 12330 records.\n",
        "*   The number of features in my data is 18\n",
        "*   The data is pretty clean, since I am not missing any data\n",
        "*   The following data points are categorical and will need to be converted:\n",
        "- Month, VisitorType, Weekend\n",
        "* The following booleans (T/F) will need to be converted to 0s or 1's (Weekend, and Revenue)\n",
        "* Revenue is going to be my target variables\n"
      ]
    },
    {
      "cell_type": "markdown",
      "metadata": {
        "id": "rJFE-Gk1dHlG"
      },
      "source": [
        "**At this point, it is possible that you will discover that you can't answer your research question with your data set.  Work with your instructor to either modify your research question, select a backup research question, or select a new data set.  To complete this task successfully, you will need to have selected a research question, have a data set that can be used to answer it, AND have performed EDA.**"
      ]
    },
    {
      "cell_type": "markdown",
      "metadata": {
        "id": "HhyI1UgEcxOC"
      },
      "source": [
        "### Task 4: Develop a Project Plan\n",
        "\n",
        "Now you are ready to plan out everything that will be in your final project slide deck.  \n"
      ]
    },
    {
      "cell_type": "markdown",
      "metadata": {
        "id": "T6A0y3Q7eUCo"
      },
      "source": [
        "**Step 1** \n",
        "\n",
        "Write about one to three paragraphs of background to give your audience some context for your research question.  What motivated you to ask this specific research question?  What is the real world application?  Think about your stakeholder(s) and what that person would want to know about the topic before you got started."
      ]
    },
    {
      "cell_type": "markdown",
      "metadata": {
        "id": "TwCPbC0We_fE"
      },
      "source": [
        "**Step 1 Answer**\n",
        "\n",
        "In 2022, it is expected that online shopping would be $5.7 trillion business.  Being able to properly identify customers who are most likely to purchase based on their shopping habits, would have the potential to guide marketing and promotions channels in aiding conversions (Purchases) from and into the checkout funnel on an online site.  "
      ]
    },
    {
      "cell_type": "markdown",
      "metadata": {
        "id": "CEwt_DrIedv6"
      },
      "source": [
        "**Step 2** \n",
        "\n",
        "Write one or two paragraphs describing your data set.  What was the source of the data?   Why did you choose to use this particular data set?  Did you experience any challenges with accessing or loading the data?  Describe any data wrangling you need to do to run your ML model."
      ]
    },
    {
      "cell_type": "markdown",
      "metadata": {
        "id": "F6aD8mXffCBd"
      },
      "source": [
        "**Step 2 Answer**\n",
        "\n",
        "The source of the data is the [Online Shoppers Purchasing Intention Dataset Data Set](https://archive.ics.uci.edu/ml/datasets/Online+Shoppers+Purchasing+Intention+Dataset) from the UCI Machine Learning Repository.  The data consists of 12,330 sessions.  A session is a group of user interactions with your website that take place within a given time frame. For example a single session can contain multiple page views, events, social interactions, and ecommerce transactions.  \n",
        "\n",
        "**Column Descriptions:**\n",
        "\n",
        "**Administrative**: This is the number of pages of this type (administrative) that the user visited.\n",
        "\n",
        "**Administrative_Duration**: This is the amount of time spent in this category of pages.\n",
        "\n",
        "**Informational**: This is the number of pages of this type (informational) that the user visited.\n",
        "\n",
        "**Informational_Duration**: This is the amount of time spent in this category of pages.\n",
        "\n",
        "**ProductRelated**: This is the number of pages of this type (product related) that the user visited.\n",
        "\n",
        "**ProductRelated_Duration**: This is the amount of time spent in this category of pages.\n",
        "\n",
        "**BounceRates**: The percentage of visitors who enter the website through that page and exit without triggering any additional tasks.\n",
        "\n",
        "**ExitRates**: The percentage of pageviews on the website that end at that specific page.\n",
        "\n",
        "**PageValues**: The average value of the page averaged over the value of the target page and/or the completion of an eCommerce transaction.\n",
        "\n",
        "**SpecialDay**: This value represents the closeness of the browsing date to special days or holidays (eg Mother's Day or Valentine's day) in which the transaction is more likely to be finalized. More information about how this value is calculated below.\n",
        "\n",
        "**Month**: Contains the month the pageview occurred, in string form.\n",
        "\n",
        "**OperatingSystems**: An integer value representing the operating system that the user was on when viewing the page.\n",
        "\n",
        "**Browser**: An integer value representing the browser that the user was using to view the page.\n",
        "\n",
        "**Region**: An integer value representing which region the user is located in.\n",
        "\n",
        "**TrafficType**: An integer value representing what type of traffic the user is categorized into.\n",
        "\n",
        "**VisitorType**: A string representing whether a visitor is New Visitor, Returning Visitor, or Other.\n",
        "\n",
        "**Weekend**: A boolean representing whether the session is on a weekend.\n",
        "\n",
        "**Revenue**: A boolean representing whether or not the user completed the purchase.\n",
        "\n"
      ]
    },
    {
      "cell_type": "markdown",
      "metadata": {
        "id": "A_1IYpwRev5M"
      },
      "source": [
        "**Step 3**\n",
        "\n",
        "Write one paragraph describing the model or models you plan to use.  Why did you pick this model or models?  How will they answer your research question?  What metrics will you use to evaluate the model performance?  "
      ]
    },
    {
      "cell_type": "markdown",
      "metadata": {
        "id": "C6_lhy2wfEdQ"
      },
      "source": [
        "**Step 3 Answer**\n",
        "\n",
        "Since this is a classification problem.  I plan to use logistc regression as the baseline model. I will follow logistic regression with the following ML models and use the model withe highest accuracy score as the final model to evaluate the training and test data.  "
      ]
    },
    {
      "cell_type": "markdown",
      "metadata": {
        "id": "DTynDQ5Xe3Ee"
      },
      "source": [
        "**Step 4**\n",
        "\n",
        "Think about your intended audience.  How will you communicate your results to your stakeholders?  What data storytelling techniques will you use in your presentation to engage your audience?"
      ]
    },
    {
      "cell_type": "markdown",
      "metadata": {
        "id": "YiK51IpWfGtV"
      },
      "source": [
        "**Step 4 Answer**\n",
        "\n",
        "My stakeholders will be online business owners.  I will communicate my results by stating the amount of increased accuracy and AUC that is achieved when identifying the correct online shopping bevaiors to best determine if the customer is going to intend to make a purchase via the checkout funnel."
      ]
    },
    {
      "cell_type": "markdown",
      "source": [
        "##Task 5: Data Wrangling\n",
        "\n",
        "Use the following code block (feel free to add more) to do any data wrangling.  It may be helpful to refer to the questions you answered previously in the Exploratory Data Analysis section.  For reference, they are:\n",
        "\n",
        "Here are some questions to consider:\n",
        "* What libraries and packages do I need to import?\n",
        "* How many observations does your data set have?\n",
        "* How many features does your data set have?\n",
        "* Does your data have any missing values?\n",
        "* If your data has missing values, will you drop the records or impute the missing data? What will your imputation strategy be?\n",
        "* Does your data have any outliers or unusual values? If so, how will you handle them?\n",
        "* Will you need to do any feature engineering or drop any features from your data?\n",
        "* Will you need to encode any categorical data or standardize or normalize quantitative features?\n",
        "* Will you need to split your data into traning and testing sets?\n",
        "* Will you need to do any pre-processing of text data?"
      ],
      "metadata": {
        "id": "PRpKLHkDnKGT"
      }
    },
    {
      "cell_type": "code",
      "source": [
        "#import libraries\n",
        "import pandas as pd\n",
        "import numpy as np\n",
        "from sklearn.impute import SimpleImputer\n",
        "from datetime import datetime\n",
        "\n",
        "#Graphic Libraries\n",
        "import matplotlib.pyplot as plt\n",
        "import seaborn as sns\n",
        "\n",
        "#importing preprocessing\n",
        "from sklearn.preprocessing import StandardScaler, MinMaxScaler, MaxAbsScaler\n",
        "from sklearn.model_selection import train_test_split, GridSearchCV, cross_val_score\n",
        "from sklearn.preprocessing import LabelEncoder\n",
        "\n",
        "#Pipelines\n",
        "from sklearn.pipeline import Pipeline\n",
        "#importing models\n",
        "from sklearn.linear_model\timport LinearRegression, Ridge, Lasso, LogisticRegression\n",
        "from sklearn.neighbors import KNeighborsClassifier\n",
        "from sklearn.naive_bayes import GaussianNB\n",
        "from sklearn.svm import SVC\n",
        "from sklearn.tree import DecisionTreeClassifier\n",
        "from sklearn.ensemble import RandomForestClassifier, GradientBoostingClassifier, AdaBoostClassifier\n",
        "from sklearn.model_selection import KFold\n",
        "from sklearn.decomposition import PCA\n",
        "from sklearn.metrics import accuracy_score\n",
        "from sklearn.metrics import confusion_matrix, precision_score, recall_score\n",
        "from sklearn.metrics import precision_recall_fscore_support\n",
        "from sklearn.linear_model import SGDClassifier\n",
        "from xgboost import XGBClassifier\n",
        "from sklearn.model_selection import GridSearchCV\n",
        "from sklearn.feature_selection import RFE"
      ],
      "metadata": {
        "id": "YQMcpQNBnFJh"
      },
      "execution_count": 9,
      "outputs": []
    },
    {
      "cell_type": "code",
      "source": [
        "shopping.select_dtypes(include=['int64', 'float64']).hist(figsize=(16,22))"
      ],
      "metadata": {
        "colab": {
          "base_uri": "https://localhost:8080/",
          "height": 1000
        },
        "id": "88DD-3lRmVt3",
        "outputId": "7c7291bb-276e-485c-c899-63129923e93e"
      },
      "execution_count": 12,
      "outputs": [
        {
          "output_type": "execute_result",
          "data": {
            "text/plain": [
              "array([[<matplotlib.axes._subplots.AxesSubplot object at 0x7f0d7f28af90>,\n",
              "        <matplotlib.axes._subplots.AxesSubplot object at 0x7f0d7edb8250>,\n",
              "        <matplotlib.axes._subplots.AxesSubplot object at 0x7f0d7ed71850>,\n",
              "        <matplotlib.axes._subplots.AxesSubplot object at 0x7f0d7ed26e50>],\n",
              "       [<matplotlib.axes._subplots.AxesSubplot object at 0x7f0d7ece8490>,\n",
              "        <matplotlib.axes._subplots.AxesSubplot object at 0x7f0d7eca1a90>,\n",
              "        <matplotlib.axes._subplots.AxesSubplot object at 0x7f0d7ec65150>,\n",
              "        <matplotlib.axes._subplots.AxesSubplot object at 0x7f0d7ec9a690>],\n",
              "       [<matplotlib.axes._subplots.AxesSubplot object at 0x7f0d7edc2690>,\n",
              "        <matplotlib.axes._subplots.AxesSubplot object at 0x7f0d7edc2610>,\n",
              "        <matplotlib.axes._subplots.AxesSubplot object at 0x7f0d7ec13d90>,\n",
              "        <matplotlib.axes._subplots.AxesSubplot object at 0x7f0d7ebdb3d0>],\n",
              "       [<matplotlib.axes._subplots.AxesSubplot object at 0x7f0d7eb919d0>,\n",
              "        <matplotlib.axes._subplots.AxesSubplot object at 0x7f0d7eb3eb10>,\n",
              "        <matplotlib.axes._subplots.AxesSubplot object at 0x7f0d7eb0c610>,\n",
              "        <matplotlib.axes._subplots.AxesSubplot object at 0x7f0d7eac3c10>]],\n",
              "      dtype=object)"
            ]
          },
          "metadata": {},
          "execution_count": 12
        },
        {
          "output_type": "display_data",
          "data": {
            "text/plain": [
              "<Figure size 1152x1584 with 16 Axes>"
            ],
            "image/png": "[encoded data removed]"
          },
          "metadata": {
            "needs_background": "light"
          }
        }
      ]
    },
    {
      "cell_type": "code",
      "source": [
        "# Visualize the data\n",
        "sns.countplot(shopping['Revenue'])\n",
        "plt.ylim(0,12000)\n",
        "plt.title('Was the transaction completed?', fontsize= 15)\n",
        "plt.xlabel('Transaction Completed', fontsize=12)\n",
        "plt.ylabel('Count (Entries)', fontsize=12)\n",
        "plt.text(x=-.175, y=11000 ,s='10,422', fontsize=15)\n",
        "plt.text(x=.875, y=2500, s='1908', fontsize=15)\n",
        "plt.show()\n",
        "#conversion rate of 18.3% (above avg score)"
      ],
      "metadata": {
        "colab": {
          "base_uri": "https://localhost:8080/",
          "height": 356
        },
        "id": "MPhInIC4mf9J",
        "outputId": "d84b2d7e-20b7-4a4a-8130-e9844633e68e"
      },
      "execution_count": 15,
      "outputs": [
        {
          "output_type": "stream",
          "name": "stderr",
          "text": [
            "/usr/local/lib/python3.7/dist-packages/seaborn/_decorators.py:43: FutureWarning: Pass the following variable as a keyword arg: x. From version 0.12, the only valid positional argument will be `data`, and passing other arguments without an explicit keyword will result in an error or misinterpretation.\n",
            "  FutureWarning\n"
          ]
        },
        {
          "output_type": "display_data",
          "data": {
            "text/plain": [
              "<Figure size 432x288 with 1 Axes>"
            ],
            "image/png": "[encoded data removed]"
          },
          "metadata": {
            "needs_background": "light"
          }
        }
      ]
    },
    {
      "cell_type": "code",
      "source": [
        "#compare the following Features with Revenue\n",
        "#SpecialDay,Weekend\n",
        "\n",
        "sns.catplot(x =\"SpecialDay\", hue =\"Revenue\",\n",
        "kind =\"count\", data = shopping)\n",
        "\n",
        "sns.catplot(x =\"Weekend\", hue =\"Revenue\",\n",
        "kind =\"count\", data = shopping)"
      ],
      "metadata": {
        "colab": {
          "base_uri": "https://localhost:8080/",
          "height": 739
        },
        "id": "d4j6eHr8nn2a",
        "outputId": "c7420729-8d3d-445b-ef0e-83178aea7d9a"
      },
      "execution_count": 17,
      "outputs": [
        {
          "output_type": "execute_result",
          "data": {
            "text/plain": [
              "<seaborn.axisgrid.FacetGrid at 0x7f0d6b7dd610>"
            ]
          },
          "metadata": {},
          "execution_count": 17
        },
        {
          "output_type": "display_data",
          "data": {
            "text/plain": [
              "<Figure size 421.25x360 with 1 Axes>"
            ],
            "image/png": "[encoded data removed]"
          },
          "metadata": {
            "needs_background": "light"
          }
        },
        {
          "output_type": "display_data",
          "data": {
            "text/plain": [
              "<Figure size 421.25x360 with 1 Axes>"
            ],
            "image/png": "[encoded data removed]"
          },
          "metadata": {
            "needs_background": "light"
          }
        }
      ]
    },
    {
      "cell_type": "code",
      "source": [
        "shopping['VisitorType'].value_counts().plot(kind='bar')"
      ],
      "metadata": {
        "colab": {
          "base_uri": "https://localhost:8080/",
          "height": 359
        },
        "id": "WKzk3tHFroVf",
        "outputId": "b445d196-0d1e-47d5-87cd-520a976a0553"
      },
      "execution_count": 19,
      "outputs": [
        {
          "output_type": "execute_result",
          "data": {
            "text/plain": [
              "<matplotlib.axes._subplots.AxesSubplot at 0x7f0d6f63f990>"
            ]
          },
          "metadata": {},
          "execution_count": 19
        },
        {
          "output_type": "display_data",
          "data": {
            "text/plain": [
              "<Figure size 432x288 with 1 Axes>"
            ],
            "image/png": "[encoded data removed]"
          },
          "metadata": {
            "needs_background": "light"
          }
        }
      ]
    },
    {
      "cell_type": "code",
      "source": [
        "shopping['Month'].value_counts().plot(kind='bar')"
      ],
      "metadata": {
        "colab": {
          "base_uri": "https://localhost:8080/",
          "height": 297
        },
        "id": "87QKWJZrr9K8",
        "outputId": "b26d9f9d-ce37-4973-adbf-08743ad6ebe7"
      },
      "execution_count": 20,
      "outputs": [
        {
          "output_type": "execute_result",
          "data": {
            "text/plain": [
              "<matplotlib.axes._subplots.AxesSubplot at 0x7f0d7c1163d0>"
            ]
          },
          "metadata": {},
          "execution_count": 20
        },
        {
          "output_type": "display_data",
          "data": {
            "text/plain": [
              "<Figure size 432x288 with 1 Axes>"
            ],
            "image/png": "[encoded data removed]"
          },
          "metadata": {
            "needs_background": "light"
          }
        }
      ]
    },
    {
      "cell_type": "code",
      "source": [
        "correlation = shopping.drop(columns=['Revenue'])\n",
        "fig,ax = plt.subplots(nrows=1, ncols=1, figsize=(15,6))\n",
        "sns.heatmap(correlation.corr(), cmap =\"YlGnBu\", annot=True, annot_kws={\"size\":14}, ax=ax)\n",
        "ax.set_title(\"See any correlation between the X features\", fontsize = 20)\n",
        "ax.tick_params(axis = \"both\", which = \"major\", labelsize = 14)\n",
        "ax.tick_params(axis = \"both\", which = \"minor\", labelsize = 14)\n",
        "plt.show()"
      ],
      "metadata": {
        "id": "W8pVuG8OowqG",
        "colab": {
          "base_uri": "https://localhost:8080/",
          "height": 560
        },
        "outputId": "240ef58a-ee27-4361-802b-28616633c33b"
      },
      "execution_count": 18,
      "outputs": [
        {
          "output_type": "display_data",
          "data": {
            "text/plain": [
              "<Figure size 1080x432 with 2 Axes>"
            ],
            "image/png": "[encoded data removed]"
          },
          "metadata": {
            "needs_background": "light"
          }
        }
      ]
    },
    {
      "cell_type": "code",
      "source": [
        "#convert Month, VisitorType, Weekend to numerical numbers\n",
        "shopping['Month'].replace(['May', 'Nov', 'Mar', 'Dec', 'Oct', 'Sep', 'Aug', 'Jul', 'June', 'Feb'],\n",
        "                        [0, 1, 2, 3, 4, 5, 6, 7, 8, 9], inplace=True)\n",
        "shopping['Month'].value_counts()"
      ],
      "metadata": {
        "colab": {
          "base_uri": "https://localhost:8080/"
        },
        "id": "4oEYO_NBrRck",
        "outputId": "2c9ceb66-d6dc-4fbe-d88a-2f378002eb56"
      },
      "execution_count": 22,
      "outputs": [
        {
          "output_type": "execute_result",
          "data": {
            "text/plain": [
              "0    3364\n",
              "1    2998\n",
              "2    1907\n",
              "3    1727\n",
              "4     549\n",
              "5     448\n",
              "6     433\n",
              "7     432\n",
              "8     288\n",
              "9     184\n",
              "Name: Month, dtype: int64"
            ]
          },
          "metadata": {},
          "execution_count": 22
        }
      ]
    },
    {
      "cell_type": "code",
      "source": [
        "#convert Weekend and Revenue from Bool to 0 or 1\n",
        "shopping[\"Weekend\"] = shopping[\"Weekend\"] .astype(int)\n",
        "print(shopping[\"Weekend\"].value_counts())\n",
        "\n",
        "shopping[\"Revenue\"] = shopping[\"Revenue\"] .astype(int)\n",
        "print(shopping[\"Revenue\"].value_counts())"
      ],
      "metadata": {
        "colab": {
          "base_uri": "https://localhost:8080/"
        },
        "id": "rqC5DW_Osu9N",
        "outputId": "dc1908f8-b7e8-407b-83bf-35b3b8ea3be8"
      },
      "execution_count": 23,
      "outputs": [
        {
          "output_type": "stream",
          "name": "stdout",
          "text": [
            "0    9462\n",
            "1    2868\n",
            "Name: Weekend, dtype: int64\n",
            "0    10422\n",
            "1     1908\n",
            "Name: Revenue, dtype: int64\n"
          ]
        }
      ]
    },
    {
      "cell_type": "code",
      "source": [
        "categorical_variables = ['VisitorType']\n",
        "shopping = pd.get_dummies(data=shopping, columns=categorical_variables)\n",
        "shopping.head(5)"
      ],
      "metadata": {
        "colab": {
          "base_uri": "https://localhost:8080/",
          "height": 269
        },
        "id": "qXPuDlJ5tQyi",
        "outputId": "1aba66a4-2121-489a-c908-21b1a6f33a2f"
      },
      "execution_count": 26,
      "outputs": [
        {
          "output_type": "execute_result",
          "data": {
            "text/plain": [
              "   Administrative  Administrative_Duration  Informational  \\\n",
              "0               0                      0.0              0   \n",
              "1               0                      0.0              0   \n",
              "2               0                      0.0              0   \n",
              "3               0                      0.0              0   \n",
              "4               0                      0.0              0   \n",
              "\n",
              "   Informational_Duration  ProductRelated  ProductRelated_Duration  \\\n",
              "0                     0.0               1                 0.000000   \n",
              "1                     0.0               2                64.000000   \n",
              "2                     0.0               1                 0.000000   \n",
              "3                     0.0               2                 2.666667   \n",
              "4                     0.0              10               627.500000   \n",
              "\n",
              "   BounceRates  ExitRates  PageValues  SpecialDay  Month  OperatingSystems  \\\n",
              "0         0.20       0.20         0.0         0.0      9                 1   \n",
              "1         0.00       0.10         0.0         0.0      9                 2   \n",
              "2         0.20       0.20         0.0         0.0      9                 4   \n",
              "3         0.05       0.14         0.0         0.0      9                 3   \n",
              "4         0.02       0.05         0.0         0.0      9                 3   \n",
              "\n",
              "   Browser  Region  TrafficType  Weekend  Revenue  VisitorType_New_Visitor  \\\n",
              "0        1       1            1        0        0                        0   \n",
              "1        2       1            2        0        0                        0   \n",
              "2        1       9            3        0        0                        0   \n",
              "3        2       2            4        0        0                        0   \n",
              "4        3       1            4        1        0                        0   \n",
              "\n",
              "   VisitorType_Other  VisitorType_Returning_Visitor  \n",
              "0                  0                              1  \n",
              "1                  0                              1  \n",
              "2                  0                              1  \n",
              "3                  0                              1  \n",
              "4                  0                              1  "
            ],
            "text/html": [
              "\n",
              "  <div id=\"df-4ca85afa-ed31-4b20-889f-0dd3bd0393e5\">\n",
              "    <div class=\"colab-df-container\">\n",
              "      <div>\n",
              "<style scoped>\n",
              "    .dataframe tbody tr th:only-of-type {\n",
              "        vertical-align: middle;\n",
              "    }\n",
              "\n",
              "    .dataframe tbody tr th {\n",
              "        vertical-align: top;\n",
              "    }\n",
              "\n",
              "    .dataframe thead th {\n",
              "        text-align: right;\n",
              "    }\n",
              "</style>\n",
              "<table border=\"1\" class=\"dataframe\">\n",
              "  <thead>\n",
              "    <tr style=\"text-align: right;\">\n",
              "      <th></th>\n",
              "      <th>Administrative</th>\n",
              "      <th>Administrative_Duration</th>\n",
              "      <th>Informational</th>\n",
              "      <th>Informational_Duration</th>\n",
              "      <th>ProductRelated</th>\n",
              "      <th>ProductRelated_Duration</th>\n",
              "      <th>BounceRates</th>\n",
              "      <th>ExitRates</th>\n",
              "      <th>PageValues</th>\n",
              "      <th>SpecialDay</th>\n",
              "      <th>Month</th>\n",
              "      <th>OperatingSystems</th>\n",
              "      <th>Browser</th>\n",
              "      <th>Region</th>\n",
              "      <th>TrafficType</th>\n",
              "      <th>Weekend</th>\n",
              "      <th>Revenue</th>\n",
              "      <th>VisitorType_New_Visitor</th>\n",
              "      <th>VisitorType_Other</th>\n",
              "      <th>VisitorType_Returning_Visitor</th>\n",
              "    </tr>\n",
              "  </thead>\n",
              "  <tbody>\n",
              "    <tr>\n",
              "      <th>0</th>\n",
              "      <td>0</td>\n",
              "      <td>0.0</td>\n",
              "      <td>0</td>\n",
              "      <td>0.0</td>\n",
              "      <td>1</td>\n",
              "      <td>0.000000</td>\n",
              "      <td>0.20</td>\n",
              "      <td>0.20</td>\n",
              "      <td>0.0</td>\n",
              "      <td>0.0</td>\n",
              "      <td>9</td>\n",
              "      <td>1</td>\n",
              "      <td>1</td>\n",
              "      <td>1</td>\n",
              "      <td>1</td>\n",
              "      <td>0</td>\n",
              "      <td>0</td>\n",
              "      <td>0</td>\n",
              "      <td>0</td>\n",
              "      <td>1</td>\n",
              "    </tr>\n",
              "    <tr>\n",
              "      <th>1</th>\n",
              "      <td>0</td>\n",
              "      <td>0.0</td>\n",
              "      <td>0</td>\n",
              "      <td>0.0</td>\n",
              "      <td>2</td>\n",
              "      <td>64.000000</td>\n",
              "      <td>0.00</td>\n",
              "      <td>0.10</td>\n",
              "      <td>0.0</td>\n",
              "      <td>0.0</td>\n",
              "      <td>9</td>\n",
              "      <td>2</td>\n",
              "      <td>2</td>\n",
              "      <td>1</td>\n",
              "      <td>2</td>\n",
              "      <td>0</td>\n",
              "      <td>0</td>\n",
              "      <td>0</td>\n",
              "      <td>0</td>\n",
              "      <td>1</td>\n",
              "    </tr>\n",
              "    <tr>\n",
              "      <th>2</th>\n",
              "      <td>0</td>\n",
              "      <td>0.0</td>\n",
              "      <td>0</td>\n",
              "      <td>0.0</td>\n",
              "      <td>1</td>\n",
              "      <td>0.000000</td>\n",
              "      <td>0.20</td>\n",
              "      <td>0.20</td>\n",
              "      <td>0.0</td>\n",
              "      <td>0.0</td>\n",
              "      <td>9</td>\n",
              "      <td>4</td>\n",
              "      <td>1</td>\n",
              "      <td>9</td>\n",
              "      <td>3</td>\n",
              "      <td>0</td>\n",
              "      <td>0</td>\n",
              "      <td>0</td>\n",
              "      <td>0</td>\n",
              "      <td>1</td>\n",
              "    </tr>\n",
              "    <tr>\n",
              "      <th>3</th>\n",
              "      <td>0</td>\n",
              "      <td>0.0</td>\n",
              "      <td>0</td>\n",
              "      <td>0.0</td>\n",
              "      <td>2</td>\n",
              "      <td>2.666667</td>\n",
              "      <td>0.05</td>\n",
              "      <td>0.14</td>\n",
              "      <td>0.0</td>\n",
              "      <td>0.0</td>\n",
              "      <td>9</td>\n",
              "      <td>3</td>\n",
              "      <td>2</td>\n",
              "      <td>2</td>\n",
              "      <td>4</td>\n",
              "      <td>0</td>\n",
              "      <td>0</td>\n",
              "      <td>0</td>\n",
              "      <td>0</td>\n",
              "      <td>1</td>\n",
              "    </tr>\n",
              "    <tr>\n",
              "      <th>4</th>\n",
              "      <td>0</td>\n",
              "      <td>0.0</td>\n",
              "      <td>0</td>\n",
              "      <td>0.0</td>\n",
              "      <td>10</td>\n",
              "      <td>627.500000</td>\n",
              "      <td>0.02</td>\n",
              "      <td>0.05</td>\n",
              "      <td>0.0</td>\n",
              "      <td>0.0</td>\n",
              "      <td>9</td>\n",
              "      <td>3</td>\n",
              "      <td>3</td>\n",
              "      <td>1</td>\n",
              "      <td>4</td>\n",
              "      <td>1</td>\n",
              "      <td>0</td>\n",
              "      <td>0</td>\n",
              "      <td>0</td>\n",
              "      <td>1</td>\n",
              "    </tr>\n",
              "  </tbody>\n",
              "</table>\n",
              "</div>\n",
              "      <button class=\"colab-df-convert\" onclick=\"convertToInteractive('df-4ca85afa-ed31-4b20-889f-0dd3bd0393e5')\"\n",
              "              title=\"Convert this dataframe to an interactive table.\"\n",
              "              style=\"display:none;\">\n",
              "        \n",
              "  <svg xmlns=\"http://www.w3.org/2000/svg\" height=\"24px\"viewBox=\"0 0 24 24\"\n",
              "       width=\"24px\">\n",
              "    <path d=\"M0 0h24v24H0V0z\" fill=\"none\"/>\n",
              "    <path d=\"M18.56 5.44l.94 2.06.94-2.06 2.06-.94-2.06-.94-.94-2.06-.94 2.06-2.06.94zm-11 1L8.5 8.5l.94-2.06 2.06-.94-2.06-.94L8.5 2.5l-.94 2.06-2.06.94zm10 10l.94 2.06.94-2.06 2.06-.94-2.06-.94-.94-2.06-.94 2.06-2.06.94z\"/><path d=\"M17.41 7.96l-1.37-1.37c-.4-.4-.92-.59-1.43-.59-.52 0-1.04.2-1.43.59L10.3 9.45l-7.72 7.72c-.78.78-.78 2.05 0 2.83L4 21.41c.39.39.9.59 1.41.59.51 0 1.02-.2 1.41-.59l7.78-7.78 2.81-2.81c.8-.78.8-2.07 0-2.86zM5.41 20L4 18.59l7.72-7.72 1.47 1.35L5.41 20z\"/>\n",
              "  </svg>\n",
              "      </button>\n",
              "      \n",
              "  <style>\n",
              "    .colab-df-container {\n",
              "      display:flex;\n",
              "      flex-wrap:wrap;\n",
              "      gap: 12px;\n",
              "    }\n",
              "\n",
              "    .colab-df-convert {\n",
              "      background-color: #E8F0FE;\n",
              "      border: none;\n",
              "      border-radius: 50%;\n",
              "      cursor: pointer;\n",
              "      display: none;\n",
              "      fill: #1967D2;\n",
              "      height: 32px;\n",
              "      padding: 0 0 0 0;\n",
              "      width: 32px;\n",
              "    }\n",
              "\n",
              "    .colab-df-convert:hover {\n",
              "      background-color: #E2EBFA;\n",
              "      box-shadow: 0px 1px 2px rgba(60, 64, 67, 0.3), 0px 1px 3px 1px rgba(60, 64, 67, 0.15);\n",
              "      fill: #174EA6;\n",
              "    }\n",
              "\n",
              "    [theme=dark] .colab-df-convert {\n",
              "      background-color: #3B4455;\n",
              "      fill: #D2E3FC;\n",
              "    }\n",
              "\n",
              "    [theme=dark] .colab-df-convert:hover {\n",
              "      background-color: #434B5C;\n",
              "      box-shadow: 0px 1px 3px 1px rgba(0, 0, 0, 0.15);\n",
              "      filter: drop-shadow(0px 1px 2px rgba(0, 0, 0, 0.3));\n",
              "      fill: #FFFFFF;\n",
              "    }\n",
              "  </style>\n",
              "\n",
              "      <script>\n",
              "        const buttonEl =\n",
              "          document.querySelector('#df-4ca85afa-ed31-4b20-889f-0dd3bd0393e5 button.colab-df-convert');\n",
              "        buttonEl.style.display =\n",
              "          google.colab.kernel.accessAllowed ? 'block' : 'none';\n",
              "\n",
              "        async function convertToInteractive(key) {\n",
              "          const element = document.querySelector('#df-4ca85afa-ed31-4b20-889f-0dd3bd0393e5');\n",
              "          const dataTable =\n",
              "            await google.colab.kernel.invokeFunction('convertToInteractive',\n",
              "                                                     [key], {});\n",
              "          if (!dataTable) return;\n",
              "\n",
              "          const docLinkHtml = 'Like what you see? Visit the ' +\n",
              "            '<a target=\"_blank\" href=https://colab.research.google.com/notebooks/data_table.ipynb>data table notebook</a>'\n",
              "            + ' to learn more about interactive tables.';\n",
              "          element.innerHTML = '';\n",
              "          dataTable['output_type'] = 'display_data';\n",
              "          await google.colab.output.renderOutput(dataTable, element);\n",
              "          const docLink = document.createElement('div');\n",
              "          docLink.innerHTML = docLinkHtml;\n",
              "          element.appendChild(docLink);\n",
              "        }\n",
              "      </script>\n",
              "    </div>\n",
              "  </div>\n",
              "  "
            ]
          },
          "metadata": {},
          "execution_count": 26
        }
      ]
    },
    {
      "cell_type": "code",
      "source": [
        "#Creating the X and y variables\n",
        "X = shopping.drop(columns=['OperatingSystems', 'Browser', 'Region', 'TrafficType', 'Revenue'])\n",
        "X.dtypes\n",
        "y = shopping[['Revenue']]"
      ],
      "metadata": {
        "id": "O7Gkik3utmyv"
      },
      "execution_count": 29,
      "outputs": []
    },
    {
      "cell_type": "markdown",
      "source": [
        "##Task 6: Modeling\n",
        "\n",
        "Use the following code block to build your ML model.  "
      ],
      "metadata": {
        "id": "FVyXtpPhnxMp"
      }
    },
    {
      "cell_type": "code",
      "source": [
        "#Split the data into X_train/X_test y_train/y_test\n",
        "X_train, X_test, y_train, y_test = train_test_split(X, y, test_size=0.3, random_state=11)\n",
        "y_train = y_train.values.ravel()\n",
        "y_test = y_test.values.ravel()"
      ],
      "metadata": {
        "id": "ZI7dIOyiBMfM"
      },
      "execution_count": 31,
      "outputs": []
    },
    {
      "cell_type": "code",
      "source": [
        "#baseline model with logistic regression\n",
        "log_reg_pipeline = Pipeline([\n",
        "('imp_mean',SimpleImputer(missing_values=np.nan, strategy='mean')),\n",
        "('scaler', StandardScaler()),\n",
        "('norm', MinMaxScaler()),\n",
        "('log_reg', LogisticRegression(random_state=11, solver='liblinear', penalty='l2'))])\n",
        "log_reg_pipeline.fit(X_train, y_train)\n",
        "train_accuracy_std = round(log_reg_pipeline.score(X_train, y_train),2)\n",
        "train_accuracy_std = str (train_accuracy_std * 100.0) + \"%\"\n",
        "print(f\"Logistic Regression Score of: {train_accuracy_std} %\")\n",
        "#87% score with logistic regression"
      ],
      "metadata": {
        "colab": {
          "base_uri": "https://localhost:8080/"
        },
        "id": "hRtBBw1ctmRE",
        "outputId": "c7d18ceb-951c-4775-cee3-0b45d2585398"
      },
      "execution_count": 33,
      "outputs": [
        {
          "output_type": "stream",
          "name": "stdout",
          "text": [
            "Logistic Regression Score of: 87.0% %\n"
          ]
        }
      ]
    },
    {
      "cell_type": "code",
      "source": [
        "#evaluate the baseline model further\n",
        "\n",
        "###Accuracy###\n",
        "kfold = KFold(n_splits=10, random_state=11, shuffle=True)\n",
        "accuracy_results = cross_val_score(log_reg_pipeline, X_train, y_train, cv=kfold, scoring='accuracy')\n",
        "accuracy_score = round(accuracy_results.mean(), 2) * 100.0\n",
        "\n",
        "###AUC###\n",
        "scoring = 'roc_auc'\n",
        "auc_results = cross_val_score(log_reg_pipeline, X_train, y_train, cv=kfold, scoring=scoring)\n",
        "auc_score = round(auc_results.mean(), 2)\n",
        "\n",
        "print(f\"Accuracy Score with Logistic Regression is: {accuracy_score}\")\n",
        "print(f\"Accuracy STD with Logistic Regression is: {accuracy_results.std()}\")\n",
        "print(f\"AUC of Logistic Regression: {auc_score}\")\n",
        "print(f\"AUC STD of Logistic Regression: {auc_results.std()}\")"
      ],
      "metadata": {
        "colab": {
          "base_uri": "https://localhost:8080/"
        },
        "id": "9liIXrdPuhhL",
        "outputId": "f2410788-2d72-4732-afac-7d3fe30b8a81"
      },
      "execution_count": 36,
      "outputs": [
        {
          "output_type": "stream",
          "name": "stdout",
          "text": [
            "Accuracy Score with Logistic Regression is: 87.0\n",
            "Accuracy STD with Logistic Regression is: 0.010822047485567426\n",
            "AUC of Logistic Regression: 0.86\n",
            "AUC STD of Logistic Regression: 0.010864702129850974\n"
          ]
        }
      ]
    },
    {
      "cell_type": "code",
      "source": [
        "#Run through the additional models to find the highest score\n",
        "models = []\n",
        "results_train = []\n",
        "models.append(('KNN', KNeighborsClassifier()))\n",
        "models.append(('CART', DecisionTreeClassifier(random_state=11)))\n",
        "models.append(('NB', GaussianNB()))\n",
        "models.append(('SVM', SVC(random_state=11)))\n",
        "models.append(('Random Forrest', RandomForestClassifier(random_state=11)))\n",
        "models.append(('GB Boost', GradientBoostingClassifier(random_state=11)))\n",
        "models.append(('Ada Boost', AdaBoostClassifier(random_state=11)))\n",
        "models.append(('SGD', SGDClassifier(random_state=11)))\n",
        "models.append(('XG', XGBClassifier()))\n",
        "names = []\n",
        "scoring = 'accuracy'\n",
        "for name, model in models:\n",
        "  kfold = KFold(n_splits=10, random_state=11, shuffle=True)\n",
        "  model.fit(X_train, y_train)\n",
        "  scores = cross_val_score(model, X_train, y_train, cv = kfold, scoring=scoring)\n",
        "  auc = cross_val_score(model, X_train, y_train, cv = kfold, scoring='roc_auc')\n",
        "\n",
        "  print(f\"Accuracy Score with {name} is: {scores.mean()}\")\n",
        "  print(f\"Accuracy STD with {name} is: {scores.std()}\")\n",
        "  print(f\"AUC of {name}: {auc.mean()}\")\n",
        "  print(f\"AUC STD of {name}: {auc.std()}\")\n",
        "  print()\n",
        "\n",
        "#XGBOOST has a 90.4 accuracy score with a 92% area under the curve"
      ],
      "metadata": {
        "colab": {
          "base_uri": "https://localhost:8080/"
        },
        "id": "Viu2kNa6vj3r",
        "outputId": "bd26cb56-4ac0-46ed-b1de-e4b76ab7c968"
      },
      "execution_count": 42,
      "outputs": [
        {
          "output_type": "stream",
          "name": "stdout",
          "text": [
            "Accuracy Score with KNN is: 0.8628225451697352\n",
            "Accuracy STD with KNN is: 0.010406336296082888\n",
            "AUC of KNN: 0.7595478680976693\n",
            "AUC STD of KNN: 0.016409671200769888\n",
            "\n",
            "Accuracy Score with CART is: 0.8615441665593752\n",
            "Accuracy STD with CART is: 0.009350487886841343\n",
            "AUC of CART: 0.7330475075722478\n",
            "AUC STD of CART: 0.02030712160991069\n",
            "\n",
            "Accuracy Score with NB is: 0.8392995472297325\n",
            "Accuracy STD with NB is: 0.008384564868510028\n",
            "AUC of NB: 0.8244426267463236\n",
            "AUC STD of NB: 0.012217912659871896\n",
            "\n",
            "Accuracy Score with SVM is: 0.8490346444358611\n",
            "Accuracy STD with SVM is: 0.011776099236193242\n",
            "AUC of SVM: 0.8235375437467347\n",
            "AUC STD of SVM: 0.021930139927168253\n",
            "\n",
            "Accuracy Score with Random Forrest is: 0.900359963091713\n",
            "Accuracy STD with Random Forrest is: 0.008966141617510557\n",
            "AUC of Random Forrest: 0.9147292276475992\n",
            "AUC STD of Random Forrest: 0.005828456362060191\n",
            "\n",
            "Accuracy Score with GB Boost is: 0.902561987682932\n",
            "Accuracy STD with GB Boost is: 0.009712178642024887\n",
            "AUC of GB Boost: 0.9275443141374617\n",
            "AUC STD of GB Boost: 0.006974409770772731\n",
            "\n",
            "Accuracy Score with Ada Boost is: 0.8884272670700828\n",
            "Accuracy STD with Ada Boost is: 0.009945182885882\n",
            "AUC of Ada Boost: 0.9099510512942173\n",
            "AUC STD of Ada Boost: 0.008032282486227067\n",
            "\n",
            "Accuracy Score with SGD is: 0.7204598246856359\n",
            "Accuracy STD with SGD is: 0.24635184644397023\n",
            "AUC of SGD: 0.6988529759538955\n",
            "AUC STD of SGD: 0.09273506658444765\n",
            "\n",
            "Accuracy Score with XG is: 0.90453159199176\n",
            "Accuracy STD with XG is: 0.009227367861088482\n",
            "AUC of XG: 0.9280044195628736\n",
            "AUC STD of XG: 0.0070342414284581605\n",
            "\n"
          ]
        }
      ]
    },
    {
      "cell_type": "markdown",
      "source": [
        "##Task 7: Evaluation\n",
        "\n",
        "Use the following code block to evaluate your ML model.  "
      ],
      "metadata": {
        "id": "nqpRwrQPo4WK"
      }
    },
    {
      "cell_type": "code",
      "source": [
        "#Confusion Matrix for XGBoost\n",
        "XGboost = Pipeline([\n",
        "('imp_mean',SimpleImputer(missing_values=np.nan, strategy='mean')),\n",
        "('scaler', StandardScaler()),\n",
        "('norm', MinMaxScaler()),\n",
        "('XGB', XGBClassifier())])\n",
        "XGboost.fit(X_train, y_train)\n",
        "y_predict = XGboost.predict(X_train)\n",
        "matrix = confusion_matrix(y_train, y_predict)\n",
        "group_names = ['True Negative','False Positive','False Negative','True Positive']\n",
        "group_counts = [\"{0:0.0f}\".format(value) for value in\n",
        "                matrix.flatten()]\n",
        "group_percentages = [\"{0:.2%}\".format(value) for value in\n",
        "                     matrix.flatten()/np.sum(matrix)]\n",
        "labels = [f\"{v1}\\n{v2}\\n{v3}\" for v1, v2, v3 in\n",
        "          zip(group_names,group_counts,group_percentages)]\n",
        "labels = np.asarray(labels).reshape(2,2)\n",
        "sns.heatmap(matrix, annot=labels, fmt='', cmap='Blues')"
      ],
      "metadata": {
        "id": "sqq4AwbppBs4",
        "colab": {
          "base_uri": "https://localhost:8080/",
          "height": 285
        },
        "outputId": "473ce309-fabe-404b-8f93-d4c3d64fc542"
      },
      "execution_count": 44,
      "outputs": [
        {
          "output_type": "execute_result",
          "data": {
            "text/plain": [
              "<matplotlib.axes._subplots.AxesSubplot at 0x7f0d81df6f50>"
            ]
          },
          "metadata": {},
          "execution_count": 44
        },
        {
          "output_type": "display_data",
          "data": {
            "text/plain": [
              "<Figure size 432x288 with 2 Axes>"
            ],
            "image/png": "[encoded data removed]"
          },
          "metadata": {
            "needs_background": "light"
          }
        }
      ]
    },
    {
      "cell_type": "code",
      "source": [
        "#classification report \n",
        "clf_rep = precision_recall_fscore_support(y_train, y_predict)\n",
        "#print(clf_rep)\n",
        "report = {\n",
        "             \"precision\" :clf_rep[0].round(2)\n",
        "            ,\"recall\" : clf_rep[1].round(2)\n",
        "            ,\"f1-score\" : clf_rep[2].round(2)\n",
        "            ,\"support\" : clf_rep[3]\n",
        "            }\n",
        "report  = pd.DataFrame(report )\n",
        "avg_tot = (report.apply(lambda x: round(x.mean(), 2) if x.name!=\"support\" else  round(x.sum(), 2)).to_frame().T)\n",
        "avg_tot.index = [\"avg/total\"]\n",
        "report = report.append(avg_tot)\n",
        "print(report)"
      ],
      "metadata": {
        "colab": {
          "base_uri": "https://localhost:8080/"
        },
        "id": "HVjlJk7WyHdv",
        "outputId": "c60fa27a-6563-400b-e07b-082a73c06224"
      },
      "execution_count": 45,
      "outputs": [
        {
          "output_type": "stream",
          "name": "stdout",
          "text": [
            "           precision  recall  f1-score  support\n",
            "0               0.93    0.97      0.95   7319.0\n",
            "1               0.78    0.62      0.69   1312.0\n",
            "avg/total       0.86    0.80      0.82   8631.0\n"
          ]
        }
      ]
    },
    {
      "cell_type": "code",
      "source": [
        "#PCA with XGBOOST \n",
        "scaler = StandardScaler()\n",
        "scaler.fit(X_train)\n",
        "X_train_norm = scaler.transform(X_train)\n",
        "\n",
        "pca = PCA()\n",
        "comp = pca.fit(X_train_norm)\n",
        "\n",
        "# We plot a graph to show how the explained variation in the features varies with the number of principal components\n",
        "plt.plot(np.cumsum(comp.explained_variance_ratio_))\n",
        "plt.grid()\n",
        "plt.xlabel('Number of Principal Components')\n",
        "plt.ylabel('Explained Variance')\n",
        "sns.despine();\n",
        "#95% of the variance can be explained by 10 features"
      ],
      "metadata": {
        "colab": {
          "base_uri": "https://localhost:8080/",
          "height": 279
        },
        "id": "CEt4PHNxyVAR",
        "outputId": "010aceaf-e61d-47b0-a7b6-36744b0c4308"
      },
      "execution_count": 46,
      "outputs": [
        {
          "output_type": "display_data",
          "data": {
            "text/plain": [
              "<Figure size 432x288 with 1 Axes>"
            ],
            "image/png": "[encoded data removed]"
          },
          "metadata": {
            "needs_background": "light"
          }
        }
      ]
    },
    {
      "cell_type": "code",
      "source": [
        "pca = PCA(n_components=10).fit(X_train_norm)\n",
        "X_train_transform = pca.transform(X_train_norm)\n",
        "\n",
        "#Run XGBOOST with the new X_train_transform\n",
        "XGboost = Pipeline([\n",
        "('imp_mean',SimpleImputer(missing_values=np.nan, strategy='mean')),\n",
        "('scaler', StandardScaler()),\n",
        "('norm', MinMaxScaler()),\n",
        "('XGB', XGBClassifier())])\n",
        "XGboost.fit(X_train_transform, y_train)\n",
        "kfold = KFold(n_splits=10, random_state=11, shuffle=True)\n",
        "XGboost.fit(X_train, y_train)\n",
        "scores = cross_val_score(XGboost, X_train_transform, y_train, cv = kfold, scoring=scoring)\n",
        "auc = cross_val_score(XGboost, X_train_transform, y_train, cv = kfold, scoring='roc_auc')\n",
        "print(f\"Accuracy Score with {name} is: {scores.mean()}\")\n",
        "print(f\"Accuracy STD with {name} is: {scores.std()}\")\n",
        "print(f\"AUC of {name}: {auc.mean()}\")\n",
        "print(f\"AUC STD of {name}: {auc.std()}\")"
      ],
      "metadata": {
        "colab": {
          "base_uri": "https://localhost:8080/"
        },
        "id": "HCl2agXuyr-F",
        "outputId": "b88b25f0-d22b-47f1-98cf-20d71ffd62e9"
      },
      "execution_count": 47,
      "outputs": [
        {
          "output_type": "stream",
          "name": "stdout",
          "text": [
            "Accuracy Score with XG is: 0.8916705559847216\n",
            "Accuracy STD with XG is: 0.008199804740186101\n",
            "AUC of XG: 0.8980841218054442\n",
            "AUC STD of XG: 0.011154935240258745\n"
          ]
        }
      ]
    },
    {
      "cell_type": "code",
      "source": [
        "#Evaluate on the Test Data Using XGBOOST\n",
        "XGboost = Pipeline([\n",
        "('imp_mean',SimpleImputer(missing_values=np.nan, strategy='mean')),\n",
        "('scaler', StandardScaler()),\n",
        "('norm', MinMaxScaler()),\n",
        "('XGB', XGBClassifier())])\n",
        "XGboost.fit(X_test, y_test)\n",
        "kfold = KFold(n_splits=10, random_state=11, shuffle=True)\n",
        "XGboost.fit(X_test, y_test)\n",
        "scores = cross_val_score(XGboost, X_test, y_test, cv = kfold, scoring=scoring)\n",
        "auc = cross_val_score(XGboost, X_test, y_test, cv = kfold, scoring='roc_auc')\n",
        "print(f\"Accuracy Score with {name} is: {scores.mean()}\")\n",
        "print(f\"Accuracy STD with {name} is: {scores.std()}\")\n",
        "print(f\"AUC of {name}: {auc.mean()}\")\n",
        "print(f\"AUC STD of {name}: {auc.std()}\")"
      ],
      "metadata": {
        "id": "0kvOJegCF7IT",
        "colab": {
          "base_uri": "https://localhost:8080/"
        },
        "outputId": "92099ebd-7991-487b-d329-70c24c32a67d"
      },
      "execution_count": 51,
      "outputs": [
        {
          "output_type": "stream",
          "name": "stdout",
          "text": [
            "Accuracy Score with XG is: 0.9043030835713763\n",
            "Accuracy STD with XG is: 0.012543557325884958\n",
            "AUC of XG: 0.9335273171382849\n",
            "AUC STD of XG: 0.01603421136301788\n"
          ]
        }
      ]
    },
    {
      "cell_type": "markdown",
      "source": [
        "##Task 8: Results\n",
        "\n",
        "Use the following text block to summarize your results.  How will you communicate the answer to your research question to stakeholders? "
      ],
      "metadata": {
        "id": "28NBPyS3pJKf"
      }
    },
    {
      "cell_type": "markdown",
      "source": [
        "**Task 8 Answer**\n",
        "\n",
        "Based on the results (accuracy and AUC) we can determine that we can use Machine Learning to predict which of our online shoppers will make purchase based on their browsing patterns."
      ],
      "metadata": {
        "id": "NlGxokmYpWrj"
      }
    },
    {
      "cell_type": "markdown",
      "metadata": {
        "id": "8POT-4gxChp8"
      },
      "source": [
        "#Part 2: Presentation \n",
        "\n"
      ]
    },
    {
      "cell_type": "markdown",
      "source": [
        "##Task 1: Slide Deck\n",
        "\n",
        "Create and present a slide deck to your classmates showing how you answered your research question.  You can find a Slide Template in the course materials or create your own.  The presentation should be about five minutes long."
      ],
      "metadata": {
        "id": "EgSqhfISBF1j"
      }
    },
    {
      "cell_type": "markdown",
      "source": [
        "##Task 2: Reflection\n",
        "\n",
        "Use the following text block to reflect on the project.  Did you run into anything that was particularly difficult?  What part(s) of the project did you enjoy most?  Did your results leave you with any new questions you'd investigate if you had more time?"
      ],
      "metadata": {
        "id": "eXzKsDjLChqE"
      }
    },
    {
      "cell_type": "markdown",
      "source": [
        "**Task 2 Answer** \n",
        "\n",
        "I really didn't like doing all the data wrangling.  That was tedious.  \n",
        "\n",
        "I thought it was interesting that adding the new lab values didn't add predictive ability to the mdoel.  I thought that it would.\n",
        "\n",
        "If I had more time, I would like to try using other classification models like KNN or tree-based models to see if my results might be different using one of those, especially because the accuracy of my model wasn't very good."
      ],
      "metadata": {
        "id": "LB42k9KkqVU-"
      }
    }
  ]
}